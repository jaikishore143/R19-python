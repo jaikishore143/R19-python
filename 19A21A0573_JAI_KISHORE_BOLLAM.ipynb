{
  "nbformat": 4,
  "nbformat_minor": 0,
  "metadata": {
    "colab": {
      "name": "19A21A0573-JAI KISHORE BOLLAM.ipynb",
      "provenance": [],
      "collapsed_sections": [],
      "include_colab_link": true
    },
    "kernelspec": {
      "display_name": "Python 3",
      "name": "python3"
    },
    "language_info": {
      "name": "python"
    }
  },
  "cells": [
    {
      "cell_type": "markdown",
      "metadata": {
        "id": "view-in-github",
        "colab_type": "text"
      },
      "source": [
        "<a href=\"https://colab.research.google.com/github/jaikishore143/R19-python/blob/main/19A21A0573_JAI_KISHORE_BOLLAM.ipynb\" target=\"_parent\"><img src=\"https://colab.research.google.com/assets/colab-badge.svg\" alt=\"Open In Colab\"/></a>"
      ]
    },
    {
      "cell_type": "markdown",
      "metadata": {
        "id": "xPRFnlzjS5yr"
      },
      "source": [
        "PythonProgramming Lab\n",
        "\n",
        "Name:-B.jai kishore `\n",
        "\n",
        "Reg.no:- 19A21A0573\n",
        "\n",
        "section:- CSE-B"
      ]
    },
    {
      "cell_type": "markdown",
      "metadata": {
        "id": "z7-IxN7KaMHT"
      },
      "source": [
        "# *exercise 1 *"
      ]
    },
    {
      "cell_type": "markdown",
      "metadata": {
        "id": "gH4DqUB_TXhk"
      },
      "source": [
        "AIM: a)Running instructions in interactive interpreter and a python script DESCRIPTION: Python is a high-level, interpreted, interactive and object-oriented scripting language. Python is designed to be highly readable. It uses English keywords frequently where as other languages use punctuation, and it has fewer syntactical constructions than other languages. Python is Interpreted\n",
        "\n",
        "Python is Interactive Python is Object-Oriented Python is a Beginner's Language Python Programming Running Python Scripts Running Python in THREE ways: a) Running Python Interpreter b) Running Python Scripts in IDLE c) Running python scripts in Command Prompt a) Running Python Interpreter: Python comes with an interactive interpreter. When you type python in your shell or command prompt, the python interpreter becomes active with a >>> prompt and waits for your commands b) Running Python Scripts in IDLE: . Go to File menu click on New File (CTRL+N) and write the code and save first.py c) Running python scripts in Command Prompt: ** **bold text · Before going to run we have to check the PATH in environment variables."
      ]
    },
    {
      "cell_type": "markdown",
      "metadata": {
        "id": "lmdGpll1sIe5"
      },
      "source": [
        "               \n",
        "a) Running instructions in Interactive interpreter and a python script.\n"
      ]
    },
    {
      "cell_type": "code",
      "metadata": {
        "colab": {
          "base_uri": "https://localhost:8080/"
        },
        "id": "JIxkbem1sMZu",
        "outputId": "a1f3f702-696e-46e7-ee01-687f808d2daa"
      },
      "source": [
        "print(\"Hello world,kishore\")\n"
      ],
      "execution_count": null,
      "outputs": [
        {
          "output_type": "stream",
          "name": "stdout",
          "text": [
            "Hello world,kishore\n"
          ]
        }
      ]
    },
    {
      "cell_type": "markdown",
      "metadata": {
        "id": "c78JGoZ9Ta5C"
      },
      "source": [
        "AIM: b)Write a program to purposefully raise Indentation Error and Correct it DESCRIPTION: Indentation Python does not support braces to indicate blocks of code for class and function definitions or flow control. Blocks of code are denoted by line indentation. All the continuous lines indented with same number of spaces would form a block. Python strictly follow indentation rules to indicate the blocks."
      ]
    },
    {
      "cell_type": "markdown",
      "metadata": {
        "id": "oTMYpVLdt-xG"
      },
      "source": [
        "b)write a program to purposefully raise indentation error and correct it"
      ]
    },
    {
      "cell_type": "code",
      "metadata": {
        "colab": {
          "base_uri": "https://localhost:8080/",
          "height": 131
        },
        "id": "ySZlm6Ezt8aR",
        "outputId": "1417d25b-c103-4c38-bc31-961e781b8b11"
      },
      "source": [
        "if True:\n",
        "print(\"True\")\n",
        "else\n",
        "Print(\"False\")"
      ],
      "execution_count": null,
      "outputs": [
        {
          "ename": "IndentationError",
          "evalue": "ignored",
          "output_type": "error",
          "traceback": [
            "\u001b[0;36m  File \u001b[0;32m\"<ipython-input-9-ed4587185ad0>\"\u001b[0;36m, line \u001b[0;32m2\u001b[0m\n\u001b[0;31m    print(\"True\")\u001b[0m\n\u001b[0m        ^\u001b[0m\n\u001b[0;31mIndentationError\u001b[0m\u001b[0;31m:\u001b[0m expected an indented block\n"
          ]
        }
      ]
    },
    {
      "cell_type": "code",
      "metadata": {
        "colab": {
          "base_uri": "https://localhost:8080/"
        },
        "id": "7otx5N3IumO7",
        "outputId": "725930cd-1771-4fd1-c664-327f0115a967"
      },
      "source": [
        "if True:\n",
        " print(\"True\")\n",
        "else:\n",
        " Print(\"False\")"
      ],
      "execution_count": null,
      "outputs": [
        {
          "name": "stdout",
          "output_type": "stream",
          "text": [
            "True\n"
          ]
        }
      ]
    },
    {
      "cell_type": "code",
      "metadata": {
        "colab": {
          "base_uri": "https://localhost:8080/",
          "height": 131
        },
        "id": "uNtsOC5Tux6a",
        "outputId": "ae1aa75e-25fa-4d49-c2ae-c32464cf5b96"
      },
      "source": [
        "if True:\n",
        "  print(\"True1\")\n",
        "     print(\"True2\")\n",
        "else:\n",
        "  Print(\"False1\")\n",
        "\n"
      ],
      "execution_count": null,
      "outputs": [
        {
          "ename": "IndentationError",
          "evalue": "ignored",
          "output_type": "error",
          "traceback": [
            "\u001b[0;36m  File \u001b[0;32m\"<ipython-input-15-0de45ce0013a>\"\u001b[0;36m, line \u001b[0;32m3\u001b[0m\n\u001b[0;31m    print(\"True2\")\u001b[0m\n\u001b[0m    ^\u001b[0m\n\u001b[0;31mIndentationError\u001b[0m\u001b[0;31m:\u001b[0m unexpected indent\n"
          ]
        }
      ]
    },
    {
      "cell_type": "code",
      "metadata": {
        "colab": {
          "base_uri": "https://localhost:8080/"
        },
        "id": "aJioOvUBvbMP",
        "outputId": "c340a2c5-72e7-4c0e-a25a-c5524083d5ab"
      },
      "source": [
        "if True:\n",
        "  print(\"True1\")\n",
        "  print(\"True2\")\n",
        "else:\n",
        "  Print(\"False1\")\n",
        "  \n"
      ],
      "execution_count": null,
      "outputs": [
        {
          "name": "stdout",
          "output_type": "stream",
          "text": [
            "True1\n",
            "True2\n"
          ]
        }
      ]
    },
    {
      "cell_type": "markdown",
      "metadata": {
        "id": "wRSBX0V_aWxm"
      },
      "source": [
        "# exercise:2"
      ]
    },
    {
      "cell_type": "markdown",
      "metadata": {
        "id": "f3M7OeDfTe_c"
      },
      "source": [
        " AIM: a) write a program to compute distance between 2 points by taking inputs DESCRIPTION:\n",
        "\n",
        "Taking Input From the User: A function is defined as a block of organized, reusable code used to perform a single, related action. Python has many built-in functions; you can also create your own. Python has an input function which lets you ask a user for some text input. You call this function to tell the program to stop and wait for the user to key in the data. In Python 2, you have a built-in function raw_input(), whereas in Python 3, you have input(). The program will resume once the user presses the ENTER or RETURN key. Input Function input(prompt=None,/). Read a string from standard input. The trailing newline is stripped. The prompt string, if given, is printed to standard output without a trailing newline before reading input. If the user hits EOF (*nix: Ctrl-D, Windows: Ctrl Z+Return), raise EOFError."
      ]
    },
    {
      "cell_type": "markdown",
      "metadata": {
        "id": "s100jCVgx8vO"
      },
      "source": [
        "exercise 2\n",
        "\n",
        "a) write a program to compute distance between two points taking input from the user.\n"
      ]
    },
    {
      "cell_type": "code",
      "metadata": {
        "colab": {
          "base_uri": "https://localhost:8080/"
        },
        "id": "SywcfQZOyiiN",
        "outputId": "2046717e-c1c4-4aaa-b890-c349fc61162b"
      },
      "source": [
        "import math\n",
        "x1=int(input(\"Enter x1 value:\"))\n",
        "x2=int(input(\"Enter x2 value:\"))\n",
        "y1=int(input(\"Enter y1 value:\"))\n",
        "y2=int(input(\"Enter y2 value:\"))\n",
        "d=math.sqrt(((x2-x1)**2)+((y2-y1)**2))\n",
        "print(\"distance of two points\",d)"
      ],
      "execution_count": null,
      "outputs": [
        {
          "name": "stdout",
          "output_type": "stream",
          "text": [
            "Enter x1 value:10\n",
            "Enter x2 value:5\n",
            "Enter y1 value:8\n",
            "Enter y2 value:6\n",
            "distance of two points 5.385164807134504\n"
          ]
        }
      ]
    },
    {
      "cell_type": "markdown",
      "metadata": {
        "id": "YXq2MuaZTjTz"
      },
      "source": [
        "AIM: b) Write a program add.py that takes 2 numbers as command line arguments and prints its sum DESCRIPTION: The arguments that are given after the name of the program in the command line shell of the operating system are known as Command Line Arguments. Python provides various ways of dealing with these types of arguments. The three most common are: Using sys.argv Using getopt module Using argparse module Using sys.argv The sys module provides functions and variables used to manipulate different parts of the Python runtime environment. This module provides access to some variables used or maintained by the interpreter and to functions that interact strongly with the interpreter. One such variable is sys.argv which is a simple list structure. It’s main purpose are: It is a list of command line arguments. len(sys.argv) provides the number of command line arguments. sys.argv[0] is the name of the current Python script."
      ]
    },
    {
      "cell_type": "markdown",
      "metadata": {
        "id": "7ShHn37bzxoR"
      },
      "source": [
        "b)write a program add.py that takes 2 numbers as command line arguments and prints its sum\n"
      ]
    },
    {
      "cell_type": "code",
      "metadata": {
        "colab": {
          "base_uri": "https://localhost:8080/",
          "height": 235
        },
        "id": "q7RJPjmFzxR6",
        "outputId": "6ca06b67-3397-453f-fdb2-efe13e2712fa"
      },
      "source": [
        "import sys \n",
        "a=int(sys.argv[1])\n",
        "b=int(sys.argv[2])\n",
        "sum= a+b\n",
        "print|(\"sum of two numbers is:\",sum)"
      ],
      "execution_count": null,
      "outputs": [
        {
          "ename": "ValueError",
          "evalue": "ignored",
          "output_type": "error",
          "traceback": [
            "\u001b[0;31m---------------------------------------------------------------------------\u001b[0m",
            "\u001b[0;31mValueError\u001b[0m                                Traceback (most recent call last)",
            "\u001b[0;32m<ipython-input-18-729a19c8ca76>\u001b[0m in \u001b[0;36m<module>\u001b[0;34m()\u001b[0m\n\u001b[1;32m      1\u001b[0m \u001b[0;32mimport\u001b[0m \u001b[0msys\u001b[0m\u001b[0;34m\u001b[0m\u001b[0;34m\u001b[0m\u001b[0m\n\u001b[0;32m----> 2\u001b[0;31m \u001b[0ma\u001b[0m\u001b[0;34m=\u001b[0m\u001b[0mint\u001b[0m\u001b[0;34m(\u001b[0m\u001b[0msys\u001b[0m\u001b[0;34m.\u001b[0m\u001b[0margv\u001b[0m\u001b[0;34m[\u001b[0m\u001b[0;36m1\u001b[0m\u001b[0;34m]\u001b[0m\u001b[0;34m)\u001b[0m\u001b[0;34m\u001b[0m\u001b[0;34m\u001b[0m\u001b[0m\n\u001b[0m\u001b[1;32m      3\u001b[0m \u001b[0mb\u001b[0m\u001b[0;34m=\u001b[0m\u001b[0mint\u001b[0m\u001b[0;34m(\u001b[0m\u001b[0msys\u001b[0m\u001b[0;34m.\u001b[0m\u001b[0margv\u001b[0m\u001b[0;34m[\u001b[0m\u001b[0;36m2\u001b[0m\u001b[0;34m]\u001b[0m\u001b[0;34m)\u001b[0m\u001b[0;34m\u001b[0m\u001b[0;34m\u001b[0m\u001b[0m\n\u001b[1;32m      4\u001b[0m \u001b[0msum\u001b[0m\u001b[0;34m=\u001b[0m \u001b[0ma\u001b[0m\u001b[0;34m+\u001b[0m\u001b[0mb\u001b[0m\u001b[0;34m\u001b[0m\u001b[0;34m\u001b[0m\u001b[0m\n\u001b[1;32m      5\u001b[0m \u001b[0mprint\u001b[0m\u001b[0;34m|\u001b[0m\u001b[0;34m(\u001b[0m\u001b[0;34m\"sum of two numbers is:\"\u001b[0m\u001b[0;34m,\u001b[0m\u001b[0msum\u001b[0m\u001b[0;34m)\u001b[0m\u001b[0;34m\u001b[0m\u001b[0;34m\u001b[0m\u001b[0m\n",
            "\u001b[0;31mValueError\u001b[0m: invalid literal for int() with base 10: '-f'"
          ]
        }
      ]
    },
    {
      "cell_type": "markdown",
      "metadata": {
        "id": "FtFUD5YBacxT"
      },
      "source": [
        "# exercise 3:"
      ]
    },
    {
      "cell_type": "markdown",
      "metadata": {
        "id": "2wU-gy0lTruu"
      },
      "source": [
        "  AIM: a) write a program to find the given number is even or odd DESCRIPTION: if..else Statement When there is an alternate operation in control flow, use an else statement alongside with if statement"
      ]
    },
    {
      "cell_type": "markdown",
      "metadata": {
        "id": "QttvoonN0pmi"
      },
      "source": [
        "Exercise 3\n",
        "\n",
        "a) write a program for checking whether given number is even number or not\n"
      ]
    },
    {
      "cell_type": "code",
      "metadata": {
        "colab": {
          "base_uri": "https://localhost:8080/"
        },
        "id": "aiSQ_GgF0EJA",
        "outputId": "51cca6e6-b838-4d77-bc12-508e208e7f62"
      },
      "source": [
        "n=int(input(\"enter a number\"))\n",
        "if n%2==0:\n",
        "   print(\"given number is even\")\n",
        "else:\n",
        "  print(\"given number is odd\")"
      ],
      "execution_count": null,
      "outputs": [
        {
          "name": "stdout",
          "output_type": "stream",
          "text": [
            "enter a number11\n",
            "given number is odd\n"
          ]
        }
      ]
    },
    {
      "cell_type": "markdown",
      "metadata": {
        "id": "hqmc2iQaTwkR"
      },
      "source": [
        "AIM: b) Using a for loop, write a program that prints out the decimal equivalents of 1/2, 1/3, 1/4, . . .1/10 DESCRIPTION For Loop: For loops can iterate over a sequence of numbers using the \"range\" and \"xrange\" functions. The difference between range and xrange is that the range function returns a new list with numbers of that specified range, whereas xrange returns an iterator, which is more eficient. The general format is for x in range(start,stop,step): statements"
      ]
    },
    {
      "cell_type": "markdown",
      "metadata": {
        "id": "LY6XZpbx1Z3g"
      },
      "source": [
        "b) using a for loop,write a program that prints out the decimal equivalents of 1/2,1/3,1/4,...1/10."
      ]
    },
    {
      "cell_type": "code",
      "metadata": {
        "colab": {
          "base_uri": "https://localhost:8080/"
        },
        "id": "koyg6Zp02ha9",
        "outputId": "0f9a943c-ffcd-449f-b9d2-726137c7224b"
      },
      "source": [
        "n=int(input(\"Enter a number\"))\n",
        "for i in range(2,n):\n",
        "  de=1/i\n",
        "  print(\"1/\"+str(i)+\"=\",de)"
      ],
      "execution_count": null,
      "outputs": [
        {
          "name": "stdout",
          "output_type": "stream",
          "text": [
            "Enter a number10\n",
            "1/2= 0.5\n",
            "1/3= 0.3333333333333333\n",
            "1/4= 0.25\n",
            "1/5= 0.2\n",
            "1/6= 0.16666666666666666\n",
            "1/7= 0.14285714285714285\n",
            "1/8= 0.125\n",
            "1/9= 0.1111111111111111\n"
          ]
        }
      ]
    },
    {
      "cell_type": "markdown",
      "metadata": {
        "id": "kjfbNLVQT0Cv"
      },
      "source": [
        "AIM: c) Write a program using a for loop that loops over a sequence. What is sequence? DESCRIPTION: For Loop: For loops can iterate over a sequence of numbers using the \"range\" and \"xrange\" functions. The difference between range and xrange is that the range function returns a new list with numbers of that specified range, whereas xrange returns an iterator, which is more eficient. The general format is for x in range(start,stop,step): statements"
      ]
    },
    {
      "cell_type": "markdown",
      "metadata": {
        "id": "N3gCyEny3eCb"
      },
      "source": [
        "c) write a program using a for loop that loops over a sequence. what is sequence?"
      ]
    },
    {
      "cell_type": "code",
      "metadata": {
        "colab": {
          "base_uri": "https://localhost:8080/"
        },
        "id": "DEa6HEkt3dkL",
        "outputId": "1bc12594-8c2f-430d-cb74-7a9bd1bc695f"
      },
      "source": [
        "arr=[4,\"abc\",-45,'C',10.5,True,5,10.6,'xyz']\n",
        "print(\"Given array:\",arr)\n",
        "for x in arr:\n",
        "  print(x)"
      ],
      "execution_count": null,
      "outputs": [
        {
          "name": "stdout",
          "output_type": "stream",
          "text": [
            "Given array: [4, 'abc', -45, 'C', 10.5, True, 5, 10.6, 'xyz']\n",
            "4\n",
            "abc\n",
            "-45\n",
            "C\n",
            "10.5\n",
            "True\n",
            "5\n",
            "10.6\n",
            "xyz\n"
          ]
        }
      ]
    },
    {
      "cell_type": "markdown",
      "metadata": {
        "id": "H78-trZRT3kv"
      },
      "source": [
        "AIM: D) Write a program using a while loop that asks the user for a number, and prints a countdownfrom that number to zero. DESCRIPTION: While Loop is used to execute a block of statements repeatedly until a given condition is satisfied. And when the condition becomes false, the line immediately after the loop in the program is executed. While loop falls under the category of indefinite iteration The syntax for a while loop is: while [ condition]"
      ]
    },
    {
      "cell_type": "markdown",
      "metadata": {
        "id": "8AYh5vEc42JZ"
      },
      "source": [
        "d) write a program using a while loop that asks the user for a number, and prints a countdown from that number to zero"
      ]
    },
    {
      "cell_type": "code",
      "metadata": {
        "colab": {
          "base_uri": "https://localhost:8080/"
        },
        "id": "gq6jQMhH5Ej7",
        "outputId": "bb5e844f-3302-410b-c426-136a12423128"
      },
      "source": [
        "n=int(input(\"enter value of n:\"))\n",
        "while n>=0:\n",
        "  print(n)\n",
        "  n-=1"
      ],
      "execution_count": null,
      "outputs": [
        {
          "name": "stdout",
          "output_type": "stream",
          "text": [
            "enter value of n:10\n",
            "10\n",
            "9\n",
            "8\n",
            "7\n",
            "6\n",
            "5\n",
            "4\n",
            "3\n",
            "2\n",
            "1\n",
            "0\n"
          ]
        }
      ]
    },
    {
      "cell_type": "markdown",
      "metadata": {
        "id": "KLqAAiuaaneg"
      },
      "source": [
        "# exercise 4: "
      ]
    },
    {
      "cell_type": "markdown",
      "metadata": {
        "id": "ZjEjoj0gT7Ml"
      },
      "source": [
        " AIM: a) Find the sum of all the primes below two million. Each new term in the Fibonacci sequence is generated by adding the previous two terms. Bystarting with 1 and 2, the first 10 terms will be: 1, 2, 3, 5, 8, 13, 21, 34, 55, 89, ... DESCRIPTION: A Fibonacci sequence is the integer sequence of 0, 1, 1, 2, 3, 5, 8.... The first two terms are 0 and 1. All other terms are obtained by adding the preceding two terms. This means to say the nth term is the sum of (n-1)th and (n-2)th term Here, we store the number of terms in nterms. We initialize the first term to 0 and the second term to 1. If the number of terms is more than 2, we use a while loop to find the next term in the sequence by adding the preceding two terms. We then interchange the variables (update it) and continue on with the process."
      ]
    },
    {
      "cell_type": "markdown",
      "metadata": {
        "id": "zMahESCu5_14"
      },
      "source": [
        "exercise 4\n",
        "\n",
        "a) find the sum of all the primes below two million"
      ]
    },
    {
      "cell_type": "code",
      "metadata": {
        "colab": {
          "base_uri": "https://localhost:8080/"
        },
        "id": "WFVr62fg6-HW",
        "outputId": "129d4367-6335-4926-c1e4-37abb5047e31"
      },
      "source": [
        "n=int(input(\"enter an ending number:\"))\n",
        "st=\"\"\n",
        "sum=0\n",
        "for i in range(2,n):\n",
        "  state=True\n",
        "  for j in range(2,i):\n",
        "    if(i%j)==0:\n",
        "      state=False\n",
        "      break;\n",
        "      if state==True:\n",
        "        st+=\" \"+str(i)\n",
        "        sum+=i\n",
        "\n",
        "print(\"prime numbers:\")\n",
        "print(st)\n",
        "print(\"sum of the prime NUmbers:\",sum)"
      ],
      "execution_count": null,
      "outputs": [
        {
          "name": "stdout",
          "output_type": "stream",
          "text": [
            "enter an ending number:100\n",
            "prime numbers:\n",
            "\n",
            "sum of the prime NUmbers: 0\n"
          ]
        }
      ]
    },
    {
      "cell_type": "markdown",
      "metadata": {
        "id": "0c24JR6PUBre"
      },
      "source": [
        "AIM: b) Each new term in the Fibonacci sequence is generated by adding the previous two terms. By starting with 1 and 2, the first 10 terms will be: 1, 2, 3, 5, 8, 13, 21, 34, 55,89"
      ]
    },
    {
      "cell_type": "code",
      "metadata": {
        "colab": {
          "base_uri": "https://localhost:8080/"
        },
        "id": "nVuWrc3xfXUx",
        "outputId": "d77698fa-772f-420f-dfdc-9169d2afeb2b"
      },
      "source": [
        "#sum of all the primes of given number below \n",
        "n=int(input(\"Enter an Ending Number: \"))\n",
        "st=\"\"\n",
        "sum=0\n",
        "for i in range(2,n):\n",
        "  state=True\n",
        "  for j in range(2,i):\n",
        "    if(i%j)==0:\n",
        "      state=False\n",
        "      break;\n",
        "  if state==True:\n",
        "    st+=\" \"+str(i)\n",
        "    sum+=i\n",
        "  print(\"Prime numbers :\")\n",
        "  print(st)\n",
        "  print(\"Sum of the prime numbers : \",sum)"
      ],
      "execution_count": null,
      "outputs": [
        {
          "name": "stdout",
          "output_type": "stream",
          "text": [
            "Enter an Ending Number: 100\n",
            "Prime numbers :\n",
            " 2\n",
            "Sum of the prime numbers :  2\n",
            "Prime numbers :\n",
            " 2 3\n",
            "Sum of the prime numbers :  5\n",
            "Prime numbers :\n",
            " 2 3\n",
            "Sum of the prime numbers :  5\n",
            "Prime numbers :\n",
            " 2 3 5\n",
            "Sum of the prime numbers :  10\n",
            "Prime numbers :\n",
            " 2 3 5\n",
            "Sum of the prime numbers :  10\n",
            "Prime numbers :\n",
            " 2 3 5 7\n",
            "Sum of the prime numbers :  17\n",
            "Prime numbers :\n",
            " 2 3 5 7\n",
            "Sum of the prime numbers :  17\n",
            "Prime numbers :\n",
            " 2 3 5 7\n",
            "Sum of the prime numbers :  17\n",
            "Prime numbers :\n",
            " 2 3 5 7\n",
            "Sum of the prime numbers :  17\n",
            "Prime numbers :\n",
            " 2 3 5 7 11\n",
            "Sum of the prime numbers :  28\n",
            "Prime numbers :\n",
            " 2 3 5 7 11\n",
            "Sum of the prime numbers :  28\n",
            "Prime numbers :\n",
            " 2 3 5 7 11 13\n",
            "Sum of the prime numbers :  41\n",
            "Prime numbers :\n",
            " 2 3 5 7 11 13\n",
            "Sum of the prime numbers :  41\n",
            "Prime numbers :\n",
            " 2 3 5 7 11 13\n",
            "Sum of the prime numbers :  41\n",
            "Prime numbers :\n",
            " 2 3 5 7 11 13\n",
            "Sum of the prime numbers :  41\n",
            "Prime numbers :\n",
            " 2 3 5 7 11 13 17\n",
            "Sum of the prime numbers :  58\n",
            "Prime numbers :\n",
            " 2 3 5 7 11 13 17\n",
            "Sum of the prime numbers :  58\n",
            "Prime numbers :\n",
            " 2 3 5 7 11 13 17 19\n",
            "Sum of the prime numbers :  77\n",
            "Prime numbers :\n",
            " 2 3 5 7 11 13 17 19\n",
            "Sum of the prime numbers :  77\n",
            "Prime numbers :\n",
            " 2 3 5 7 11 13 17 19\n",
            "Sum of the prime numbers :  77\n",
            "Prime numbers :\n",
            " 2 3 5 7 11 13 17 19\n",
            "Sum of the prime numbers :  77\n",
            "Prime numbers :\n",
            " 2 3 5 7 11 13 17 19 23\n",
            "Sum of the prime numbers :  100\n",
            "Prime numbers :\n",
            " 2 3 5 7 11 13 17 19 23\n",
            "Sum of the prime numbers :  100\n",
            "Prime numbers :\n",
            " 2 3 5 7 11 13 17 19 23\n",
            "Sum of the prime numbers :  100\n",
            "Prime numbers :\n",
            " 2 3 5 7 11 13 17 19 23\n",
            "Sum of the prime numbers :  100\n",
            "Prime numbers :\n",
            " 2 3 5 7 11 13 17 19 23\n",
            "Sum of the prime numbers :  100\n",
            "Prime numbers :\n",
            " 2 3 5 7 11 13 17 19 23\n",
            "Sum of the prime numbers :  100\n",
            "Prime numbers :\n",
            " 2 3 5 7 11 13 17 19 23 29\n",
            "Sum of the prime numbers :  129\n",
            "Prime numbers :\n",
            " 2 3 5 7 11 13 17 19 23 29\n",
            "Sum of the prime numbers :  129\n",
            "Prime numbers :\n",
            " 2 3 5 7 11 13 17 19 23 29 31\n",
            "Sum of the prime numbers :  160\n",
            "Prime numbers :\n",
            " 2 3 5 7 11 13 17 19 23 29 31\n",
            "Sum of the prime numbers :  160\n",
            "Prime numbers :\n",
            " 2 3 5 7 11 13 17 19 23 29 31\n",
            "Sum of the prime numbers :  160\n",
            "Prime numbers :\n",
            " 2 3 5 7 11 13 17 19 23 29 31\n",
            "Sum of the prime numbers :  160\n",
            "Prime numbers :\n",
            " 2 3 5 7 11 13 17 19 23 29 31\n",
            "Sum of the prime numbers :  160\n",
            "Prime numbers :\n",
            " 2 3 5 7 11 13 17 19 23 29 31\n",
            "Sum of the prime numbers :  160\n",
            "Prime numbers :\n",
            " 2 3 5 7 11 13 17 19 23 29 31 37\n",
            "Sum of the prime numbers :  197\n",
            "Prime numbers :\n",
            " 2 3 5 7 11 13 17 19 23 29 31 37\n",
            "Sum of the prime numbers :  197\n",
            "Prime numbers :\n",
            " 2 3 5 7 11 13 17 19 23 29 31 37\n",
            "Sum of the prime numbers :  197\n",
            "Prime numbers :\n",
            " 2 3 5 7 11 13 17 19 23 29 31 37\n",
            "Sum of the prime numbers :  197\n",
            "Prime numbers :\n",
            " 2 3 5 7 11 13 17 19 23 29 31 37 41\n",
            "Sum of the prime numbers :  238\n",
            "Prime numbers :\n",
            " 2 3 5 7 11 13 17 19 23 29 31 37 41\n",
            "Sum of the prime numbers :  238\n",
            "Prime numbers :\n",
            " 2 3 5 7 11 13 17 19 23 29 31 37 41 43\n",
            "Sum of the prime numbers :  281\n",
            "Prime numbers :\n",
            " 2 3 5 7 11 13 17 19 23 29 31 37 41 43\n",
            "Sum of the prime numbers :  281\n",
            "Prime numbers :\n",
            " 2 3 5 7 11 13 17 19 23 29 31 37 41 43\n",
            "Sum of the prime numbers :  281\n",
            "Prime numbers :\n",
            " 2 3 5 7 11 13 17 19 23 29 31 37 41 43\n",
            "Sum of the prime numbers :  281\n",
            "Prime numbers :\n",
            " 2 3 5 7 11 13 17 19 23 29 31 37 41 43 47\n",
            "Sum of the prime numbers :  328\n",
            "Prime numbers :\n",
            " 2 3 5 7 11 13 17 19 23 29 31 37 41 43 47\n",
            "Sum of the prime numbers :  328\n",
            "Prime numbers :\n",
            " 2 3 5 7 11 13 17 19 23 29 31 37 41 43 47\n",
            "Sum of the prime numbers :  328\n",
            "Prime numbers :\n",
            " 2 3 5 7 11 13 17 19 23 29 31 37 41 43 47\n",
            "Sum of the prime numbers :  328\n",
            "Prime numbers :\n",
            " 2 3 5 7 11 13 17 19 23 29 31 37 41 43 47\n",
            "Sum of the prime numbers :  328\n",
            "Prime numbers :\n",
            " 2 3 5 7 11 13 17 19 23 29 31 37 41 43 47\n",
            "Sum of the prime numbers :  328\n",
            "Prime numbers :\n",
            " 2 3 5 7 11 13 17 19 23 29 31 37 41 43 47 53\n",
            "Sum of the prime numbers :  381\n",
            "Prime numbers :\n",
            " 2 3 5 7 11 13 17 19 23 29 31 37 41 43 47 53\n",
            "Sum of the prime numbers :  381\n",
            "Prime numbers :\n",
            " 2 3 5 7 11 13 17 19 23 29 31 37 41 43 47 53\n",
            "Sum of the prime numbers :  381\n",
            "Prime numbers :\n",
            " 2 3 5 7 11 13 17 19 23 29 31 37 41 43 47 53\n",
            "Sum of the prime numbers :  381\n",
            "Prime numbers :\n",
            " 2 3 5 7 11 13 17 19 23 29 31 37 41 43 47 53\n",
            "Sum of the prime numbers :  381\n",
            "Prime numbers :\n",
            " 2 3 5 7 11 13 17 19 23 29 31 37 41 43 47 53\n",
            "Sum of the prime numbers :  381\n",
            "Prime numbers :\n",
            " 2 3 5 7 11 13 17 19 23 29 31 37 41 43 47 53 59\n",
            "Sum of the prime numbers :  440\n",
            "Prime numbers :\n",
            " 2 3 5 7 11 13 17 19 23 29 31 37 41 43 47 53 59\n",
            "Sum of the prime numbers :  440\n",
            "Prime numbers :\n",
            " 2 3 5 7 11 13 17 19 23 29 31 37 41 43 47 53 59 61\n",
            "Sum of the prime numbers :  501\n",
            "Prime numbers :\n",
            " 2 3 5 7 11 13 17 19 23 29 31 37 41 43 47 53 59 61\n",
            "Sum of the prime numbers :  501\n",
            "Prime numbers :\n",
            " 2 3 5 7 11 13 17 19 23 29 31 37 41 43 47 53 59 61\n",
            "Sum of the prime numbers :  501\n",
            "Prime numbers :\n",
            " 2 3 5 7 11 13 17 19 23 29 31 37 41 43 47 53 59 61\n",
            "Sum of the prime numbers :  501\n",
            "Prime numbers :\n",
            " 2 3 5 7 11 13 17 19 23 29 31 37 41 43 47 53 59 61\n",
            "Sum of the prime numbers :  501\n",
            "Prime numbers :\n",
            " 2 3 5 7 11 13 17 19 23 29 31 37 41 43 47 53 59 61\n",
            "Sum of the prime numbers :  501\n",
            "Prime numbers :\n",
            " 2 3 5 7 11 13 17 19 23 29 31 37 41 43 47 53 59 61 67\n",
            "Sum of the prime numbers :  568\n",
            "Prime numbers :\n",
            " 2 3 5 7 11 13 17 19 23 29 31 37 41 43 47 53 59 61 67\n",
            "Sum of the prime numbers :  568\n",
            "Prime numbers :\n",
            " 2 3 5 7 11 13 17 19 23 29 31 37 41 43 47 53 59 61 67\n",
            "Sum of the prime numbers :  568\n",
            "Prime numbers :\n",
            " 2 3 5 7 11 13 17 19 23 29 31 37 41 43 47 53 59 61 67\n",
            "Sum of the prime numbers :  568\n",
            "Prime numbers :\n",
            " 2 3 5 7 11 13 17 19 23 29 31 37 41 43 47 53 59 61 67 71\n",
            "Sum of the prime numbers :  639\n",
            "Prime numbers :\n",
            " 2 3 5 7 11 13 17 19 23 29 31 37 41 43 47 53 59 61 67 71\n",
            "Sum of the prime numbers :  639\n",
            "Prime numbers :\n",
            " 2 3 5 7 11 13 17 19 23 29 31 37 41 43 47 53 59 61 67 71 73\n",
            "Sum of the prime numbers :  712\n",
            "Prime numbers :\n",
            " 2 3 5 7 11 13 17 19 23 29 31 37 41 43 47 53 59 61 67 71 73\n",
            "Sum of the prime numbers :  712\n",
            "Prime numbers :\n",
            " 2 3 5 7 11 13 17 19 23 29 31 37 41 43 47 53 59 61 67 71 73\n",
            "Sum of the prime numbers :  712\n",
            "Prime numbers :\n",
            " 2 3 5 7 11 13 17 19 23 29 31 37 41 43 47 53 59 61 67 71 73\n",
            "Sum of the prime numbers :  712\n",
            "Prime numbers :\n",
            " 2 3 5 7 11 13 17 19 23 29 31 37 41 43 47 53 59 61 67 71 73\n",
            "Sum of the prime numbers :  712\n",
            "Prime numbers :\n",
            " 2 3 5 7 11 13 17 19 23 29 31 37 41 43 47 53 59 61 67 71 73\n",
            "Sum of the prime numbers :  712\n",
            "Prime numbers :\n",
            " 2 3 5 7 11 13 17 19 23 29 31 37 41 43 47 53 59 61 67 71 73 79\n",
            "Sum of the prime numbers :  791\n",
            "Prime numbers :\n",
            " 2 3 5 7 11 13 17 19 23 29 31 37 41 43 47 53 59 61 67 71 73 79\n",
            "Sum of the prime numbers :  791\n",
            "Prime numbers :\n",
            " 2 3 5 7 11 13 17 19 23 29 31 37 41 43 47 53 59 61 67 71 73 79\n",
            "Sum of the prime numbers :  791\n",
            "Prime numbers :\n",
            " 2 3 5 7 11 13 17 19 23 29 31 37 41 43 47 53 59 61 67 71 73 79\n",
            "Sum of the prime numbers :  791\n",
            "Prime numbers :\n",
            " 2 3 5 7 11 13 17 19 23 29 31 37 41 43 47 53 59 61 67 71 73 79 83\n",
            "Sum of the prime numbers :  874\n",
            "Prime numbers :\n",
            " 2 3 5 7 11 13 17 19 23 29 31 37 41 43 47 53 59 61 67 71 73 79 83\n",
            "Sum of the prime numbers :  874\n",
            "Prime numbers :\n",
            " 2 3 5 7 11 13 17 19 23 29 31 37 41 43 47 53 59 61 67 71 73 79 83\n",
            "Sum of the prime numbers :  874\n",
            "Prime numbers :\n",
            " 2 3 5 7 11 13 17 19 23 29 31 37 41 43 47 53 59 61 67 71 73 79 83\n",
            "Sum of the prime numbers :  874\n",
            "Prime numbers :\n",
            " 2 3 5 7 11 13 17 19 23 29 31 37 41 43 47 53 59 61 67 71 73 79 83\n",
            "Sum of the prime numbers :  874\n",
            "Prime numbers :\n",
            " 2 3 5 7 11 13 17 19 23 29 31 37 41 43 47 53 59 61 67 71 73 79 83\n",
            "Sum of the prime numbers :  874\n",
            "Prime numbers :\n",
            " 2 3 5 7 11 13 17 19 23 29 31 37 41 43 47 53 59 61 67 71 73 79 83 89\n",
            "Sum of the prime numbers :  963\n",
            "Prime numbers :\n",
            " 2 3 5 7 11 13 17 19 23 29 31 37 41 43 47 53 59 61 67 71 73 79 83 89\n",
            "Sum of the prime numbers :  963\n",
            "Prime numbers :\n",
            " 2 3 5 7 11 13 17 19 23 29 31 37 41 43 47 53 59 61 67 71 73 79 83 89\n",
            "Sum of the prime numbers :  963\n",
            "Prime numbers :\n",
            " 2 3 5 7 11 13 17 19 23 29 31 37 41 43 47 53 59 61 67 71 73 79 83 89\n",
            "Sum of the prime numbers :  963\n",
            "Prime numbers :\n",
            " 2 3 5 7 11 13 17 19 23 29 31 37 41 43 47 53 59 61 67 71 73 79 83 89\n",
            "Sum of the prime numbers :  963\n",
            "Prime numbers :\n",
            " 2 3 5 7 11 13 17 19 23 29 31 37 41 43 47 53 59 61 67 71 73 79 83 89\n",
            "Sum of the prime numbers :  963\n",
            "Prime numbers :\n",
            " 2 3 5 7 11 13 17 19 23 29 31 37 41 43 47 53 59 61 67 71 73 79 83 89\n",
            "Sum of the prime numbers :  963\n",
            "Prime numbers :\n",
            " 2 3 5 7 11 13 17 19 23 29 31 37 41 43 47 53 59 61 67 71 73 79 83 89\n",
            "Sum of the prime numbers :  963\n",
            "Prime numbers :\n",
            " 2 3 5 7 11 13 17 19 23 29 31 37 41 43 47 53 59 61 67 71 73 79 83 89 97\n",
            "Sum of the prime numbers :  1060\n",
            "Prime numbers :\n",
            " 2 3 5 7 11 13 17 19 23 29 31 37 41 43 47 53 59 61 67 71 73 79 83 89 97\n",
            "Sum of the prime numbers :  1060\n",
            "Prime numbers :\n",
            " 2 3 5 7 11 13 17 19 23 29 31 37 41 43 47 53 59 61 67 71 73 79 83 89 97\n",
            "Sum of the prime numbers :  1060\n"
          ]
        }
      ]
    },
    {
      "cell_type": "markdown",
      "metadata": {
        "id": "ReKPpNlo8lEr"
      },
      "source": [
        "b) Each new term in the Fibonacci sequence is generated by adding the previous two terms.By starting with 1 and 2,the first 10 terms will be :1,2,3,5,8,13,21,34,55,89..."
      ]
    },
    {
      "cell_type": "markdown",
      "metadata": {
        "id": "tgYLQe_TU0hC"
      },
      "source": [
        "AIM: b) Each new term in the Fibonacci sequence is generated by adding the previous two terms. By starting with 1 and 2, the first 10 terms will be: 1, 2, 3, 5, 8, 13, 21, 34, 55,89"
      ]
    },
    {
      "cell_type": "code",
      "metadata": {
        "colab": {
          "base_uri": "https://localhost:8080/"
        },
        "id": "cv7R_jw_92Fq",
        "outputId": "5b3f7674-ee41-473f-f24c-b8abe1a0834b"
      },
      "source": [
        "n=int(input(\"enter value of n \"))\n",
        "a=0\n",
        "b=1\n",
        "c=a+b\n",
        "while c<n:\n",
        "  print(c,end=' ')\n",
        "  a=b\n",
        "  b=c\n",
        "  c=a+b\n"
      ],
      "execution_count": null,
      "outputs": [
        {
          "name": "stdout",
          "output_type": "stream",
          "text": [
            "enter value of n 1000\n",
            "1 2 3 5 8 13 21 34 55 89 144 233 377 610 987 "
          ]
        }
      ]
    },
    {
      "cell_type": "markdown",
      "metadata": {
        "id": "CDFWepNfULVP"
      },
      "source": [
        " AIM: c) By considering the terms in the Fibonacci sequence whose values do not exceed\n",
        "\n",
        "million, find the sum of the even-valued terms. DESCRIPTION: A Fibonacci sequence is the integer sequence of 0, 1, 1, 2, 3, 5, 8.... The first two terms are 0 and 1. All other terms are obtained by adding the preceding two terms. This means to say the nth term is the sum of (n-1)th and (n-2)th term Here, we store the number of terms in nterms. We initialize the first term to 0 and the second term to 1. If the number of terms is more than 2, we use a while loop to find the next term in the sequence by adding the preceding two terms. We then interchange the variables (update it) and continue on with the process."
      ]
    },
    {
      "cell_type": "markdown",
      "metadata": {
        "id": "ZZn_SMcRjnCH"
      },
      "source": [
        "(c) By considering the terms in the fibinacci sequence whose values do not exceed four million,find the sum of the even-valued terms."
      ]
    },
    {
      "cell_type": "code",
      "metadata": {
        "colab": {
          "base_uri": "https://localhost:8080/"
        },
        "id": "pl-9QQavj-R5",
        "outputId": "432b2fdc-b87d-4491-c613-df8fae2deecb"
      },
      "source": [
        "n=int(input(\"Enter value of n : \"))\n",
        "a=0\n",
        "b=1\n",
        "c=a+b\n",
        "sum=0\n",
        "print(\"Even numbers in fibbinoci series: \",end=\"\")\n",
        "while c<=n:\n",
        "  if c%2==0:\n",
        "    print(c,end='')\n",
        "    sum+=c\n",
        "  a=b\n",
        "  b=c\n",
        "  c=a+b\n",
        "  print(\"\\n sum of fibbinaci series is : \",sum)"
      ],
      "execution_count": null,
      "outputs": [
        {
          "name": "stdout",
          "output_type": "stream",
          "text": [
            "Enter value of n : 40000000\n",
            "Even numbers in fibbinoci series: \n",
            " sum of fibbinaci series is :  0\n",
            "2\n",
            " sum of fibbinaci series is :  2\n",
            "\n",
            " sum of fibbinaci series is :  2\n",
            "\n",
            " sum of fibbinaci series is :  2\n",
            "8\n",
            " sum of fibbinaci series is :  10\n",
            "\n",
            " sum of fibbinaci series is :  10\n",
            "\n",
            " sum of fibbinaci series is :  10\n",
            "34\n",
            " sum of fibbinaci series is :  44\n",
            "\n",
            " sum of fibbinaci series is :  44\n",
            "\n",
            " sum of fibbinaci series is :  44\n",
            "144\n",
            " sum of fibbinaci series is :  188\n",
            "\n",
            " sum of fibbinaci series is :  188\n",
            "\n",
            " sum of fibbinaci series is :  188\n",
            "610\n",
            " sum of fibbinaci series is :  798\n",
            "\n",
            " sum of fibbinaci series is :  798\n",
            "\n",
            " sum of fibbinaci series is :  798\n",
            "2584\n",
            " sum of fibbinaci series is :  3382\n",
            "\n",
            " sum of fibbinaci series is :  3382\n",
            "\n",
            " sum of fibbinaci series is :  3382\n",
            "10946\n",
            " sum of fibbinaci series is :  14328\n",
            "\n",
            " sum of fibbinaci series is :  14328\n",
            "\n",
            " sum of fibbinaci series is :  14328\n",
            "46368\n",
            " sum of fibbinaci series is :  60696\n",
            "\n",
            " sum of fibbinaci series is :  60696\n",
            "\n",
            " sum of fibbinaci series is :  60696\n",
            "196418\n",
            " sum of fibbinaci series is :  257114\n",
            "\n",
            " sum of fibbinaci series is :  257114\n",
            "\n",
            " sum of fibbinaci series is :  257114\n",
            "832040\n",
            " sum of fibbinaci series is :  1089154\n",
            "\n",
            " sum of fibbinaci series is :  1089154\n",
            "\n",
            " sum of fibbinaci series is :  1089154\n",
            "3524578\n",
            " sum of fibbinaci series is :  4613732\n",
            "\n",
            " sum of fibbinaci series is :  4613732\n",
            "\n",
            " sum of fibbinaci series is :  4613732\n",
            "14930352\n",
            " sum of fibbinaci series is :  19544084\n",
            "\n",
            " sum of fibbinaci series is :  19544084\n",
            "\n",
            " sum of fibbinaci series is :  19544084\n"
          ]
        }
      ]
    },
    {
      "cell_type": "markdown",
      "metadata": {
        "id": "QkkMtQXCazSu"
      },
      "source": [
        "# Exercise 5"
      ]
    },
    {
      "cell_type": "markdown",
      "metadata": {
        "id": "HbmBTMG6lVPN"
      },
      "source": [
        "\n",
        "(a) Write a program to count the numbers of characters in the string and store them in a dictionary data structures."
      ]
    },
    {
      "cell_type": "markdown",
      "metadata": {
        "id": "vDEyErlJVA5T"
      },
      "source": [
        "exercise 5: AIM: a) Write a program to count the numbers of characters in the string and store them in adictionary data structure DESCRIPTION: Given a string, the task is to find the frequencies of all the characters in that string and return a dictionary with key as the character and its value as its frequency in the given string. Method #1 : Naive method Simply iterate through the string and form a key in dictionary of newly occurred element or if element is already occurred, increase its value by 1. Method #2 : Using collections.Counter() The most suggested method that could be used to find all occurrences is this method, this actually gets all element frequency and could also be used to print single element frequency if required.\n",
        "\n"
      ]
    },
    {
      "cell_type": "code",
      "metadata": {
        "colab": {
          "base_uri": "https://localhost:8080/"
        },
        "id": "BN87wSsUlo4_",
        "outputId": "f1bd9fc8-8e21-4526-e099-bf1efb5d598f"
      },
      "source": [
        "name=input(\"Enter a Name :\")\n",
        "dic={}\n",
        "\n",
        "for ch in name:\n",
        "  keys=dic.keys()\n",
        "\n",
        "  if(ch in keys):\n",
        "    dic[ch]-dic[ch]+1\n",
        "  else:\n",
        "    dic[ch]=1\n",
        "  print(\"Dictionary is : \",dic)"
      ],
      "execution_count": null,
      "outputs": [
        {
          "name": "stdout",
          "output_type": "stream",
          "text": [
            "Enter a Name :kishore\n",
            "Dictionary is :  {'k': 1}\n",
            "Dictionary is :  {'k': 1, 'i': 1}\n",
            "Dictionary is :  {'k': 1, 'i': 1, 's': 1}\n",
            "Dictionary is :  {'k': 1, 'i': 1, 's': 1, 'h': 1}\n",
            "Dictionary is :  {'k': 1, 'i': 1, 's': 1, 'h': 1, 'o': 1}\n",
            "Dictionary is :  {'k': 1, 'i': 1, 's': 1, 'h': 1, 'o': 1, 'r': 1}\n",
            "Dictionary is :  {'k': 1, 'i': 1, 's': 1, 'h': 1, 'o': 1, 'r': 1, 'e': 1}\n"
          ]
        }
      ]
    },
    {
      "cell_type": "markdown",
      "metadata": {
        "id": "jUJkivvGURZt"
      },
      "source": [
        "AIM: b) Write a program to use split and join methods in the string and trace a birthday with a dictionary data structure.\n",
        "\n",
        "DESCRIPTION: Python program to Split a string based on a delimiter and join the string using another delimiter. Split a string can be quite useful sometimes, especially when you need only certain parts of strings. A simple yet effective example is splitting the First-name and Last-name of a person. Another application is CSV(Comma Separated Files). We use split to get data from CSV and join to write data to CSV. In Python, we can use the function split() to split a string and join() to join a string."
      ]
    },
    {
      "cell_type": "markdown",
      "metadata": {
        "id": "Bjnuu_osnJRj"
      },
      "source": [
        "(b) Write a program to use split and join methods in the string and trace a birthday with a dictionary data structures."
      ]
    },
    {
      "cell_type": "code",
      "metadata": {
        "colab": {
          "base_uri": "https://localhost:8080/"
        },
        "id": "JQN9l8xXnaXT",
        "outputId": "4167ed42-346f-4cc6-cb66-e59d837e33c8"
      },
      "source": [
        "dob={\"parnika\":\"07-Nov-2015\",\"KK\":\"10-10-2000\"}\n",
        "name=input(\"Which person DOB you want: \")\n",
        "l=name.split()\n",
        "birth=\"\"\n",
        "\n",
        "for i in l:\n",
        "  if i in dob.keys():\n",
        "    pers=i\n",
        "\n",
        "print(\"\".join([pers,\"Birthday is\",dob[pers]]))\n"
      ],
      "execution_count": null,
      "outputs": [
        {
          "name": "stdout",
          "output_type": "stream",
          "text": [
            "Which person DOB you want: parnika\n",
            "parnikaBirthday is07-Nov-2015\n"
          ]
        }
      ]
    },
    {
      "cell_type": "markdown",
      "metadata": {
        "id": "cHAxEHWQa4i_"
      },
      "source": [
        "# Exercise 6"
      ]
    },
    {
      "cell_type": "markdown",
      "metadata": {
        "id": "H62N3z1WogAS"
      },
      "source": [
        " \n",
        "\n",
        "(a) Write a program combine lists that combines these lists into a dictionory."
      ]
    },
    {
      "cell_type": "markdown",
      "metadata": {
        "id": "RB-2iU6cVJkz"
      },
      "source": [
        "Exercise 6: AIM: a) Write a program combine lists that combines these lists into a dictionary.\n",
        "\n",
        "DESCRIPTION: For this, simply declare a dictionary, and then run nested loop for both the lists and assign key and value pairs to from list values to dictionary. Most pythonic and generic method to perform this very task is by using zip(). This function pairs the list element with other list element at corresponding index in form of key-value pairs."
      ]
    },
    {
      "cell_type": "code",
      "metadata": {
        "colab": {
          "base_uri": "https://localhost:8080/"
        },
        "id": "JcE52LpWot5l",
        "outputId": "d0bf0207-db38-4af9-9ee6-1c46ef4782f3"
      },
      "source": [
        "subj=[\"DAA\",\"OS\",\"DBMS\",\"P&S\",\"PPL\",\"SE\"]\n",
        "marks=[85,96,78,68,98,56]\n",
        "print(\"Given lists are : \")\n",
        "print(\"Subject Names :\",subj)\n",
        "print(\"Mark values :\",marks)\n",
        "dic=dict(zip(subj,marks))\n",
        "print(\"\\n Dictionary: \",dic)"
      ],
      "execution_count": null,
      "outputs": [
        {
          "name": "stdout",
          "output_type": "stream",
          "text": [
            "Given lists are : \n",
            "Subject Names : ['DAA', 'OS', 'DBMS', 'P&S', 'PPL', 'SE']\n",
            "Mark values : [85, 96, 78, 68, 98, 56]\n",
            "\n",
            " Dictionary:  {'DAA': 85, 'OS': 96, 'DBMS': 78, 'P&S': 68, 'PPL': 98, 'SE': 56}\n"
          ]
        }
      ]
    },
    {
      "cell_type": "markdown",
      "metadata": {
        "id": "_BxoRPKoVQzw"
      },
      "source": [
        "AIM: b) Write a program to count frequency of characters in a given file. Can you use character frequency to tell wheather the given file is a Python program file, C program file or a text file? DESCRIPTION: approaches to count the number of times a letter appears in a text file in Python. Method 1: Using the in-built count() method. Approach:\n",
        "\n",
        "Read the file. Store the content of the file in a variable. Use the count() method with the argument as a letter whose frequency is required. Display the count of the letter."
      ]
    },
    {
      "cell_type": "markdown",
      "metadata": {
        "id": "kMbuDoeHprMK"
      },
      "source": [
        "(b) Write a program to count frequency of charchters in a given file.can you use charchter frequency to tell whether the given file is a python program file,c program file or a text file?"
      ]
    },
    {
      "cell_type": "code",
      "metadata": {
        "colab": {
          "base_uri": "https://localhost:8080/",
          "height": 248
        },
        "id": "pAYRGFFUqL_T",
        "outputId": "fc5774a5-e81a-4ee6-b72f-e6a4a99d55e7"
      },
      "source": [
        "filetypes=['.py','.c','.txt']\n",
        "fn=input(\"Enter the file name :\")\n",
        "f=open(fn,\"r\")\n",
        "count=dict()\n",
        "print(\"Given file is \",end=\"\")\n",
        "for ft in filetypes:\n",
        "  if(ft in fn):\n",
        "    if(ft=='.py'):\n",
        "      print(\"Python File \")\n",
        "    elif(ft=='.c'):\n",
        "      print(\"C File\")\n",
        "    elif(ft=='.txt'):\n",
        "      print(\"Text file\")\n",
        "for line in f:\n",
        "  for ch in line:\n",
        "    if ch in count:\n",
        "      count[ch]=count[ch]+1\n",
        "    else:\n",
        "      count[ch]=1\n",
        "print(count)\n",
        "f.close()"
      ],
      "execution_count": null,
      "outputs": [
        {
          "name": "stdout",
          "output_type": "stream",
          "text": [
            "Enter the file name :abc.txt\n"
          ]
        },
        {
          "ename": "FileNotFoundError",
          "evalue": "ignored",
          "output_type": "error",
          "traceback": [
            "\u001b[0;31m---------------------------------------------------------------------------\u001b[0m",
            "\u001b[0;31mFileNotFoundError\u001b[0m                         Traceback (most recent call last)",
            "\u001b[0;32m<ipython-input-8-cd0fca6ed2ca>\u001b[0m in \u001b[0;36m<module>\u001b[0;34m()\u001b[0m\n\u001b[1;32m      1\u001b[0m \u001b[0mfiletypes\u001b[0m\u001b[0;34m=\u001b[0m\u001b[0;34m[\u001b[0m\u001b[0;34m'.py'\u001b[0m\u001b[0;34m,\u001b[0m\u001b[0;34m'.c'\u001b[0m\u001b[0;34m,\u001b[0m\u001b[0;34m'.txt'\u001b[0m\u001b[0;34m]\u001b[0m\u001b[0;34m\u001b[0m\u001b[0;34m\u001b[0m\u001b[0m\n\u001b[1;32m      2\u001b[0m \u001b[0mfn\u001b[0m\u001b[0;34m=\u001b[0m\u001b[0minput\u001b[0m\u001b[0;34m(\u001b[0m\u001b[0;34m\"Enter the file name :\"\u001b[0m\u001b[0;34m)\u001b[0m\u001b[0;34m\u001b[0m\u001b[0;34m\u001b[0m\u001b[0m\n\u001b[0;32m----> 3\u001b[0;31m \u001b[0mf\u001b[0m\u001b[0;34m=\u001b[0m\u001b[0mopen\u001b[0m\u001b[0;34m(\u001b[0m\u001b[0mfn\u001b[0m\u001b[0;34m,\u001b[0m\u001b[0;34m\"r\"\u001b[0m\u001b[0;34m)\u001b[0m\u001b[0;34m\u001b[0m\u001b[0;34m\u001b[0m\u001b[0m\n\u001b[0m\u001b[1;32m      4\u001b[0m \u001b[0mcount\u001b[0m\u001b[0;34m=\u001b[0m\u001b[0mdict\u001b[0m\u001b[0;34m(\u001b[0m\u001b[0;34m)\u001b[0m\u001b[0;34m\u001b[0m\u001b[0;34m\u001b[0m\u001b[0m\n\u001b[1;32m      5\u001b[0m \u001b[0mprint\u001b[0m\u001b[0;34m(\u001b[0m\u001b[0;34m\"Given file is \"\u001b[0m\u001b[0;34m,\u001b[0m\u001b[0mend\u001b[0m\u001b[0;34m=\u001b[0m\u001b[0;34m\"\"\u001b[0m\u001b[0;34m)\u001b[0m\u001b[0;34m\u001b[0m\u001b[0;34m\u001b[0m\u001b[0m\n",
            "\u001b[0;31mFileNotFoundError\u001b[0m: [Errno 2] No such file or directory: 'abc.txt'"
          ]
        }
      ]
    },
    {
      "cell_type": "markdown",
      "metadata": {
        "id": "fMyFTgrua_uE"
      },
      "source": [
        "# Exercise 7"
      ]
    },
    {
      "cell_type": "markdown",
      "metadata": {
        "id": "Q5tteV0xHOA7"
      },
      "source": [
        "\n",
        "\n",
        "(a) Write a program to print each line of a file in reverse order."
      ]
    },
    {
      "cell_type": "markdown",
      "metadata": {
        "id": "p8J8jbxbcNAX"
      },
      "source": [
        "DESCRIPTION:\n",
        "The file handling plays an important role when the data needs to be stored permanently into the \n",
        "file. A file is a named location on disk to store related information. We can access the stored\n",
        "information (non-volatile) after the program termination. In Python, files are treated in two \n",
        "modes as text or binary. The file may be in the text or binary format, and each line of a file is \n",
        "ended with the special character. Hence, a file operation can be done in the following order.\n",
        "□ Open a file\n",
        "□ Read or write - Performing operation\n",
        "□ Close the file"
      ]
    },
    {
      "cell_type": "code",
      "metadata": {
        "colab": {
          "base_uri": "https://localhost:8080/",
          "height": 231
        },
        "id": "aU-eOHIzHcHE",
        "outputId": "63d4bd41-e51e-4026-f531-8fa43a680ccd"
      },
      "source": [
        "#Write a program to print each line of a file in reverse order.\n",
        "obj=open(\"abc.txt\",\"r\")\n",
        "if obj:\n",
        "  st=obj.read()\n",
        "  print(\"File content is :\\n\",st)\n",
        "  obj.close()\n",
        "  print()\n",
        "  lines=st.split('\\n')\n",
        "for ln in lines:\n",
        "  i=lcn(ln)-1\n",
        "  while(i>=0):\n",
        "    print(ln[i],end=\"\")\n",
        "    i=i-1\n",
        "  print()"
      ],
      "execution_count": null,
      "outputs": [
        {
          "ename": "FileNotFoundError",
          "evalue": "ignored",
          "output_type": "error",
          "traceback": [
            "\u001b[0;31m---------------------------------------------------------------------------\u001b[0m",
            "\u001b[0;31mFileNotFoundError\u001b[0m                         Traceback (most recent call last)",
            "\u001b[0;32m<ipython-input-15-79e8ce5d7e36>\u001b[0m in \u001b[0;36m<module>\u001b[0;34m()\u001b[0m\n\u001b[1;32m      1\u001b[0m \u001b[0;31m#Write a program to print each line of a file in reverse order.\u001b[0m\u001b[0;34m\u001b[0m\u001b[0;34m\u001b[0m\u001b[0;34m\u001b[0m\u001b[0m\n\u001b[0;32m----> 2\u001b[0;31m \u001b[0mobj\u001b[0m\u001b[0;34m=\u001b[0m\u001b[0mopen\u001b[0m\u001b[0;34m(\u001b[0m\u001b[0;34m\"abc.txt\"\u001b[0m\u001b[0;34m,\u001b[0m\u001b[0;34m\"r\"\u001b[0m\u001b[0;34m)\u001b[0m\u001b[0;34m\u001b[0m\u001b[0;34m\u001b[0m\u001b[0m\n\u001b[0m\u001b[1;32m      3\u001b[0m \u001b[0;32mif\u001b[0m \u001b[0mobj\u001b[0m\u001b[0;34m:\u001b[0m\u001b[0;34m\u001b[0m\u001b[0;34m\u001b[0m\u001b[0m\n\u001b[1;32m      4\u001b[0m   \u001b[0mst\u001b[0m\u001b[0;34m=\u001b[0m\u001b[0mobj\u001b[0m\u001b[0;34m.\u001b[0m\u001b[0mread\u001b[0m\u001b[0;34m(\u001b[0m\u001b[0;34m)\u001b[0m\u001b[0;34m\u001b[0m\u001b[0;34m\u001b[0m\u001b[0m\n\u001b[1;32m      5\u001b[0m   \u001b[0mprint\u001b[0m\u001b[0;34m(\u001b[0m\u001b[0;34m\"File content is :\\n\"\u001b[0m\u001b[0;34m,\u001b[0m\u001b[0mst\u001b[0m\u001b[0;34m)\u001b[0m\u001b[0;34m\u001b[0m\u001b[0;34m\u001b[0m\u001b[0m\n",
            "\u001b[0;31mFileNotFoundError\u001b[0m: [Errno 2] No such file or directory: 'abc.txt'"
          ]
        }
      ]
    },
    {
      "cell_type": "markdown",
      "metadata": {
        "id": "UZufp_9_Jn3u"
      },
      "source": [
        "(b) Write a program to compute the number of characters words and lines in a file."
      ]
    },
    {
      "cell_type": "markdown",
      "metadata": {
        "id": "FAIuMvRfcRhU"
      },
      "source": [
        "DESCRIPTION:\n",
        "Given a text file fname, the task is to count the total number of characters, words, spaces and \n",
        "lines in the file.\n",
        "As we know, Python provides multiple in-built features and modules for handling files. Let’s\n",
        "discuss different ways to calculate total number of characters, words, spaces and lines in a file \n",
        "using Python.\n",
        "Method #1: Naive approach\n",
        "In this approach, the idea is to solve the task by developing our own logic. Without using any \n",
        "built-in function of Python, the total number of characters, words, spaces and lines of the file will \n",
        "be calculated.\n",
        "Method #2: Using some built-in functions and OS module functions\n",
        "In this approach, the idea is to use the os.linesep() method of OS module to separate the lines \n",
        "on the current platform. When the interpreter’s scanner encounter os.linesep it replaces it with\n",
        "\\n character. After that strip() and split() functions will be used to carry out the task.\n"
      ]
    },
    {
      "cell_type": "code",
      "metadata": {
        "colab": {
          "base_uri": "https://localhost:8080/",
          "height": 231
        },
        "id": "QNAzZU3oJ29Q",
        "outputId": "59488af6-6b4c-4f45-bee6-857296bd373a"
      },
      "source": [
        "nc=nw=nl=0\n",
        "file=open(\"abc.txt\",\"r\")\n",
        "nl=nw=nc=0\n",
        "print(\"File Content:\\n\")\n",
        "for line in file:\n",
        "  ln=line.strip(\"\\n\")\n",
        "  print(ln)\n",
        "  words=ln.split()\n",
        "  nl+=1\n",
        "  nw+=len(words)\n",
        "  nc+=len(line)\n",
        "  file.close()\n",
        "  print(\"\\n No of lines:\",nl,\"words\",nw,\"characters:\",nc)"
      ],
      "execution_count": null,
      "outputs": [
        {
          "ename": "FileNotFoundError",
          "evalue": "ignored",
          "output_type": "error",
          "traceback": [
            "\u001b[0;31m---------------------------------------------------------------------------\u001b[0m",
            "\u001b[0;31mFileNotFoundError\u001b[0m                         Traceback (most recent call last)",
            "\u001b[0;32m<ipython-input-14-b6f78745c9b2>\u001b[0m in \u001b[0;36m<module>\u001b[0;34m()\u001b[0m\n\u001b[1;32m      1\u001b[0m \u001b[0mnc\u001b[0m\u001b[0;34m=\u001b[0m\u001b[0mnw\u001b[0m\u001b[0;34m=\u001b[0m\u001b[0mnl\u001b[0m\u001b[0;34m=\u001b[0m\u001b[0;36m0\u001b[0m\u001b[0;34m\u001b[0m\u001b[0;34m\u001b[0m\u001b[0m\n\u001b[0;32m----> 2\u001b[0;31m \u001b[0mfile\u001b[0m\u001b[0;34m=\u001b[0m\u001b[0mopen\u001b[0m\u001b[0;34m(\u001b[0m\u001b[0;34m\"abc.txt\"\u001b[0m\u001b[0;34m,\u001b[0m\u001b[0;34m\"r\"\u001b[0m\u001b[0;34m)\u001b[0m\u001b[0;34m\u001b[0m\u001b[0;34m\u001b[0m\u001b[0m\n\u001b[0m\u001b[1;32m      3\u001b[0m \u001b[0mnl\u001b[0m\u001b[0;34m=\u001b[0m\u001b[0mnw\u001b[0m\u001b[0;34m=\u001b[0m\u001b[0mnc\u001b[0m\u001b[0;34m=\u001b[0m\u001b[0;36m0\u001b[0m\u001b[0;34m\u001b[0m\u001b[0;34m\u001b[0m\u001b[0m\n\u001b[1;32m      4\u001b[0m \u001b[0mprint\u001b[0m\u001b[0;34m(\u001b[0m\u001b[0;34m\"File Content:\\n\"\u001b[0m\u001b[0;34m)\u001b[0m\u001b[0;34m\u001b[0m\u001b[0;34m\u001b[0m\u001b[0m\n\u001b[1;32m      5\u001b[0m \u001b[0;32mfor\u001b[0m \u001b[0mline\u001b[0m \u001b[0;32min\u001b[0m \u001b[0mfile\u001b[0m\u001b[0;34m:\u001b[0m\u001b[0;34m\u001b[0m\u001b[0;34m\u001b[0m\u001b[0m\n",
            "\u001b[0;31mFileNotFoundError\u001b[0m: [Errno 2] No such file or directory: 'abc.txt'"
          ]
        }
      ]
    },
    {
      "cell_type": "markdown",
      "metadata": {
        "id": "jNeblPHxbE0r"
      },
      "source": [
        "# exercise 8"
      ]
    },
    {
      "cell_type": "markdown",
      "metadata": {
        "id": "-NAsyc7ULN4H"
      },
      "source": [
        "\n",
        "\n",
        "(a) Write a function ball collide that takes two balls as parameters and computes if they are colliding.Your function should return a bollean representing whether or not the balls are colliding."
      ]
    },
    {
      "cell_type": "markdown",
      "metadata": {
        "id": "KIwiftevV7yr"
      },
      "source": [
        "Exeecise-8 AIM: a) Write a function ball collide that takes two balls as parameters and computes if they arecolliding. Your function should return a Boolean representing whether or not the balls arecolliding. Hint: Represent a ball on a plane as a tuple of (x, y, r), r being the radius If (distance between two balls centers) <= (sum of their radii) then (they are colliding) DESCRIPTION: Functions A function in python is a block of code that is defined for doing frequent operations in a particular task. The general format is def Functionname(arguments): Statements Calling a Function: A function can be called by its name followed by arguments within parenthesis. function()"
      ]
    },
    {
      "cell_type": "code",
      "metadata": {
        "id": "ZGCHHKpzMIoc"
      },
      "source": [
        "import math\n",
        "def collide(ball_tup1,ball_tup2):\n",
        "  x1,y1,r1=ball_tup1\n",
        "  x2,y2,r2=ball_tup2\n",
        "  print(\"Ball-01: \",ball_tup1)\n",
        "  print(\"Ball-02: \",ball_tup2)\n",
        "  d=math.sqrt((x2-x1)**2+(y2-y1)**2)\n",
        "  print(\"Centroid Distance of two balls: \",d)\n",
        "  print(\"Sum of radius Ball-01 & Balu-02 is: {}+{}={}\".format(r1,r2,r1+r2))\n",
        "  if d<=r1+r2:\n",
        "    return True\n",
        "  else:\n",
        "    return False\n",
        "  b1=(-2,-4,3)\n",
        "  b2=(4,6,3)\n",
        "  if collide(b1,b2):\n",
        "    print(\"Balls are Collide...!\")\n",
        "  else:\n",
        "    print(\"Balls are NOT Collide !\")"
      ],
      "execution_count": null,
      "outputs": []
    },
    {
      "cell_type": "markdown",
      "metadata": {
        "id": "tBAn_wHdV_d4"
      },
      "source": [
        "AIM: b) Find mean, median, mode for the given set of numbers in a list DESCRIPTION: Mean : The mean is the average of all numbers and is sometimes called the arithmetic mean. This code calculates Mean or Average of a list containing numbers: Median : The median is the middle number in a group of numbers. This code calculates Median of a list containing numbers: Mode : The mode is the number that occurs most often within a set of numbers. This code calculates Mode of a list containing numbers: We will import Counter from collections library which is a built-in module in Python 2 and 3. This module will help us count duplicate elements in a list. We define a list of numbers and calculate the length of the list. We then call Counter (a dict subclass) which helps to count hashable objects, and we then convert it to dict object. We then initialize a list with a For Loop to compare all the dict values (Number of elements) to the max of all dict values (count of most occurring element) and it returns all the elements equal to max count. If the elements returned are equal to the number of total elements in a list then we print out ‘No mode’, else we print out the modes returned."
      ]
    },
    {
      "cell_type": "markdown",
      "metadata": {
        "id": "2E6DDj1ONXPL"
      },
      "source": [
        "(b) Find mean,median,mode for the given set of numbers in a list."
      ]
    },
    {
      "cell_type": "code",
      "metadata": {
        "id": "fNUPVSQJPGSm"
      },
      "source": [
        "def list_mean(num_list):\n",
        "  return sum(num_list)/len(num_list)\n",
        " \n",
        "  def list_median(num_list):\n",
        "    num_list.sort()\n",
        "    n=len(num_list)\n",
        "    mid=n/2\n",
        "    if(n%2==1):\n",
        "      return num_list[mid]\n",
        "    else:\n",
        "      mid\n",
        "      return(num_list[mid-1]+num_list[mid])/2\n",
        " \n",
        "  def list_mode(num_list):\n",
        "    num_list.sort()\n",
        "    temp=[]\n",
        " \n",
        "    i=0\n",
        "    while i<len(num_list):\n",
        "      temp.append(num_list.count(num_list[i]))\n",
        "      i+=1\n",
        "    dic=dict(zip(num_list,temp))\n",
        "    mode={k for(k,v) in dic.items() if v==max(temp)}\n",
        "    return mode\n",
        " \n",
        "  lst=[1,1,2,2,2,3,4,5,3]\n",
        " \n",
        "  print(\"Given list is:\",lst)\n",
        "  print(\"Mean of the given list: \",list_mean(lst))\n",
        "  print(\"Median of the given list:\",list_median(lst))\n",
        "  print(\"Mode of the given list :\",list_mode(lst))"
      ],
      "execution_count": null,
      "outputs": []
    },
    {
      "cell_type": "markdown",
      "metadata": {
        "id": "sJ8-4la_bKA8"
      },
      "source": [
        "# exercise 9"
      ]
    },
    {
      "cell_type": "markdown",
      "metadata": {
        "id": "uvMpEC0EeDaV"
      },
      "source": [
        "\n",
        "\n",
        "(a) Write a function nearly equal to test whether two strings are nearky equal.Two strings a and b are nearly equal when a can be generated by a single mutation on b."
      ]
    },
    {
      "cell_type": "markdown",
      "metadata": {
        "id": "F0J13fN4WDMh"
      },
      "source": [
        "exercise-9 AIM: a) Write a function nearly equal to test whether two strings are nearly equal. Two strings a and b are nearly equal when a can be generated by a single mutation on b. DESCRIPTION: strlen() function is used to check wether the two string are nearly equal or not by basis of the Length of those Strings len() function is an inbuilt function in Python programming language that returns the length of the string. len() is a built-in function in python.You can use the len() to get the length of the given string, array, list, tuple, dictionary, etc. Value: the given value you want the length of. Return value a return an integer value i.e. the length of the given string, or array, or list, or collections."
      ]
    },
    {
      "cell_type": "code",
      "metadata": {
        "colab": {
          "base_uri": "https://localhost:8080/"
        },
        "id": "vd1Uj4IO8iwC",
        "outputId": "ba695134-5065-477c-dc9c-4df1a67461f7"
      },
      "source": [
        " \n",
        "def nearly_equal(str1,str2):\n",
        "  count=0\n",
        "  i=j=0\n",
        "  while(i<len(str1) and j<len(str2)):\n",
        "    if (str1[i]!=str2[j]):\n",
        "      count+=1\n",
        "      if (len(str1)>len(str2)):\n",
        "        i+=1\n",
        "      elif (len(str1)==len(str2)):\n",
        "        pass\n",
        "      else:\n",
        "        i-=1\n",
        "    if(count>1):\n",
        "      return False\n",
        "    i+=1\n",
        "    j+=1\n",
        "  if (count<2):\n",
        "    return True\n",
        " \n",
        "s=input(\"enter string-1:\")\n",
        "s1=input(\"enter string-2:\")\n",
        "blen=nearly_equal(s,s1)\n",
        "if (blen):\n",
        "  print(\"String are nearly equal\")\n",
        "else:\n",
        "    print(\"String are NOT equal\")"
      ],
      "execution_count": null,
      "outputs": [
        {
          "name": "stdout",
          "output_type": "stream",
          "text": [
            "enter string-1:Jai\n",
            "enter string-2:Kishore\n",
            "String are NOT equal\n"
          ]
        }
      ]
    },
    {
      "cell_type": "markdown",
      "metadata": {
        "id": "ixZeRG_NWJJS"
      },
      "source": [
        "AIM: b) Write a function dup to find all duplicates in the list. DESCRIPTION: To check if a list contains any duplicate element follow the following steps,\n",
        "\n",
        "Add the contents of list in a set. Compare the size of set and list. If size of list & set is equal then it means no duplicates in list. If size of list & set are different then it means yes, there are duplicates in list."
      ]
    },
    {
      "cell_type": "markdown",
      "metadata": {
        "id": "DRrNAiFug0nB"
      },
      "source": [
        "(b) Write a function dup to find all duplicates in the list"
      ]
    },
    {
      "cell_type": "code",
      "metadata": {
        "colab": {
          "base_uri": "https://localhost:8080/"
        },
        "id": "Hm4vO_zgCV8S",
        "outputId": "83ce93df-fd4c-48c8-fcc9-cfb0c943ff27"
      },
      "source": [
        " \n",
        "def duplicates(n_list):\n",
        "  temp=[]\n",
        "  for i in n_list:\n",
        "    coun=n_list.count(i)\n",
        "    if (coun>1 and (i not in temp)):\n",
        "      temp.append(i)\n",
        "  print(\"Duplicates in the list:\",temp) \n",
        " \n",
        "ls=[10,20,10,5,6,87,5]\n",
        "print(\"Given elements in the list:\",ls)\n",
        "duplicates(ls)"
      ],
      "execution_count": null,
      "outputs": [
        {
          "name": "stdout",
          "output_type": "stream",
          "text": [
            "Given elements in the list: [10, 20, 10, 5, 6, 87, 5]\n",
            "Duplicates in the list: [10, 5]\n"
          ]
        }
      ]
    },
    {
      "cell_type": "markdown",
      "metadata": {
        "id": "aUCFSypfWL5e"
      },
      "source": [
        "AIM: c) Write a function unique to find all the unique elements of a list. DESCRIPTION: To find the unique in the list .There is a Specific Method i.e., Method : Traversal of list Using traversal, we can traverse for every element in the list and check if the element is in the unique_list already if it is not over there, then we can append it in the unique_list. This is done using one for loop and other if statement which check if the value is in the unique list or not which is equivalent to another for loop.\n",
        "\n",
        "[ ]"
      ]
    },
    {
      "cell_type": "markdown",
      "metadata": {
        "id": "8JE5Glvlmo-5"
      },
      "source": [
        "(c) Write a function unique to find all the unique elements of a list."
      ]
    },
    {
      "cell_type": "code",
      "metadata": {
        "colab": {
          "base_uri": "https://localhost:8080/"
        },
        "id": "sP60Ji7ODghb",
        "outputId": "eb327ac6-71d7-4aa9-9fca-08c6913aa409"
      },
      "source": [
        " \n",
        "def unique(n_list):\n",
        "  print(\"Unique Elements in the list: \",end=\"\")\n",
        "  for i in n_list:\n",
        "    cnt=n_list.count(i)\n",
        "    if cnt==1:\n",
        "       print(i,end=\" \")\n",
        "  \n",
        " \n",
        "ls=[1,2,3,1,2,3,534,546,558]\n",
        "print(\"Given elements in the list:\",ls)\n",
        "unique(ls)"
      ],
      "execution_count": null,
      "outputs": [
        {
          "name": "stdout",
          "output_type": "stream",
          "text": [
            "Given elements in the list: [1, 2, 3, 1, 2, 3, 534, 546, 558]\n",
            "Unique Elements in the list: 534 546 558 "
          ]
        }
      ]
    },
    {
      "cell_type": "markdown",
      "metadata": {
        "id": "1TkWqBl5bSUw"
      },
      "source": [
        "# exercise 10"
      ]
    },
    {
      "cell_type": "markdown",
      "metadata": {
        "id": "NRcM9imaoXiE"
      },
      "source": [
        "\n",
        "\n",
        "(a) Write a function cumulative product to compare cumulative product of a list of numbers."
      ]
    },
    {
      "cell_type": "markdown",
      "metadata": {
        "id": "xXneIioWWQNd"
      },
      "source": [
        "Exercise 10: AIM: a) Write a function cumulative product to compute cumulative product of a list of numbers. DESCRIPTION: A cumulative product is a sequence of partial products of a given sequence. For example, the cumulative products of the sequence. , are , , .. Cumulative products can be implemented in the Wolfram Language as Rest[FoldList[Times, 1, list]] cumprod(A,1) works on successive elements in the columns of A and returns the cumulative products of each column. cumprod(A,2) works on successive elements in the rows of A and returns the cumulative products of each row. umprod() function is used when we want to compute the cumulative product of array elements over a given axis. Syntax : numpy.cumprod(arr, axis=None, dtype=None, out=None) Parameters : arr : [array_like] Array containing numbers whose cumulative product is desired."
      ]
    },
    {
      "cell_type": "code",
      "metadata": {
        "colab": {
          "base_uri": "https://localhost:8080/"
        },
        "id": "AOrvqjrDo8JU",
        "outputId": "b48a6269-bb72-42ca-e893-b6ac839ef432"
      },
      "source": [
        "def cum_prod(numlist):\n",
        "  prod=1\n",
        "  temp=[]\n",
        "  for i in numlist:\n",
        "    prod*=i\n",
        "    temp.append(prod)\n",
        "    return temp\n",
        "lst=[1,2,4,5,3]\n",
        "print(\"Given list is:\",lst)\n",
        "print(\"Cumulative Product list is:\",cum_prod(lst))"
      ],
      "execution_count": null,
      "outputs": [
        {
          "name": "stdout",
          "output_type": "stream",
          "text": [
            "Given list is: [1, 2, 4, 5, 3]\n",
            "Cumulative Product list is: [1]\n"
          ]
        }
      ]
    },
    {
      "cell_type": "markdown",
      "metadata": {
        "id": "_0HBKVfIqXEy"
      },
      "source": [
        "(b) Write a function reverse to reverse a list.Without using the reverse function."
      ]
    },
    {
      "cell_type": "markdown",
      "metadata": {
        "id": "4pp8RBTVWS7s"
      },
      "source": [
        "AIM: b) Write a function reverse to reverse a list. Without using the reverse function. DESCRIPTION: In this Python code snippet post, we are going to implement a list reverse function from the scratch without using any builtin functions. Let us see how... Iterative solution We can use a for loop to swap the first and last items, the second and the one before the last item and so on until the list is reversed in place. The number of iterations needed is half the list size. If the list has an odd number of items then the middle item will stay in its place."
      ]
    },
    {
      "cell_type": "code",
      "metadata": {
        "colab": {
          "base_uri": "https://localhost:8080/"
        },
        "id": "ZtTat4QhtgjD",
        "outputId": "fd6e94b7-df67-4263-eab9-d5134b11949f"
      },
      "source": [
        "def reverse_list(numlist):\n",
        "  i=0\n",
        "  j=len(numlist)-1\n",
        "  while(i<=j):\n",
        "   temp=numlist[i]\n",
        "   numlist[i]=numlist[j]\n",
        "   numlist[j]=temp\n",
        "   j-=1\n",
        "   i+=1\n",
        "  return numlist\n",
        "lst=[1,2,3,4]\n",
        "print(\"Given list is: \",lst)\n",
        "reverse_list(lst)\n",
        "print(\"Reverse of the given list is: \",lst)"
      ],
      "execution_count": null,
      "outputs": [
        {
          "name": "stdout",
          "output_type": "stream",
          "text": [
            "Given list is:  [1, 2, 3, 4]\n",
            "Reverse of the given list is:  [4, 3, 2, 1]\n"
          ]
        }
      ]
    },
    {
      "cell_type": "markdown",
      "metadata": {
        "id": "9OYG3qlnvU5E"
      },
      "source": [
        "(c) Write function to compute gcd,lcm of two numbers.Each function shouldnt exceed one line."
      ]
    },
    {
      "cell_type": "markdown",
      "metadata": {
        "id": "U79dGb9uWVoH"
      },
      "source": [
        "AIM: c) Write function to compute gcd, lcm of two numbers. Each function shouldn’t exceed one line. DESCRIPTION: Python provides you an anonymous function called lambda. It can take any number of arguments, but can only have one expression. It can be used to find LCM and GCD values without exceeding each from from one line. The general format is lambda arguments: expression The expression is executed during the function call and the result is returned. Lambda as a Function The power of using a lambda expression is implementing it using a function"
      ]
    },
    {
      "cell_type": "code",
      "metadata": {
        "colab": {
          "base_uri": "https://localhost:8080/"
        },
        "id": "1VKY3ntjvk7h",
        "outputId": "4a1dd718-c0f0-41e9-9fc7-4d62b3aa487b"
      },
      "source": [
        "gcd=lambda a,b:a if b==0 else gcd(a,a%b)\n",
        "lcm=lambda a,b:(a*b)/gcd(a,b)\n",
        "\n",
        "x=4\n",
        "y=24\n",
        "print(\"The given numbers: \",x,y)\n",
        "print(\"GCD is: \",x,y)\n",
        "print(\"LCM is: \",lcm(x,y))\n"
      ],
      "execution_count": null,
      "outputs": [
        {
          "name": "stdout",
          "output_type": "stream",
          "text": [
            "The given numbers:  4 24\n",
            "GCD is:  4 24\n",
            "LCM is:  24.0\n"
          ]
        }
      ]
    },
    {
      "cell_type": "markdown",
      "metadata": {
        "id": "M3az7TeCbXUp"
      },
      "source": [
        "# exercise 11"
      ]
    },
    {
      "cell_type": "markdown",
      "metadata": {
        "id": "Tgd3ncv7wzrw"
      },
      "source": [
        " \n",
        "\n",
        "(a) Write a program that defines a matrix and prints."
      ]
    },
    {
      "cell_type": "markdown",
      "metadata": {
        "id": "PlQy7DS-WbxU"
      },
      "source": [
        "exercise 11: AIM: a) Write a program that defines a matrix and prints DESCRIPTION: Lists are a very widely use data structure in python. They contain a list of elements separated by comma. But sometimes lists can also contain lists within them. These are called nested lists or multidimensional lists. In this article we will see how to create and access elements in a multidimensional list. Methods on Multidimensional lists\n",
        "\n",
        "append(): Adds an element at the end of the list. extend(): Add the elements of a list (or any iterable), to the end of the current list. reverse(): Reverses the order of the list."
      ]
    },
    {
      "cell_type": "code",
      "metadata": {
        "colab": {
          "base_uri": "https://localhost:8080/"
        },
        "id": "b4gTMRi3w8uJ",
        "outputId": "44a449e6-b770-4064-d281-f4ad8eaa2927"
      },
      "source": [
        "matA=[[]]\n",
        "rows=int(input(\"Enter row size of Matrix: \"))\n",
        "cols=int(input(\"Enter column size of matrix: \"))\n",
        "\n",
        "matA=[[int(input(\"Enter [%d,%d] value: \"%(i,j)))for j in range(cols)]for i in range(rows)]\n",
        "\n",
        "print(\"Matrix is: \")\n",
        "for i in range(rows):\n",
        "  for j in range(cols):\n",
        "    print(matA[i][j],end='\\t')\n",
        "    print(' ')"
      ],
      "execution_count": null,
      "outputs": [
        {
          "name": "stdout",
          "output_type": "stream",
          "text": [
            "Enter row size of Matrix: 3\n",
            "Enter column size of matrix: 3\n",
            "Enter [0,0] value: 1\n",
            "Enter [0,1] value: 2\n",
            "Enter [0,2] value: 3\n",
            "Enter [1,0] value: 2\n",
            "Enter [1,1] value: 2\n",
            "Enter [1,2] value: 3\n",
            "Enter [2,0] value: 2\n",
            "Enter [2,1] value: 4\n",
            "Enter [2,2] value: 5\n",
            "Matrix is: \n",
            "1\t \n",
            "2\t \n",
            "3\t \n",
            "2\t \n",
            "2\t \n",
            "3\t \n",
            "2\t \n",
            "4\t \n",
            "5\t \n"
          ]
        }
      ]
    },
    {
      "cell_type": "markdown",
      "metadata": {
        "id": "rNVns4ZB1F3V"
      },
      "source": [
        "(b) Write a program to perform addition of two square matrices"
      ]
    },
    {
      "cell_type": "markdown",
      "metadata": {
        "id": "NnkBltngWfkK"
      },
      "source": [
        "AIM: b) Write a program to perform addition of two square matrices DESCRIPTION: We can perform matrix addition in following ways in Python.\n",
        "\n",
        "Using for loop: Explanation :- In this program we have used nested for loops to iterate through each row and each column. At each point we add the corresponding elements in the two matrices and store it in the result. Using nested list comprehension : In Python, we can implement a matrix as nested list (list inside a list). We can treat each element as a row of the matrix. Explanation :- The output of this program is the same as above. We have used nested list comprehension to iterate through each element in the matrix. List comprehension allows us to write concise codes and we must try to use them frequently in Python. They are very helpful. uising zip function Explanation : The zip function accepts iterator i of each element(list) of matrix, mapping them, adding them using sum() and storing them in the map form."
      ]
    },
    {
      "cell_type": "code",
      "metadata": {
        "colab": {
          "base_uri": "https://localhost:8080/"
        },
        "id": "mVh3VeCT1UBE",
        "outputId": "b014dd64-366f-4b50-9171-3a1e61ae8408"
      },
      "source": [
        "def matRead(r,c):\n",
        "  return[[int(input(\"[%d,%d]value: \"%(i,j)))for j in range(c)]for i in range(r)]\n",
        "def matDisp(mat,r,c):\n",
        "  for i in range(r):\n",
        "    for j in range(c):\n",
        "      print(mat[i][j],end='\\t')\n",
        "    print()\n",
        "\n",
        "matA=[[]]\n",
        "matB=[[]]\n",
        "matSum=[[]]\n",
        "rows=int(input(\"Enter row size of the Matrix: \"))\n",
        "cols=int(input(\"Enter column size of the Matrix: \"))\n",
        "if rows==cols:\n",
        "  print(\"Enter Matrix-A elements: \")\n",
        "  matA=matRead(rows,cols)\n",
        "\n",
        "  print(\"Enter Matrix-B elements: \")\n",
        "  matB=matRead(rows,cols)\n",
        "\n",
        "  print(\"Matrix-A is: \")\n",
        "  matDisp(matA,rows,cols)\n",
        "\n",
        "  print(\"Matrix-B is: \")\n",
        "  matDisp(matB,rows,cols)\n",
        "\n",
        "  matSum=[[matA[i][j]+matB[i][j]for j in range(cols)]for i in range(rows)]\n",
        "  print(\"Sum of Matrices is: \")\n",
        "  matDisp(matSum,rows,cols)\n",
        "else:\n",
        "  print(\"Matrices Addition is Not possible\")"
      ],
      "execution_count": null,
      "outputs": [
        {
          "name": "stdout",
          "output_type": "stream",
          "text": [
            "Enter row size of the Matrix: 2\n",
            "Enter column size of the Matrix: 2\n",
            "Enter Matrix-A elements: \n",
            "[0,0]value: 1\n",
            "[0,1]value: 2\n",
            "[1,0]value: 3\n",
            "[1,1]value: 4\n",
            "Enter Matrix-B elements: \n",
            "[0,0]value: 4\n",
            "[0,1]value: 3\n",
            "[1,0]value: 2\n",
            "[1,1]value: 1\n",
            "Matrix-A is: \n",
            "1\t2\t\n",
            "3\t4\t\n",
            "Matrix-B is: \n",
            "4\t3\t\n",
            "2\t1\t\n",
            "Sum of Matrices is: \n",
            "5\t5\t\n",
            "5\t5\t\n"
          ]
        }
      ]
    },
    {
      "cell_type": "markdown",
      "metadata": {
        "id": "Po4bcHqm6GEp"
      },
      "source": [
        "(c) Write a program to perform multiplication of two square matrices"
      ]
    },
    {
      "cell_type": "markdown",
      "metadata": {
        "id": "GrckqmQoWiaY"
      },
      "source": [
        "AIM: c) Write a program to perform multiplication of two square DESCRIPTION: In Python, we can implement a matrix as nested list (list inside a list). We can treat each element as a row of the matrix. For example X = [[1, 2], [4, 5], [3, 6]] would represent a 3x2 matrix. The first row can be selected as X[0]. And, the element in first row, first column can be selected as X[0][0]. Multiplication of two matrices X and Y is defined only if the number of columns in X is equal to the number of rows Y. If X is a n x m matrix and Y is a m x l matrix then, XY is defined and has the dimension n x l (but YX is not defined). Here are a couple of ways to implement matrix multiplication in Python."
      ]
    },
    {
      "cell_type": "code",
      "metadata": {
        "colab": {
          "base_uri": "https://localhost:8080/"
        },
        "id": "yg8tsFUa6YQC",
        "outputId": "88240a2e-4569-4beb-9876-c5384ac7ca5d"
      },
      "source": [
        "def matRead(r,c):\n",
        "  return[[int(input(\"[%d,%d]value: \"%(i,j)))for j in range(c)]for i in range(r)]\n",
        "              \n",
        "def matDisp(mat,r,c):\n",
        "  for i in range(r):\n",
        "    for j in range(c):\n",
        "      print(mat[i][j],end='\\t')\n",
        "    print()\n",
        "matA=[[]]\n",
        "matB=[[]]\n",
        "matMul=[[]]\n",
        "rows=int(input(\"Enter row size of the Matrix: \"))\n",
        "cols=int(input(\"Enter columns size of the Matrix: \"))\n",
        "\n",
        "if rows==cols:\n",
        "  print(\"Enter Matrix-A: \")\n",
        "  matA=matRead(rows,cols)\n",
        "  print(\"Enter Matrix-B: \")\n",
        "  matB=matRead(rows,cols)\n",
        "\n",
        "  matMul=[[0 for j in range(cols)]for i in range(rows)]\n",
        "\n",
        "  for i in range(rows):\n",
        "    for j in range(cols):\n",
        "      for k in range(cols):\n",
        "        matMul[i][j]+=matA[i][k]*matB[k][j]\n",
        "\n",
        "  print(\"Matrix-A is: \")\n",
        "  matDisp(matA,rows,cols)\n",
        "\n",
        "  print(\"Matrix-B is: \")\n",
        "  matDisp(matB,rows,cols)\n",
        "\n",
        "  print(\"Mukitiplication of matrices is: \")\n",
        "  matDisp(matMul,rows,cols)\n",
        "else:\n",
        "  print(\"Matrices Multiplicataion is Not Possible\")\n"
      ],
      "execution_count": null,
      "outputs": [
        {
          "name": "stdout",
          "output_type": "stream",
          "text": [
            "Enter row size of the Matrix: 2\n",
            "Enter columns size of the Matrix: 2\n",
            "Enter Matrix-A: \n",
            "[0,0]value: 1\n",
            "[0,1]value: 2\n",
            "[1,0]value: 3\n",
            "[1,1]value: 3\n",
            "Enter Matrix-B: \n",
            "[0,0]value: 3\n",
            "[0,1]value: 3\n",
            "[1,0]value: 2\n",
            "[1,1]value: 2\n",
            "Matrix-A is: \n",
            "1\t2\t\n",
            "3\t3\t\n",
            "Matrix-B is: \n",
            "3\t3\t\n",
            "2\t2\t\n",
            "Mukitiplication of matrices is: \n",
            "7\t7\t\n",
            "15\t15\t\n"
          ]
        }
      ]
    },
    {
      "cell_type": "markdown",
      "metadata": {
        "id": "0sxgF-ZPbe5Z"
      },
      "source": [
        "# exercise 12"
      ]
    },
    {
      "cell_type": "markdown",
      "metadata": {
        "id": "U0Ksk2O3A54f"
      },
      "source": [
        "\n",
        "\n",
        "(a) Write a script that imports requests and fetch content from the page."
      ]
    },
    {
      "cell_type": "markdown",
      "metadata": {
        "id": "DsZOeeKwWm1h"
      },
      "source": [
        "Excercise 12: AIM: b) Write a scripts that imports requests and fetch content from the page.Eg. (Wiki)code: DESCRIPTION: The Hypertext Transfer Protocol (HTTP) is an application protocol for distributed, collaborative, hypermedia information systems. HTTP is the foundation of data communication for the World Wide Web. Python requests Requests is a simple and elegant Python HTTP library. It provides methods for accessing Web resources via HTTP. Python requests reading a web page The get() method issues a GET request; it fetches documents identified by the given URL."
      ]
    },
    {
      "cell_type": "code",
      "metadata": {
        "colab": {
          "base_uri": "https://localhost:8080/",
          "height": 248
        },
        "id": "KNhXBzNiBMSR",
        "outputId": "9b4a98df-e35d-41c5-8812-bbd995e7ba75"
      },
      "source": [
        "import requests\n",
        "r=requests.get('https://www.google.com')\n",
        "\n",
        "print(\"Statuscode: \",r.status_code)\n",
        "\n",
        "print(\"Header Content: \",r.header['content-type'])\n",
        "\n",
        "print(r.text)"
      ],
      "execution_count": null,
      "outputs": [
        {
          "name": "stdout",
          "output_type": "stream",
          "text": [
            "Statuscode:  200\n"
          ]
        },
        {
          "ename": "AttributeError",
          "evalue": "ignored",
          "output_type": "error",
          "traceback": [
            "\u001b[0;31m---------------------------------------------------------------------------\u001b[0m",
            "\u001b[0;31mAttributeError\u001b[0m                            Traceback (most recent call last)",
            "\u001b[0;32m<ipython-input-8-958621341694>\u001b[0m in \u001b[0;36m<module>\u001b[0;34m()\u001b[0m\n\u001b[1;32m      4\u001b[0m \u001b[0mprint\u001b[0m\u001b[0;34m(\u001b[0m\u001b[0;34m\"Statuscode: \"\u001b[0m\u001b[0;34m,\u001b[0m\u001b[0mr\u001b[0m\u001b[0;34m.\u001b[0m\u001b[0mstatus_code\u001b[0m\u001b[0;34m)\u001b[0m\u001b[0;34m\u001b[0m\u001b[0;34m\u001b[0m\u001b[0m\n\u001b[1;32m      5\u001b[0m \u001b[0;34m\u001b[0m\u001b[0m\n\u001b[0;32m----> 6\u001b[0;31m \u001b[0mprint\u001b[0m\u001b[0;34m(\u001b[0m\u001b[0;34m\"Header Content: \"\u001b[0m\u001b[0;34m,\u001b[0m\u001b[0mr\u001b[0m\u001b[0;34m.\u001b[0m\u001b[0mheader\u001b[0m\u001b[0;34m[\u001b[0m\u001b[0;34m'content-type'\u001b[0m\u001b[0;34m]\u001b[0m\u001b[0;34m)\u001b[0m\u001b[0;34m\u001b[0m\u001b[0;34m\u001b[0m\u001b[0m\n\u001b[0m\u001b[1;32m      7\u001b[0m \u001b[0;34m\u001b[0m\u001b[0m\n\u001b[1;32m      8\u001b[0m \u001b[0mprint\u001b[0m\u001b[0;34m(\u001b[0m\u001b[0mr\u001b[0m\u001b[0;34m.\u001b[0m\u001b[0mtext\u001b[0m\u001b[0;34m)\u001b[0m\u001b[0;34m\u001b[0m\u001b[0;34m\u001b[0m\u001b[0m\n",
            "\u001b[0;31mAttributeError\u001b[0m: 'Response' object has no attribute 'header'"
          ]
        }
      ]
    },
    {
      "cell_type": "markdown",
      "metadata": {
        "id": "OfbXrIIBCH7b"
      },
      "source": [
        "(b) Write a simple script that serves that serves a simple HTML page"
      ]
    },
    {
      "cell_type": "markdown",
      "metadata": {
        "id": "pk6N9sLtWpkj"
      },
      "source": [
        "AIM: c) Write a simple script that serves a simple HTTPResponse and Simple HTML page. DESCRIPTION: HTTP Protocol The most important part of a web server is HTTP protocol.So now we will see what exactly this is – It stands for Hyper Text Transfer Protocol. It is an application layer protocol that allows web based applications to communicate and exchange data. The HTTP is the messenger of web. The computer that communicate via the HTTP must speak the HTTP protocol. It is a TCP/IP based protocol. It is used to deliver contents, for eg. images, audios, videos, documents etc. Using HTTP is the most convenient way to quickly and reliably move data on the web. HTML stands for hypertext markup language. It is the standard markup language for web pages that define the structure of the content. These elements are the building blocks of any website"
      ]
    },
    {
      "cell_type": "code",
      "metadata": {
        "colab": {
          "base_uri": "https://localhost:8080/"
        },
        "id": "uNgGghMBCY6M",
        "outputId": "a503f928-939e-472a-ca22-19e1a5b7578f"
      },
      "source": [
        "from flask import Flask,render_template\n",
        "app=Flask(__name__)\n",
        "print(app)\n",
        "@app.route(\"/\")\n",
        "\n",
        "def main():\n",
        "  return render_template('login.html')\n",
        "\n",
        "  if name==\"__main__\":\n",
        "    app.run(host=\"127.0.0.1\",port=2500)"
      ],
      "execution_count": null,
      "outputs": [
        {
          "name": "stdout",
          "output_type": "stream",
          "text": [
            "<Flask '__main__'>\n"
          ]
        }
      ]
    },
    {
      "cell_type": "markdown",
      "metadata": {
        "id": "TTEqyc4sblGe"
      },
      "source": [
        "# exercise 13"
      ]
    },
    {
      "cell_type": "markdown",
      "metadata": {
        "id": "OeIJWgLcDYUC"
      },
      "source": [
        "\n",
        "\n",
        "(a) Class variables and instances variable and illustration of the self-variable\n",
        "1)"
      ]
    },
    {
      "cell_type": "markdown",
      "metadata": {
        "id": "UEwoLo03Ws0J"
      },
      "source": [
        "Exercise 13: AIM: a)class variables and instance variable and illustration of the self -variable DESCRIPTION: Variables are named storage location. In python variables are not defined by its type instead it will be automatically determined by the value assigned to it. To determine the type of a variable a function called type () is used. class variable is shared by all object instances of a class. .... They are not defined inside any methods of a class. Because a class variable is shared by instances of a class, the Python class owns the variable. As a result, all instances of the class will be able to access that variable Instance variables are owned by instances of the class. This means that for each object or instance of a class, the instance variables are different..... Instance variables, owned by objects of the class, allow for each object or instance to have different values assigned to those variables self variable is used to bind the instance of the class to the instance method. We have to explicitly declare it as the first method argument to access the instance variables and methods. This variable is used only with the instance methods."
      ]
    },
    {
      "cell_type": "code",
      "metadata": {
        "colab": {
          "base_uri": "https://localhost:8080/",
          "height": 248
        },
        "id": "6K_HtPvLDpZg",
        "outputId": "c219bfd7-f3de-4951-b7e0-bb70700f1670"
      },
      "source": [
        "class Robot:\n",
        "  what=\"Machine\"\n",
        "  name=\"Chitti\"\n",
        "  version=1.0\n",
        "  speed=\"1THz\"\n",
        "  memory=\"1ZB\"\n",
        "\n",
        "def updated(upd):\n",
        "  upd.version-2.0\n",
        "  upd.speed=\"2THz\"\n",
        "  upd.memory=\"2ZB\"\n",
        "\n",
        "def disp(self):\n",
        "  print(\"Myself is a\",robj.what)\n",
        "  print(\"MyName is a\",robj.name)\n",
        "  print(\"Version:\",robj.version)\n",
        "  print(\"Speed:\",robj.speed)\n",
        "  print(\"Memory:\",robj.memory)\n",
        "\n",
        "robj=Robot()\n",
        "robj.disp()\n",
        "print(\".......Update.......\")\n",
        "robj.update()\n",
        "robj.disp()\n",
        "\n"
      ],
      "execution_count": null,
      "outputs": [
        {
          "name": "stdout",
          "output_type": "stream",
          "text": [
            ".......Update.......\n"
          ]
        },
        {
          "ename": "AttributeError",
          "evalue": "ignored",
          "output_type": "error",
          "traceback": [
            "\u001b[0;31m---------------------------------------------------------------------------\u001b[0m",
            "\u001b[0;31mAttributeError\u001b[0m                            Traceback (most recent call last)",
            "\u001b[0;32m<ipython-input-15-2563ccf6d494>\u001b[0m in \u001b[0;36m<module>\u001b[0;34m()\u001b[0m\n\u001b[1;32m     21\u001b[0m \u001b[0;34m\u001b[0m\u001b[0m\n\u001b[1;32m     22\u001b[0m \u001b[0mprint\u001b[0m\u001b[0;34m(\u001b[0m\u001b[0;34m\".......Update.......\"\u001b[0m\u001b[0;34m)\u001b[0m\u001b[0;34m\u001b[0m\u001b[0;34m\u001b[0m\u001b[0m\n\u001b[0;32m---> 23\u001b[0;31m \u001b[0mrobj\u001b[0m\u001b[0;34m.\u001b[0m\u001b[0mupdate\u001b[0m\u001b[0;34m(\u001b[0m\u001b[0;34m)\u001b[0m\u001b[0;34m\u001b[0m\u001b[0;34m\u001b[0m\u001b[0m\n\u001b[0m\u001b[1;32m     24\u001b[0m \u001b[0mrobj\u001b[0m\u001b[0;34m.\u001b[0m\u001b[0mdisp\u001b[0m\u001b[0;34m(\u001b[0m\u001b[0;34m)\u001b[0m\u001b[0;34m\u001b[0m\u001b[0;34m\u001b[0m\u001b[0m\n\u001b[1;32m     25\u001b[0m \u001b[0;34m\u001b[0m\u001b[0m\n",
            "\u001b[0;31mAttributeError\u001b[0m: 'Robot' object has no attribute 'update'"
          ]
        }
      ]
    },
    {
      "cell_type": "markdown",
      "metadata": {
        "id": "H1YNRlrSF4OX"
      },
      "source": [
        "ATM Machine"
      ]
    },
    {
      "cell_type": "code",
      "metadata": {
        "colab": {
          "base_uri": "https://localhost:8080/"
        },
        "id": "g0vR8I9nF8ou",
        "outputId": "1cb336cd-2ff8-4158-a56f-e3046be376a9"
      },
      "source": [
        "class ATM:\n",
        "  def init(self):\n",
        "   self.balance=0\n",
        "   \n",
        "  def enquire(self):\n",
        "    print(\"Balance: \",balance)\n",
        "\n",
        "  def deposit(self):\n",
        "    amount=int(input(\"Enter the Deposit Amount : \"))\n",
        "    self.balance+=amount\n",
        "    self.enquire()\n",
        "\n",
        "  def withdraw(self):\n",
        "    amount=int(input(\"Enter the Withdraw Amount: \"))\n",
        "    if self.balance<amount:\n",
        "      print(\"Insufficient Balance....!\")\n",
        "    else:\n",
        "      self.balance-=amount\n",
        "      self.enquire()\n",
        "\n",
        "aobj=ATM()\n",
        "while(True):\n",
        "  print(\"****Menu****\")\n",
        "  print(\"1.Deposit\")\n",
        "  print(\"2.Withdraw\")\n",
        "  print(\"3.Balance\")\n",
        "  print(\"0.Exit\")\n",
        "  ch=int(input(\"Enter Your Choice: \"))\n",
        "  if ch==0:\n",
        "    break\n",
        "  elif ch==1:\n",
        "      aobj.deposit()\n",
        "  elif ch==2:\n",
        "      aobj.withdraw()\n",
        "  elif ch==3:\n",
        "      aobj.enquire()\n",
        "  else:\n",
        "      print(\"Invalid choice:\")\n",
        "      pass"
      ],
      "execution_count": null,
      "outputs": [
        {
          "name": "stdout",
          "output_type": "stream",
          "text": [
            "****Menu****\n",
            "1.Deposit\n",
            "2.Withdraw\n",
            "3.Balance\n",
            "0.Exit\n"
          ]
        }
      ]
    },
    {
      "cell_type": "markdown",
      "metadata": {
        "id": "CPNpbTJFbquP"
      },
      "source": [
        "# Exercise - 14"
      ]
    },
    {
      "cell_type": "markdown",
      "metadata": {
        "id": "mFf4vKs6gZNK"
      },
      "source": [
        " \n",
        " \n",
        " GUI, Graphics\n",
        " \n",
        "1. Write a GUI for an Expression Calculator using tk\n",
        " \n",
        "2. Write a program to implement the following figures using turtle"
      ]
    },
    {
      "cell_type": "markdown",
      "metadata": {
        "id": "3sYhQ-4UWxkm"
      },
      "source": [
        "Exercise 14: AIM: a. Write a GUI for an Expression Calculator using tk DESCRIPTION: Tkinter is a Python package which comes with many functions and methods that can be used to create an application. In order to create a tkinter application, we generally create an instance of tkinter frame, i.e., Tk(). It helps to display the root window and manages all the other components of the tkinter application. We can initialize the tkinter instance by assigning the variable to it."
      ]
    },
    {
      "cell_type": "code",
      "metadata": {
        "colab": {
          "base_uri": "https://localhost:8080/",
          "height": 350
        },
        "id": "pF7ODsjdCfB3",
        "outputId": "10c82a0e-3bcf-47a4-c7ef-abf61774fa87"
      },
      "source": [
        "from tkinter import *\n",
        "\n",
        "win = Tk() # to create a basic window\n",
        "win.geometry(\"312x324\")  #for the size of the window \n",
        "win.resizable(0, 0)  # to prevent from resizing the window\n",
        "win.title(\"Calculator\")\n",
        "\n",
        "# 'btn_click' Function continuously updates the \n",
        "# input field whenever you enters a number\n",
        "\n",
        "def btn_click(item):\n",
        "    global expression\n",
        "    expression = expression + str(item)\n",
        "    input_text.set(expression)\n",
        "\n",
        "# 'bt_clear' function : used to clear the input field\n",
        "\n",
        "def bt_clear(): \n",
        "    global expression \n",
        "    expression = \"\"\n",
        "    input_text.set(\"\")\n",
        "\n",
        "# 'bt_equal':calculates the expression present in input field\n",
        "\n",
        "def bt_equal():\n",
        "    global expression\n",
        "    result = str(eval(expression)) # 'eval':This function is used to evaluates the string expression directly\n",
        "    input_text.set(result)\n",
        "    expression = \"\"\n",
        "\n",
        "expression = \"\"\n",
        "\n",
        "# 'StringVar()' :used to get the instance of input field\n",
        "\n",
        "input_text = StringVar()\n",
        "\n",
        "# creating a frame for the input field\n",
        "\n",
        "input_frame = Frame(win, width=312, height=50, bd=0, highlightbackground=\"black\", highlightcolor=\"black\", highlightthickness=2)\n",
        "\n",
        "input_frame.pack(side=TOP)\n",
        "\n",
        "#create a input field inside the 'Frame'\n",
        "\n",
        "input_field = Entry(input_frame, font=('arial', 18, 'bold'), textvariable=input_text, width=50, bg=\"#eee\", bd=0, justify=RIGHT)\n",
        "\n",
        "input_field.grid(row=0, column=0)\n",
        "\n",
        "input_field.pack(ipady=10)\n",
        "# 'ipady' is internal padding to increase the height of input field\n",
        "\n",
        "#creating another 'Frame' for the button below the 'input_frame'\n",
        "\n",
        "btns_frame = Frame(win, width=312, height=272.5, bg=\"grey\")\n",
        "\n",
        "btns_frame.pack()\n",
        "\n",
        "# first row\n",
        "\n",
        "clear = Button(btns_frame, text = \"C\", fg = \"black\", width = 32, height = 3, bd = 0, bg = \"#eee\", cursor = \"hand2\", command = lambda: bt_clear()).grid(row = 0, column = 0, columnspan = 3, padx = 1, pady = 1)\n",
        "\n",
        "divide = Button(btns_frame, text = \"/\", fg = \"black\", width = 10, height = 3, bd = 0, bg = \"#eee\", cursor = \"hand2\", command = lambda: btn_click(\"/\")).grid(row = 0, column = 3, padx = 1, pady = 1)\n",
        "\n",
        "# second row\n",
        "\n",
        "seven = Button(btns_frame, text = \"7\", fg = \"black\", width = 10, height = 3, bd = 0, bg = \"#fff\", cursor = \"hand2\", command = lambda: btn_click(7)).grid(row = 1, column = 0, padx = 1, pady = 1)\n",
        "\n",
        "eight = Button(btns_frame, text = \"8\", fg = \"black\", width = 10, height = 3, bd = 0, bg = \"#fff\", cursor = \"hand2\", command = lambda: btn_click(8)).grid(row = 1, column = 1, padx = 1, pady = 1)\n",
        "\n",
        "nine = Button(btns_frame, text = \"9\", fg = \"black\", width = 10, height = 3, bd = 0, bg = \"#fff\", cursor = \"hand2\", command = lambda: btn_click(9)).grid(row = 1, column = 2, padx = 1, pady = 1)\n",
        "\n",
        "multiply = Button(btns_frame, text = \"\", fg = \"black\", width = 10, height = 3, bd = 0, bg = \"#eee\", cursor = \"hand2\", command = lambda: btn_click(\"\")).grid(row = 1, column = 3, padx = 1, pady = 1)\n",
        "\n",
        "# third row\n",
        "\n",
        "four = Button(btns_frame, text = \"4\", fg = \"black\", width = 10, height = 3, bd = 0, bg = \"#fff\", cursor = \"hand2\", command = lambda: btn_click(4)).grid(row = 2, column = 0, padx = 1, pady = 1)\n",
        "\n",
        "five = Button(btns_frame, text = \"5\", fg = \"black\", width = 10, height = 3, bd = 0, bg = \"#fff\", cursor = \"hand2\", command = lambda: btn_click(5)).grid(row = 2, column = 1, padx = 1, pady = 1)\n",
        "\n",
        "six = Button(btns_frame, text = \"6\", fg = \"black\", width = 10, height = 3, bd = 0, bg = \"#fff\", cursor = \"hand2\", command = lambda: btn_click(6)).grid(row = 2, column = 2, padx = 1, pady = 1)\n",
        "\n",
        "minus = Button(btns_frame, text = \"-\", fg = \"black\", width = 10, height = 3, bd = 0, bg = \"#eee\", cursor = \"hand2\", command = lambda: btn_click(\"-\")).grid(row = 2, column = 3, padx = 1, pady = 1)\n",
        "\n",
        "# fourth row\n",
        "\n",
        "one = Button(btns_frame, text = \"1\", fg = \"black\", width = 10, height = 3, bd = 0, bg = \"#fff\", cursor = \"hand2\", command = lambda: btn_click(1)).grid(row = 3, column = 0, padx = 1, pady = 1)\n",
        "\n",
        "two = Button(btns_frame, text = \"2\", fg = \"black\", width = 10, height = 3, bd = 0, bg = \"#fff\", cursor = \"hand2\", command = lambda: btn_click(2)).grid(row = 3, column = 1, padx = 1, pady = 1)\n",
        "\n",
        "three = Button(btns_frame, text = \"3\", fg = \"black\", width = 10, height = 3, bd = 0, bg = \"#fff\", cursor = \"hand2\", command = lambda: btn_click(3)).grid(row = 3, column = 2, padx = 1, pady = 1)\n",
        "\n",
        "plus = Button(btns_frame, text = \"+\", fg = \"black\", width = 10, height = 3, bd = 0, bg = \"#eee\", cursor = \"hand2\", command = lambda: btn_click(\"+\")).grid(row = 3, column = 3, padx = 1, pady = 1)\n",
        "\n",
        "# fifth row\n",
        "\n",
        "zero = Button(btns_frame, text = \"0\", fg = \"black\", width = 21, height = 3, bd = 0, bg = \"#fff\", cursor = \"hand2\", command = lambda: btn_click(0)).grid(row = 4, column = 0, columnspan = 2, padx = 1, pady = 1)\n",
        "\n",
        "point = Button(btns_frame, text = \".\", fg = \"black\", width = 10, height = 3, bd = 0, bg = \"#eee\", cursor = \"hand2\", command = lambda: btn_click(\".\")).grid(row = 4, column = 2, padx = 1, pady = 1)\n",
        "\n",
        "equals = Button(btns_frame, text = \"=\", fg = \"black\", width = 10, height = 3, bd = 0, bg = \"#eee\", cursor = \"hand2\", command = lambda: bt_equal()).grid(row = 4, column = 3, padx = 1, pady = 1)\n",
        "\n",
        "win.mainloop()"
      ],
      "execution_count": null,
      "outputs": [
        {
          "ename": "TclError",
          "evalue": "ignored",
          "output_type": "error",
          "traceback": [
            "\u001b[0;31m---------------------------------------------------------------------------\u001b[0m",
            "\u001b[0;31mTclError\u001b[0m                                  Traceback (most recent call last)",
            "\u001b[0;32m<ipython-input-1-d6577ed3b2f9>\u001b[0m in \u001b[0;36m<module>\u001b[0;34m()\u001b[0m\n\u001b[1;32m      1\u001b[0m \u001b[0;32mfrom\u001b[0m \u001b[0mtkinter\u001b[0m \u001b[0;32mimport\u001b[0m \u001b[0;34m*\u001b[0m\u001b[0;34m\u001b[0m\u001b[0;34m\u001b[0m\u001b[0m\n\u001b[1;32m      2\u001b[0m \u001b[0;34m\u001b[0m\u001b[0m\n\u001b[0;32m----> 3\u001b[0;31m \u001b[0mwin\u001b[0m \u001b[0;34m=\u001b[0m \u001b[0mTk\u001b[0m\u001b[0;34m(\u001b[0m\u001b[0;34m)\u001b[0m \u001b[0;31m# to create a basic window\u001b[0m\u001b[0;34m\u001b[0m\u001b[0;34m\u001b[0m\u001b[0m\n\u001b[0m\u001b[1;32m      4\u001b[0m \u001b[0mwin\u001b[0m\u001b[0;34m.\u001b[0m\u001b[0mgeometry\u001b[0m\u001b[0;34m(\u001b[0m\u001b[0;34m\"312x324\"\u001b[0m\u001b[0;34m)\u001b[0m  \u001b[0;31m#for the size of the window\u001b[0m\u001b[0;34m\u001b[0m\u001b[0;34m\u001b[0m\u001b[0m\n\u001b[1;32m      5\u001b[0m \u001b[0mwin\u001b[0m\u001b[0;34m.\u001b[0m\u001b[0mresizable\u001b[0m\u001b[0;34m(\u001b[0m\u001b[0;36m0\u001b[0m\u001b[0;34m,\u001b[0m \u001b[0;36m0\u001b[0m\u001b[0;34m)\u001b[0m  \u001b[0;31m# to prevent from resizing the window\u001b[0m\u001b[0;34m\u001b[0m\u001b[0;34m\u001b[0m\u001b[0m\n",
            "\u001b[0;32m/usr/lib/python3.7/tkinter/__init__.py\u001b[0m in \u001b[0;36m__init__\u001b[0;34m(self, screenName, baseName, className, useTk, sync, use)\u001b[0m\n\u001b[1;32m   2021\u001b[0m                 \u001b[0mbaseName\u001b[0m \u001b[0;34m=\u001b[0m \u001b[0mbaseName\u001b[0m \u001b[0;34m+\u001b[0m \u001b[0mext\u001b[0m\u001b[0;34m\u001b[0m\u001b[0;34m\u001b[0m\u001b[0m\n\u001b[1;32m   2022\u001b[0m         \u001b[0minteractive\u001b[0m \u001b[0;34m=\u001b[0m \u001b[0;36m0\u001b[0m\u001b[0;34m\u001b[0m\u001b[0;34m\u001b[0m\u001b[0m\n\u001b[0;32m-> 2023\u001b[0;31m         \u001b[0mself\u001b[0m\u001b[0;34m.\u001b[0m\u001b[0mtk\u001b[0m \u001b[0;34m=\u001b[0m \u001b[0m_tkinter\u001b[0m\u001b[0;34m.\u001b[0m\u001b[0mcreate\u001b[0m\u001b[0;34m(\u001b[0m\u001b[0mscreenName\u001b[0m\u001b[0;34m,\u001b[0m \u001b[0mbaseName\u001b[0m\u001b[0;34m,\u001b[0m \u001b[0mclassName\u001b[0m\u001b[0;34m,\u001b[0m \u001b[0minteractive\u001b[0m\u001b[0;34m,\u001b[0m \u001b[0mwantobjects\u001b[0m\u001b[0;34m,\u001b[0m \u001b[0museTk\u001b[0m\u001b[0;34m,\u001b[0m \u001b[0msync\u001b[0m\u001b[0;34m,\u001b[0m \u001b[0muse\u001b[0m\u001b[0;34m)\u001b[0m\u001b[0;34m\u001b[0m\u001b[0;34m\u001b[0m\u001b[0m\n\u001b[0m\u001b[1;32m   2024\u001b[0m         \u001b[0;32mif\u001b[0m \u001b[0museTk\u001b[0m\u001b[0;34m:\u001b[0m\u001b[0;34m\u001b[0m\u001b[0;34m\u001b[0m\u001b[0m\n\u001b[1;32m   2025\u001b[0m             \u001b[0mself\u001b[0m\u001b[0;34m.\u001b[0m\u001b[0m_loadtk\u001b[0m\u001b[0;34m(\u001b[0m\u001b[0;34m)\u001b[0m\u001b[0;34m\u001b[0m\u001b[0;34m\u001b[0m\u001b[0m\n",
            "\u001b[0;31mTclError\u001b[0m: no display name and no $DISPLAY environment variable"
          ]
        }
      ]
    },
    {
      "cell_type": "markdown",
      "metadata": {
        "id": "kjbs6rrXW1Wy"
      },
      "source": [
        "AIM: b. Write a program to implement the following figures using turtle DESCRIPTION: The turtle module is an extended reimplementation of the same-named module from the Python standard distribution up to version Python 2.5. It tries to keep the merits of the old turtle module and to be (nearly) 100% compatible with it. This means in the first place to enable the learning programmer to use all the commands, classes and methods interactively when using the module from within IDLE run with the -n switch. The turtle module provides turtle graphics primitives, in both object-oriented and procedure- oriented ways. Because it uses tkinter for the underlying graphics, it needs a version of Python installed with Tk support"
      ]
    },
    {
      "cell_type": "code",
      "metadata": {
        "colab": {
          "base_uri": "https://localhost:8080/",
          "height": 374
        },
        "id": "iLw-se5XgaCT",
        "outputId": "e3d6a578-767e-4e90-e0f9-4c286ef4f2ce"
      },
      "source": [
        "import turtle\n",
        "c=[\"red\",\"green\",\"blue\"]\n",
        "i=0\n",
        "turtle.pensize(5)\n",
        "\n",
        "for angle in range(0,360,30):\n",
        "    if i>2:\n",
        "        i=0\n",
        "    turtle.color(c[i])\n",
        "    turtle.seth(angle)\n",
        "    turtle.circle(50)\n",
        "    i+=1"
      ],
      "execution_count": null,
      "outputs": [
        {
          "ename": "TclError",
          "evalue": "ignored",
          "output_type": "error",
          "traceback": [
            "\u001b[0;31m---------------------------------------------------------------------------\u001b[0m",
            "\u001b[0;31mTclError\u001b[0m                                  Traceback (most recent call last)",
            "\u001b[0;32m<ipython-input-2-f95b0a16c05d>\u001b[0m in \u001b[0;36m<module>\u001b[0;34m()\u001b[0m\n\u001b[1;32m      2\u001b[0m \u001b[0mc\u001b[0m\u001b[0;34m=\u001b[0m\u001b[0;34m[\u001b[0m\u001b[0;34m\"red\"\u001b[0m\u001b[0;34m,\u001b[0m\u001b[0;34m\"green\"\u001b[0m\u001b[0;34m,\u001b[0m\u001b[0;34m\"blue\"\u001b[0m\u001b[0;34m]\u001b[0m\u001b[0;34m\u001b[0m\u001b[0;34m\u001b[0m\u001b[0m\n\u001b[1;32m      3\u001b[0m \u001b[0mi\u001b[0m\u001b[0;34m=\u001b[0m\u001b[0;36m0\u001b[0m\u001b[0;34m\u001b[0m\u001b[0;34m\u001b[0m\u001b[0m\n\u001b[0;32m----> 4\u001b[0;31m \u001b[0mturtle\u001b[0m\u001b[0;34m.\u001b[0m\u001b[0mpensize\u001b[0m\u001b[0;34m(\u001b[0m\u001b[0;36m5\u001b[0m\u001b[0;34m)\u001b[0m\u001b[0;34m\u001b[0m\u001b[0;34m\u001b[0m\u001b[0m\n\u001b[0m\u001b[1;32m      5\u001b[0m \u001b[0;34m\u001b[0m\u001b[0m\n\u001b[1;32m      6\u001b[0m \u001b[0;32mfor\u001b[0m \u001b[0mangle\u001b[0m \u001b[0;32min\u001b[0m \u001b[0mrange\u001b[0m\u001b[0;34m(\u001b[0m\u001b[0;36m0\u001b[0m\u001b[0;34m,\u001b[0m\u001b[0;36m360\u001b[0m\u001b[0;34m,\u001b[0m\u001b[0;36m30\u001b[0m\u001b[0;34m)\u001b[0m\u001b[0;34m:\u001b[0m\u001b[0;34m\u001b[0m\u001b[0;34m\u001b[0m\u001b[0m\n",
            "\u001b[0;32m/usr/lib/python3.7/turtle.py\u001b[0m in \u001b[0;36mpensize\u001b[0;34m(width)\u001b[0m\n",
            "\u001b[0;32m/usr/lib/python3.7/turtle.py\u001b[0m in \u001b[0;36m__init__\u001b[0;34m(self, shape, undobuffersize, visible)\u001b[0m\n\u001b[1;32m   3810\u001b[0m                  visible=_CFG[\"visible\"]):\n\u001b[1;32m   3811\u001b[0m         \u001b[0;32mif\u001b[0m \u001b[0mTurtle\u001b[0m\u001b[0;34m.\u001b[0m\u001b[0m_screen\u001b[0m \u001b[0;32mis\u001b[0m \u001b[0;32mNone\u001b[0m\u001b[0;34m:\u001b[0m\u001b[0;34m\u001b[0m\u001b[0;34m\u001b[0m\u001b[0m\n\u001b[0;32m-> 3812\u001b[0;31m             \u001b[0mTurtle\u001b[0m\u001b[0;34m.\u001b[0m\u001b[0m_screen\u001b[0m \u001b[0;34m=\u001b[0m \u001b[0mScreen\u001b[0m\u001b[0;34m(\u001b[0m\u001b[0;34m)\u001b[0m\u001b[0;34m\u001b[0m\u001b[0;34m\u001b[0m\u001b[0m\n\u001b[0m\u001b[1;32m   3813\u001b[0m         RawTurtle.__init__(self, Turtle._screen,\n\u001b[1;32m   3814\u001b[0m                            \u001b[0mshape\u001b[0m\u001b[0;34m=\u001b[0m\u001b[0mshape\u001b[0m\u001b[0;34m,\u001b[0m\u001b[0;34m\u001b[0m\u001b[0;34m\u001b[0m\u001b[0m\n",
            "\u001b[0;32m/usr/lib/python3.7/turtle.py\u001b[0m in \u001b[0;36mScreen\u001b[0;34m()\u001b[0m\n\u001b[1;32m   3660\u001b[0m     else return the existing one.\"\"\"\n\u001b[1;32m   3661\u001b[0m     \u001b[0;32mif\u001b[0m \u001b[0mTurtle\u001b[0m\u001b[0;34m.\u001b[0m\u001b[0m_screen\u001b[0m \u001b[0;32mis\u001b[0m \u001b[0;32mNone\u001b[0m\u001b[0;34m:\u001b[0m\u001b[0;34m\u001b[0m\u001b[0;34m\u001b[0m\u001b[0m\n\u001b[0;32m-> 3662\u001b[0;31m         \u001b[0mTurtle\u001b[0m\u001b[0;34m.\u001b[0m\u001b[0m_screen\u001b[0m \u001b[0;34m=\u001b[0m \u001b[0m_Screen\u001b[0m\u001b[0;34m(\u001b[0m\u001b[0;34m)\u001b[0m\u001b[0;34m\u001b[0m\u001b[0;34m\u001b[0m\u001b[0m\n\u001b[0m\u001b[1;32m   3663\u001b[0m     \u001b[0;32mreturn\u001b[0m \u001b[0mTurtle\u001b[0m\u001b[0;34m.\u001b[0m\u001b[0m_screen\u001b[0m\u001b[0;34m\u001b[0m\u001b[0;34m\u001b[0m\u001b[0m\n\u001b[1;32m   3664\u001b[0m \u001b[0;34m\u001b[0m\u001b[0m\n",
            "\u001b[0;32m/usr/lib/python3.7/turtle.py\u001b[0m in \u001b[0;36m__init__\u001b[0;34m(self)\u001b[0m\n\u001b[1;32m   3676\u001b[0m         \u001b[0;31m# preserved (perhaps by passing it as an optional parameter)\u001b[0m\u001b[0;34m\u001b[0m\u001b[0;34m\u001b[0m\u001b[0;34m\u001b[0m\u001b[0m\n\u001b[1;32m   3677\u001b[0m         \u001b[0;32mif\u001b[0m \u001b[0m_Screen\u001b[0m\u001b[0;34m.\u001b[0m\u001b[0m_root\u001b[0m \u001b[0;32mis\u001b[0m \u001b[0;32mNone\u001b[0m\u001b[0;34m:\u001b[0m\u001b[0;34m\u001b[0m\u001b[0;34m\u001b[0m\u001b[0m\n\u001b[0;32m-> 3678\u001b[0;31m             \u001b[0m_Screen\u001b[0m\u001b[0;34m.\u001b[0m\u001b[0m_root\u001b[0m \u001b[0;34m=\u001b[0m \u001b[0mself\u001b[0m\u001b[0;34m.\u001b[0m\u001b[0m_root\u001b[0m \u001b[0;34m=\u001b[0m \u001b[0m_Root\u001b[0m\u001b[0;34m(\u001b[0m\u001b[0;34m)\u001b[0m\u001b[0;34m\u001b[0m\u001b[0;34m\u001b[0m\u001b[0m\n\u001b[0m\u001b[1;32m   3679\u001b[0m             \u001b[0mself\u001b[0m\u001b[0;34m.\u001b[0m\u001b[0m_root\u001b[0m\u001b[0;34m.\u001b[0m\u001b[0mtitle\u001b[0m\u001b[0;34m(\u001b[0m\u001b[0m_Screen\u001b[0m\u001b[0;34m.\u001b[0m\u001b[0m_title\u001b[0m\u001b[0;34m)\u001b[0m\u001b[0;34m\u001b[0m\u001b[0;34m\u001b[0m\u001b[0m\n\u001b[1;32m   3680\u001b[0m             \u001b[0mself\u001b[0m\u001b[0;34m.\u001b[0m\u001b[0m_root\u001b[0m\u001b[0;34m.\u001b[0m\u001b[0mondestroy\u001b[0m\u001b[0;34m(\u001b[0m\u001b[0mself\u001b[0m\u001b[0;34m.\u001b[0m\u001b[0m_destroy\u001b[0m\u001b[0;34m)\u001b[0m\u001b[0;34m\u001b[0m\u001b[0;34m\u001b[0m\u001b[0m\n",
            "\u001b[0;32m/usr/lib/python3.7/turtle.py\u001b[0m in \u001b[0;36m__init__\u001b[0;34m(self)\u001b[0m\n\u001b[1;32m    432\u001b[0m     \u001b[0;34m\"\"\"Root class for Screen based on Tkinter.\"\"\"\u001b[0m\u001b[0;34m\u001b[0m\u001b[0;34m\u001b[0m\u001b[0m\n\u001b[1;32m    433\u001b[0m     \u001b[0;32mdef\u001b[0m \u001b[0m__init__\u001b[0m\u001b[0;34m(\u001b[0m\u001b[0mself\u001b[0m\u001b[0;34m)\u001b[0m\u001b[0;34m:\u001b[0m\u001b[0;34m\u001b[0m\u001b[0;34m\u001b[0m\u001b[0m\n\u001b[0;32m--> 434\u001b[0;31m         \u001b[0mTK\u001b[0m\u001b[0;34m.\u001b[0m\u001b[0mTk\u001b[0m\u001b[0;34m.\u001b[0m\u001b[0m__init__\u001b[0m\u001b[0;34m(\u001b[0m\u001b[0mself\u001b[0m\u001b[0;34m)\u001b[0m\u001b[0;34m\u001b[0m\u001b[0;34m\u001b[0m\u001b[0m\n\u001b[0m\u001b[1;32m    435\u001b[0m \u001b[0;34m\u001b[0m\u001b[0m\n\u001b[1;32m    436\u001b[0m     \u001b[0;32mdef\u001b[0m \u001b[0msetupcanvas\u001b[0m\u001b[0;34m(\u001b[0m\u001b[0mself\u001b[0m\u001b[0;34m,\u001b[0m \u001b[0mwidth\u001b[0m\u001b[0;34m,\u001b[0m \u001b[0mheight\u001b[0m\u001b[0;34m,\u001b[0m \u001b[0mcwidth\u001b[0m\u001b[0;34m,\u001b[0m \u001b[0mcheight\u001b[0m\u001b[0;34m)\u001b[0m\u001b[0;34m:\u001b[0m\u001b[0;34m\u001b[0m\u001b[0;34m\u001b[0m\u001b[0m\n",
            "\u001b[0;32m/usr/lib/python3.7/tkinter/__init__.py\u001b[0m in \u001b[0;36m__init__\u001b[0;34m(self, screenName, baseName, className, useTk, sync, use)\u001b[0m\n\u001b[1;32m   2021\u001b[0m                 \u001b[0mbaseName\u001b[0m \u001b[0;34m=\u001b[0m \u001b[0mbaseName\u001b[0m \u001b[0;34m+\u001b[0m \u001b[0mext\u001b[0m\u001b[0;34m\u001b[0m\u001b[0;34m\u001b[0m\u001b[0m\n\u001b[1;32m   2022\u001b[0m         \u001b[0minteractive\u001b[0m \u001b[0;34m=\u001b[0m \u001b[0;36m0\u001b[0m\u001b[0;34m\u001b[0m\u001b[0;34m\u001b[0m\u001b[0m\n\u001b[0;32m-> 2023\u001b[0;31m         \u001b[0mself\u001b[0m\u001b[0;34m.\u001b[0m\u001b[0mtk\u001b[0m \u001b[0;34m=\u001b[0m \u001b[0m_tkinter\u001b[0m\u001b[0;34m.\u001b[0m\u001b[0mcreate\u001b[0m\u001b[0;34m(\u001b[0m\u001b[0mscreenName\u001b[0m\u001b[0;34m,\u001b[0m \u001b[0mbaseName\u001b[0m\u001b[0;34m,\u001b[0m \u001b[0mclassName\u001b[0m\u001b[0;34m,\u001b[0m \u001b[0minteractive\u001b[0m\u001b[0;34m,\u001b[0m \u001b[0mwantobjects\u001b[0m\u001b[0;34m,\u001b[0m \u001b[0museTk\u001b[0m\u001b[0;34m,\u001b[0m \u001b[0msync\u001b[0m\u001b[0;34m,\u001b[0m \u001b[0muse\u001b[0m\u001b[0;34m)\u001b[0m\u001b[0;34m\u001b[0m\u001b[0;34m\u001b[0m\u001b[0m\n\u001b[0m\u001b[1;32m   2024\u001b[0m         \u001b[0;32mif\u001b[0m \u001b[0museTk\u001b[0m\u001b[0;34m:\u001b[0m\u001b[0;34m\u001b[0m\u001b[0;34m\u001b[0m\u001b[0m\n\u001b[1;32m   2025\u001b[0m             \u001b[0mself\u001b[0m\u001b[0;34m.\u001b[0m\u001b[0m_loadtk\u001b[0m\u001b[0;34m(\u001b[0m\u001b[0;34m)\u001b[0m\u001b[0;34m\u001b[0m\u001b[0;34m\u001b[0m\u001b[0m\n",
            "\u001b[0;31mTclError\u001b[0m: no display name and no $DISPLAY environment variable"
          ]
        }
      ]
    },
    {
      "cell_type": "code",
      "metadata": {
        "id": "G-65FBC3gaFi"
      },
      "source": [
        " import turtle\n",
        "turtle.pensize(1)\n",
        " \n",
        "for i in range(36):\n",
        "    for j in range(4):\n",
        "        turtle.forward(70)\n",
        "        turtle.left(90)\n",
        "    turtle.left(10)"
      ],
      "execution_count": null,
      "outputs": []
    },
    {
      "cell_type": "markdown",
      "metadata": {
        "id": "TV926ZM-bvt4"
      },
      "source": [
        "# Exercise - 15 - Testing"
      ]
    },
    {
      "cell_type": "markdown",
      "metadata": {
        "id": "1DEzh-4dgPWc"
      },
      "source": [
        " \n",
        "\n",
        "a) Write a test-case to check the function even numbers which return True on passing a list of all even numbers\n",
        "\n",
        "b) Write a test-case to check the function reverse string which returns the reversed string"
      ]
    },
    {
      "cell_type": "markdown",
      "metadata": {
        "id": "LDLJxvkOW58F"
      },
      "source": [
        "Exercise 15: AIM: a)write a test-case to check the function even numbers which return true on passing a list of all even numbers DESCRIPTION: TestCase is used to create test cases by subclassing it. The last block of the code at the bottom allows us to run all the tests just by running the file. Basic terms used in the code : assertEqual() – This statement is used to check if the result obtained is equal to the expected result test case: A test case is a set of conditions which is used to determine whether a system under test works correctly."
      ]
    },
    {
      "cell_type": "code",
      "metadata": {
        "colab": {
          "base_uri": "https://localhost:8080/"
        },
        "id": "miTN8wYbgONQ",
        "outputId": "6af2d02c-ea71-4fdf-a1b6-56c8517b5788"
      },
      "source": [
        "def even(num):\n",
        "  st= True\n",
        "  for i in num:\n",
        "    if i%2==0:\n",
        "      st=False\n",
        "      break\n",
        "  return st\n",
        "numbers=[]\n",
        "print(\"enter th efive nums:\")\n",
        "for i in range(0,5):\n",
        "  numbers.append(int(input(\"enter a value:\")))\n",
        "print(even(numbers))\n"
      ],
      "execution_count": null,
      "outputs": [
        {
          "name": "stdout",
          "output_type": "stream",
          "text": [
            "enter th efive nums:\n",
            "enter a value:12\n",
            "enter a value:224\n",
            "enter a value:15\n",
            "enter a value:65\n",
            "enter a value:35\n",
            "False\n"
          ]
        }
      ]
    },
    {
      "cell_type": "markdown",
      "metadata": {
        "id": "As7Zp6zab1Zc"
      },
      "source": [
        "b)write a test-case to check function reverse string which returns the reversed string"
      ]
    },
    {
      "cell_type": "markdown",
      "metadata": {
        "id": "qe7vdUq3XJf0"
      },
      "source": [
        "AIM: b)write a test-case to check the function reverse string which returns the reversed string DESCRIPTION: Python string library does’nt support the in-built “reverse()” as done by other python containers like list, hence knowing other methods to reverse string can prove to be useful. This article discusses several ways to achieve it. The reversed() returns the reversed iterator of the given string and then its elements are joined empty string separated using join(). And reversed order string is formed"
      ]
    },
    {
      "cell_type": "code",
      "metadata": {
        "id": "lwyfne-7XENq"
      },
      "source": [
        "#b)write a test-case to check function reverse string which returns the reversed string\n",
        "\n",
        "\n",
        "def rev_string(name):\n",
        "    return name[::-1]\n",
        "\n",
        "\n",
        "name=input(\"enter any String: \")\n",
        "\n",
        "print(\"Reverse of the given String = \"+rev_string(name))"
      ],
      "execution_count": null,
      "outputs": []
    },
    {
      "cell_type": "markdown",
      "metadata": {
        "id": "EVRAW-Nyb7rT"
      },
      "source": [
        "# EXERCISE-16:ADVANCED"
      ]
    },
    {
      "cell_type": "markdown",
      "metadata": {
        "id": "F3LbG0RI79L8"
      },
      "source": [
        "  A) BUILD ANY ONE CLASSICAL DATA STRUCTURE.\n",
        " B) WRITE A PROGRAM TO SOLVE KNAPSACK PROBLEM."
      ]
    },
    {
      "cell_type": "markdown",
      "metadata": {
        "id": "2rLLW5ZFXNEM"
      },
      "source": [
        "Exercise 16: AIM: a)Build any one classical data structure DESCRIPTION: What is a Data Structure? Organizing, managing and storing data is important as it enables easier access and eficient modifications. Data Structures allows you to organize your data in such a way that enables you to store collections of data, relate them and perform operations on them accordingly. Stack Stacks are linear Data Structures which are based on the principle of Last-In-First-Out (LIFO) where data which is entered last will be the first to get accessed. It is built using the array structure and has operations namely, pushing (adding) elements, popping (deleting) elements and accessing elements only from one point in the stack called as the TOP. This TOP is the pointer to the current position of the stack. Stacks are prominently used in applications such as Recursive Programming, reversing words, undo mechanisms in word editors and so forth"
      ]
    },
    {
      "cell_type": "code",
      "metadata": {
        "colab": {
          "background_save": true,
          "base_uri": "https://localhost:8080/"
        },
        "id": "7HFr6Xcb8SWo",
        "outputId": "bd95e5b2-4ee8-4d3e-d01e-fe40355cab08"
      },
      "source": [
        " import sys\n",
        "a=[]\n",
        " \n",
        "while True:\n",
        "  print (\"\\nl.PUSH 2.POP 3.DISPLAY 4.EXIT\")\n",
        "  ch=int(input(\"Enter Your Choice: \"))\n",
        "  if ch==1:\n",
        "   ele=int(input(\"Enter element: \"))\n",
        "   a.append(ele)\n",
        "   print(\"Inserted\")\n",
        "  elif ch==2:\n",
        "   if len(a)==0:\n",
        "     print (\"\\t STACK IS EMPTY\")\n",
        "   else:\n",
        "     print (\"Deleted element is: \",a[len(a)-1])\n",
        "     a.remove(a[len(a)-1])\n",
        "  elif ch==3:\n",
        "   if len(a)==0:\n",
        "     print (\"\\t STACK IS EMPTY\")\n",
        "   else:\n",
        "    print (\"The Elements in Stack is: \")\n",
        "    for i in reversed(a):\n",
        "       print(i)\n",
        "  elif ch==4:\n",
        "    sys.exit()\n",
        "  else:\n",
        "   print (\"\\tINVALID CHOICE\")"
      ],
      "execution_count": null,
      "outputs": [
        {
          "name": "stdout",
          "output_type": "stream",
          "text": [
            "\n",
            "l.PUSH 2.POP 3.DISPLAY 4.EXIT\n",
            "\tINVALID CHOICE\n",
            "\n",
            "l.PUSH 2.POP 3.DISPLAY 4.EXIT\n"
          ]
        }
      ]
    },
    {
      "cell_type": "markdown",
      "metadata": {
        "id": "zvq9bzLPXUFW"
      },
      "source": [
        "AIM: b)write a program to solve knapsack problem DESCRIPTION: python program for 0-1 knapsack problem Problem statement-We are given weights and values of n items, we need to put these items in a bag of capacity W up to the maximum capacity w. We need to carry a maximum number of items and return its value."
      ]
    },
    {
      "cell_type": "code",
      "metadata": {
        "colab": {
          "base_uri": "https://localhost:8080/"
        },
        "id": "-O9tpFDM8S6E",
        "outputId": "41cba3c2-d6f0-4801-af87-8e3b43715610"
      },
      "source": [
        "def knapSack(W, wt, val, n):\n",
        "   K= [[0 for x in range(W+1)] for x in range(n+1)]\n",
        "   for i in range(n+1):\n",
        "     for w in range(W+1):\n",
        "       if i==0 or w==0:\n",
        "          K[i][w] = 0\n",
        "       elif wt[i-1]<=w:\n",
        "          K[i][w]= max(val[i-1]+K[i-1][w-wt[i-1]],K[i-1][w])\n",
        "       else:\n",
        "          K[i][w] = K[i-1][w]\n",
        "   return K[n][W]\n",
        "val = [5, 3, 4]\n",
        "wt = [3, 2, 1]\n",
        "W = 5\n",
        "n= len(val)\n",
        "print(\"Maximum value knapsack of capacity W: \", knapSack(W, wt,val,n))"
      ],
      "execution_count": null,
      "outputs": [
        {
          "name": "stdout",
          "output_type": "stream",
          "text": [
            "Maximum value knapsack of capacity W:  9\n"
          ]
        }
      ]
    },
    {
      "cell_type": "markdown",
      "metadata": {
        "id": "bj5BCBfncA9b"
      },
      "source": [
        "# EXERCISE 17 "
      ]
    },
    {
      "cell_type": "markdown",
      "metadata": {
        "id": "iUhvbp8Q8jzN"
      },
      "source": [
        "EXERCISE 17 & 18-DATA ANALYSIS DATA ANALYSIS OR MANIPULATION USING THE FOLLOWING PACKAGES A) NUMPY B) PANDAS A) SCIPY B) MATPLOTLIB"
      ]
    },
    {
      "cell_type": "markdown",
      "metadata": {
        "id": "q51AvL1XXZiE"
      },
      "source": [
        "Exercise 17 & 18- Data analysis AIM:\n",
        "\n",
        "Data analysis or manipulation using the following packages a) Numpy b) Pandas a) Scipy b) matplotlib\n",
        "DESCRIPTION: Learn how to analyze data using Python..... It includes following parts: Data Analysis libraries: will learn to use Pandas, Numpy and Scipy libraries to work with a sample dataset. We will introduce you to pandas, an open-source library, and we will use it to load, manipulate, analyze, and visualize cool datasets. SciPy is a free and open-source Python library used for scientific computing and technical computing. It is a collection of mathematical algorithms and convenience functions built on the NumPy extension of Python NumPy is the fundamental package for scientific computing in Python. .... NumPy arrays facilitate advanced mathematical and other types of operations on large numbers of data. Matplotlib is a plotting library for the Python programming language and its numerical mathematics extension NumPy. It provides an object-oriented API for embedding plots into applications using general-purpose GUI toolkits like Tkinter, wxPython, Qt, or GTK Pandas is an open source Python package that is most widely used for data science/data analysis and machine learning tasks. It is built on top of another package named Numpy, which provides support for multi-dimensional arrays. Scikit-learn is probably the most useful library for machine learning in Python. The sklearn library contains a lot of eficient tools for machine learning and statistical modeling including classification, regression, clustering and dimensionality reduction. Seaborn is a library in Python predominantly used for making statistical graphics. Seaborn is a data visualization library built on top of matplotlib and closely integrated with pandas data structures in Python"
      ]
    },
    {
      "cell_type": "code",
      "metadata": {
        "id": "MA86dmQS8leP"
      },
      "source": [
        "#Python version\n",
        "import sys\n",
        "print('Python: {}'.format(sys.version))\n",
        " \n",
        "#scipy\n",
        "import scipy\n",
        "print('scipy: {}'.format(scipy.__version__))\n",
        " \n",
        "# numpy\n",
        "import numpy\n",
        "print( 'numpy: {}'.format(numpy.__version__))\n",
        " \n",
        "# matplotlib\n",
        "import matplotlib\n",
        "print('matplotlib: {}'.format(matplotlib.__version__))\n",
        " \n",
        "# pandas\n",
        "import pandas\n",
        "print('pandas: {}'.format(pandas.__version__))\n",
        " \n",
        "#scikit-learn\n",
        "import sklearn\n",
        "print('sklearn: {}'.format(sklearn.__version__))\n",
        "import seaborn\n",
        "print('seaborn: {}'.format(seaborn.__version__))\n",
        "import urllib\n",
        "print('urlib: {}'.format(urllib.__name__))\n",
        "import csv\n",
        "print('csv: {}'.format(csv.__version__))"
      ],
      "execution_count": null,
      "outputs": []
    },
    {
      "cell_type": "markdown",
      "metadata": {
        "id": "l5bPBg-YXjQy"
      },
      "source": [
        "# numpy"
      ]
    },
    {
      "cell_type": "code",
      "metadata": {
        "id": "H63LgGyWXn5L"
      },
      "source": [
        "#a) NumPy \n",
        "#example code for initializaing numpy array\n",
        "import numpy as np\n",
        "a=np.array([2,6,8])\n",
        "print(type(a))\n",
        "\n",
        "print(a.shape)\n",
        "print(a[0])\n",
        "print(a[1])\n",
        "print(a[2])\n",
        "\n",
        "a[0]=10\n",
        "print(a)"
      ],
      "execution_count": null,
      "outputs": []
    },
    {
      "cell_type": "code",
      "metadata": {
        "id": "ZNsVsLytXsOF"
      },
      "source": [
        "#create a rank 2 array\n",
        "import numpy as np\n",
        "b=np.array([[1,2,3],[4,5,6]])\n",
        "print(b.shape)\n",
        "print(b)\n",
        "print(b[0,0],b[0,1],b[1,0])"
      ],
      "execution_count": null,
      "outputs": []
    },
    {
      "cell_type": "code",
      "metadata": {
        "id": "i0zB-Zi-XuVx"
      },
      "source": [
        "#craete a 3x3 array of all zeros\n",
        "\n",
        "a=np.zeros((3,3))\n",
        "print(a)"
      ],
      "execution_count": null,
      "outputs": []
    },
    {
      "cell_type": "code",
      "metadata": {
        "id": "y00BQSQ8Xv4z"
      },
      "source": [
        "#craete a 2x2 array of all ones\n",
        "b=np.ones((2,2))\n",
        "print(b)"
      ],
      "execution_count": null,
      "outputs": []
    },
    {
      "cell_type": "code",
      "metadata": {
        "id": "uqRox3dDXxaO"
      },
      "source": [
        "#craete a 3x3 constant array\n",
        "c=np.full((3,3),7)\n",
        "print(c)"
      ],
      "execution_count": null,
      "outputs": []
    },
    {
      "cell_type": "code",
      "metadata": {
        "id": "fJSuw9BtXzJn"
      },
      "source": [
        "#create a 3x3 array filled with random values\n",
        "\n",
        "d=np.random.random((3,3))\n",
        "print(d)"
      ],
      "execution_count": null,
      "outputs": []
    },
    {
      "cell_type": "code",
      "metadata": {
        "id": "lnFepRiPX0kJ"
      },
      "source": [
        "#craete a 3x3 identity matrix\n",
        "e=np.eye(3)\n",
        "print(e)"
      ],
      "execution_count": null,
      "outputs": []
    },
    {
      "cell_type": "code",
      "metadata": {
        "id": "0Z41UHlVX2GS"
      },
      "source": [
        "#convert list to array\n",
        "f=np.array([1,2,3,4])\n",
        "print(f)"
      ],
      "execution_count": null,
      "outputs": []
    },
    {
      "cell_type": "code",
      "metadata": {
        "id": "ZH9trfoqX3vj"
      },
      "source": [
        "#arange() will create array with regularly incrementing values\n",
        "g=np.arange(2,10)\n",
        "print(g)"
      ],
      "execution_count": null,
      "outputs": []
    },
    {
      "cell_type": "code",
      "metadata": {
        "id": "t8aigjrVX5Xa"
      },
      "source": [
        "#note  mix of tuple and lists\n",
        "\n",
        "h=np.array([[1,2,3],[4,5,6],(1+1j,3.,2.)])\n",
        "print(h)"
      ],
      "execution_count": null,
      "outputs": []
    },
    {
      "cell_type": "code",
      "metadata": {
        "id": "KZeCkzeAX7DJ"
      },
      "source": [
        " #create an array of range with float data type\n",
        "i=np.arange(1,8,dtype=np.float)\n",
        "print(i)"
      ],
      "execution_count": null,
      "outputs": []
    },
    {
      "cell_type": "code",
      "metadata": {
        "id": "svbZhYyXX8Yh"
      },
      "source": [
        "#linespace\n",
        "j = np.linspace(2.,4.,5)\n",
        "print(j)"
      ],
      "execution_count": null,
      "outputs": []
    },
    {
      "cell_type": "code",
      "metadata": {
        "id": "UKqzyPAdX-ga"
      },
      "source": [
        "#indices()\n",
        "k=np.indices((3,3))\n",
        "print(k)"
      ],
      "execution_count": null,
      "outputs": []
    },
    {
      "cell_type": "code",
      "metadata": {
        "id": "THXRfa65YAib"
      },
      "source": [
        "#numpy datatypes\n",
        "x=np.array([0,1])\n",
        "y=np.array([2.0,3.0])\n",
        "z=np.array([5,6],dtype=np.int64)\n",
        "print(x.dtype,y.dtype,z.dtype)"
      ],
      "execution_count": null,
      "outputs": []
    },
    {
      "cell_type": "code",
      "metadata": {
        "id": "8cSCKxbNYCRl"
      },
      "source": [
        "#basic slicing\n",
        "x=np.array([5,6,7,8,9])\n",
        "print(x[1:7:2])\n",
        "print(x[-2:5])\n",
        "print(x[-1:1:-1])"
      ],
      "execution_count": null,
      "outputs": []
    },
    {
      "cell_type": "code",
      "metadata": {
        "id": "Zsl4a1fTYENm"
      },
      "source": [
        "#boolean array indexing\n",
        "a=np.array(([1,2],[3,4],[5,6]))\n",
        "print(a>2)\n",
        "print(a[a>2])"
      ],
      "execution_count": null,
      "outputs": []
    },
    {
      "cell_type": "code",
      "metadata": {
        "id": "TKn3gNb5YFzi"
      },
      "source": [
        "import numpy as np\n",
        "x=np.array([[1,2],[3,4][5,6]])\n",
        "y=np.array([[7,8],[9,10],[11,12]])\n",
        "print(x+y)\n",
        "print(np.add(x,y))\n",
        "print(x-y)\n",
        "print(np.subtract(x-y))"
      ],
      "execution_count": null,
      "outputs": []
    },
    {
      "cell_type": "code",
      "metadata": {
        "id": "0HJY6zMOYHWF"
      },
      "source": [
        "#products\n",
        "print(x*y)\n",
        "print(np.multiply(x,y))"
      ],
      "execution_count": null,
      "outputs": []
    },
    {
      "cell_type": "code",
      "metadata": {
        "id": "W2Ui3FWfYItj"
      },
      "source": [
        "#vectors\n",
        "a=np.array([9,10])\n",
        "b=np.array([11,12])\n",
        "print(a.dot(b))\n",
        "print(np.dot(a,b))"
      ],
      "execution_count": null,
      "outputs": []
    },
    {
      "cell_type": "code",
      "metadata": {
        "id": "IuvRlGZPYKyI"
      },
      "source": [
        "#sum function\n",
        "x=np.array([[1,2],[3,4]])\n",
        "print(np.sum(x))\n",
        "print(np.sum(x,axis=0))\n",
        "print(np.sum(x,axis=1))"
      ],
      "execution_count": null,
      "outputs": []
    },
    {
      "cell_type": "code",
      "metadata": {
        "id": "kqT3VUjDYMLq"
      },
      "source": [
        "#transpose function\n",
        "x=np.array([[1,2],[3,4])\n",
        "print(x)\n",
        "print(x,T)"
      ],
      "execution_count": null,
      "outputs": []
    },
    {
      "cell_type": "markdown",
      "metadata": {
        "id": "UHblV5kIYPr5"
      },
      "source": [
        "# pandas"
      ]
    },
    {
      "cell_type": "code",
      "metadata": {
        "id": "ChZuWFKbYS1c"
      },
      "source": [
        "# b) Pandas\n",
        "\n",
        "import pandas as pd\n",
        "\n",
        "s=pd.Series([1,2,3,4,5],index=['A','B','C','D','E'])\n",
        "s"
      ],
      "execution_count": null,
      "outputs": []
    },
    {
      "cell_type": "code",
      "metadata": {
        "id": "ojpa4BskYUmU"
      },
      "source": [
        "#creating data frame\n",
        "import pandas as pd \n",
        "data = {'Name':['Teju', 'sahi', 'honey', 'bunny'],\n",
        "        'Age':[19,15,20,13]}\n",
        "df = pd.DataFrame(data)\n",
        "print(df)"
      ],
      "execution_count": null,
      "outputs": []
    },
    {
      "cell_type": "code",
      "metadata": {
        "id": "dCP4YIRQYWO7"
      },
      "source": [
        "#read from iris data\n",
        "from sklearn.datasets import load_iris\n",
        "import numpy as np\n",
        "iris=load_iris()\n",
        "iris"
      ],
      "execution_count": null,
      "outputs": []
    },
    {
      "cell_type": "code",
      "metadata": {
        "id": "1PAvAi0wYXlr"
      },
      "source": [
        "x=pd.DataFrame(iris.data)"
      ],
      "execution_count": null,
      "outputs": []
    },
    {
      "cell_type": "code",
      "metadata": {
        "id": "588xVZSaYZBi"
      },
      "source": [
        "x.shape\n",
        "x.columns=['sepal_length','sepal_width','petal_length','petal_width']\n",
        "x.head()"
      ],
      "execution_count": null,
      "outputs": []
    },
    {
      "cell_type": "code",
      "metadata": {
        "id": "0PpaHzRYYa1J"
      },
      "source": [
        "x.tail()"
      ],
      "execution_count": null,
      "outputs": []
    },
    {
      "cell_type": "code",
      "metadata": {
        "id": "xRqwlnYkYcY0"
      },
      "source": [
        "x.describe()"
      ],
      "execution_count": null,
      "outputs": []
    },
    {
      "cell_type": "code",
      "metadata": {
        "id": "4C57fMggYf7N"
      },
      "source": [
        "x.cov()"
      ],
      "execution_count": null,
      "outputs": []
    },
    {
      "cell_type": "code",
      "metadata": {
        "id": "4j9G0hVqYhYO"
      },
      "source": [
        "x.corr()"
      ],
      "execution_count": null,
      "outputs": []
    },
    {
      "cell_type": "markdown",
      "metadata": {
        "id": "_QnA5ZlMYm0W"
      },
      "source": [
        "#scipy"
      ]
    },
    {
      "cell_type": "code",
      "metadata": {
        "id": "yCNhSzgzYtiX"
      },
      "source": [
        "import numpy as np\n",
        "np.linspace(1.,3.,5.)"
      ],
      "execution_count": null,
      "outputs": []
    },
    {
      "cell_type": "code",
      "metadata": {
        "id": "inkOUt90Yxtz"
      },
      "source": [
        "#kmeans using scipy\n",
        "from scipy.cluster.vq import kmeans,vq,whiten\n",
        "from numpy import vstack,array\n",
        "from numpy.random import rand\n",
        "data=vstack((rand(100,3)+array([.5,.5,.5]),rand(100,3)))\n",
        "data"
      ],
      "execution_count": null,
      "outputs": []
    },
    {
      "cell_type": "code",
      "metadata": {
        "id": "yP1WG6pOYzP9"
      },
      "source": [
        "data=whiten(data)\n",
        "data"
      ],
      "execution_count": null,
      "outputs": []
    },
    {
      "cell_type": "code",
      "metadata": {
        "id": "ZIeQWzY_Y0mi"
      },
      "source": [
        "centroids=kmeans(data,3)\n",
        "centroids"
      ],
      "execution_count": null,
      "outputs": []
    },
    {
      "cell_type": "code",
      "metadata": {
        "id": "r2N1GAypY2DO"
      },
      "source": [
        "clx=vq(data,centroids)\n",
        "clx"
      ],
      "execution_count": null,
      "outputs": []
    },
    {
      "cell_type": "markdown",
      "metadata": {
        "id": "hOwFyW54Y38G"
      },
      "source": [
        "# Matplotlib"
      ]
    },
    {
      "cell_type": "code",
      "metadata": {
        "id": "9iWFR9ivY6hH"
      },
      "source": [
        "#import library\n",
        "\n",
        "import matplotlib.pyplot as plt\n",
        "import numpy as np\n",
        "\n",
        "x=np.arange(5)\n",
        "y=(35,45,28,37,60)\n",
        "\n",
        "plt.bar(x,y)\n",
        "plt.show()"
      ],
      "execution_count": null,
      "outputs": []
    },
    {
      "cell_type": "code",
      "metadata": {
        "id": "alrWImERY95W"
      },
      "source": [
        "plt.scatter(x,y)\n",
        "plt.show()"
      ],
      "execution_count": null,
      "outputs": []
    },
    {
      "cell_type": "code",
      "metadata": {
        "id": "cDyC6t2zZCph"
      },
      "source": [
        "import pandas as pd\n",
        "from sklearn.datasets import load_iris\n",
        "\n",
        "iris=load_iris()\n",
        "df=pd.DataFrame(iris.data)\n",
        "df.columns=['sepal_length','sepal_width','petal_length','petal_width']\n",
        "df.head()"
      ],
      "execution_count": null,
      "outputs": []
    },
    {
      "cell_type": "code",
      "metadata": {
        "id": "QaRQupV5ZEgI"
      },
      "source": [
        "df.hist()\n",
        "plt.show()"
      ],
      "execution_count": null,
      "outputs": []
    },
    {
      "cell_type": "code",
      "metadata": {
        "id": "9jwD_vmUZG9x"
      },
      "source": [
        "df.plot()\n",
        "plt.show()"
      ],
      "execution_count": null,
      "outputs": []
    },
    {
      "cell_type": "code",
      "metadata": {
        "id": "j_Kic2a7ZIr1"
      },
      "source": [
        "df.boxplot()\n",
        "plt.show()"
      ],
      "execution_count": null,
      "outputs": []
    },
    {
      "cell_type": "code",
      "metadata": {
        "id": "JGMBwT8VZKsI"
      },
      "source": [
        "print(s)"
      ],
      "execution_count": null,
      "outputs": []
    },
    {
      "cell_type": "code",
      "metadata": {
        "id": "nJByOe2qZMx3"
      },
      "source": [
        "#creating data frame\n",
        "import pandas as pd\n",
        " \n",
        " \n",
        "data = {'Name':['pavan', 'ganesh', 'haneef', 'sai ganesh'],\n",
        "        'Age':[22, 21, 19, 18]}\n",
        " \n",
        " \n",
        "df = pd.DataFrame(data)\n",
        " \n",
        " \n",
        "print(df)"
      ],
      "execution_count": null,
      "outputs": []
    },
    {
      "cell_type": "code",
      "metadata": {
        "id": "Z2P5lGW0ZTcg"
      },
      "source": [
        "#Custom labels\n",
        "x=np.linspace(0,20,1000)\n",
        "y=np.sin(x)\n",
        "\n",
        "plt.plot(x,y,label='sample Label')\n",
        "plt.title('sample plot Title')\n",
        "plt.xlabel('x axis label')\n",
        "plt.ylabel('y axis label')\n",
        "plt.grid(True)\n",
        "\n",
        "plt.figtext(0.5, 0.01, 'Fig1: sinusoidal', ha='rigth', va='bottom')\n",
        "\n",
        "plt.legrnd(loc='best',framealpha=0.5,prop={'size':'small'})\n",
        "\n",
        "plt.tight_layout(pad=1)\n",
        "\n",
        "plt.show()"
      ],
      "execution_count": null,
      "outputs": []
    }
  ]
}