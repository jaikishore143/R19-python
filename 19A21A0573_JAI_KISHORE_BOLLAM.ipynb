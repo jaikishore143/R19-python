{
  "nbformat": 4,
  "nbformat_minor": 0,
  "metadata": {
    "colab": {
      "name": "19A21A0573-JAI KISHORE BOLLAM.ipynb",
      "provenance": [],
      "collapsed_sections": [],
      "include_colab_link": true
    },
    "kernelspec": {
      "name": "python3",
      "display_name": "Python 3"
    },
    "language_info": {
      "name": "python"
    }
  },
  "cells": [
    {
      "cell_type": "markdown",
      "metadata": {
        "id": "view-in-github",
        "colab_type": "text"
      },
      "source": [
        "<a href=\"https://colab.research.google.com/github/jaikishore143/R19-python/blob/main/19A21A0573_JAI_KISHORE_BOLLAM.ipynb\" target=\"_parent\"><img src=\"https://colab.research.google.com/assets/colab-badge.svg\" alt=\"Open In Colab\"/></a>"
      ]
    },
    {
      "cell_type": "markdown",
      "metadata": {
        "id": "lmdGpll1sIe5"
      },
      "source": [
        "                     exercise 1                          \n",
        "a) Running instructions in Interactive interpreter and a python script.\n"
      ]
    },
    {
      "cell_type": "code",
      "metadata": {
        "colab": {
          "base_uri": "https://localhost:8080/"
        },
        "id": "JIxkbem1sMZu",
        "outputId": "1f274c02-6ea8-4140-a33f-b15549076727"
      },
      "source": [
        "print(\"Hello ,Dilkk\")\n"
      ],
      "execution_count": null,
      "outputs": [
        {
          "output_type": "stream",
          "text": [
            "Hello ,Dilkk\n"
          ],
          "name": "stdout"
        }
      ]
    },
    {
      "cell_type": "markdown",
      "metadata": {
        "id": "oTMYpVLdt-xG"
      },
      "source": [
        "b)write a program to purposefully raise indentation error and correct it"
      ]
    },
    {
      "cell_type": "code",
      "metadata": {
        "colab": {
          "base_uri": "https://localhost:8080/",
          "height": 131
        },
        "id": "ySZlm6Ezt8aR",
        "outputId": "1417d25b-c103-4c38-bc31-961e781b8b11"
      },
      "source": [
        "if True:\n",
        "print(\"True\")\n",
        "else\n",
        "Print(\"False\")"
      ],
      "execution_count": null,
      "outputs": [
        {
          "output_type": "error",
          "ename": "IndentationError",
          "evalue": "ignored",
          "traceback": [
            "\u001b[0;36m  File \u001b[0;32m\"<ipython-input-9-ed4587185ad0>\"\u001b[0;36m, line \u001b[0;32m2\u001b[0m\n\u001b[0;31m    print(\"True\")\u001b[0m\n\u001b[0m        ^\u001b[0m\n\u001b[0;31mIndentationError\u001b[0m\u001b[0;31m:\u001b[0m expected an indented block\n"
          ]
        }
      ]
    },
    {
      "cell_type": "code",
      "metadata": {
        "colab": {
          "base_uri": "https://localhost:8080/"
        },
        "id": "7otx5N3IumO7",
        "outputId": "725930cd-1771-4fd1-c664-327f0115a967"
      },
      "source": [
        "if True:\n",
        " print(\"True\")\n",
        "else:\n",
        " Print(\"False\")"
      ],
      "execution_count": null,
      "outputs": [
        {
          "output_type": "stream",
          "text": [
            "True\n"
          ],
          "name": "stdout"
        }
      ]
    },
    {
      "cell_type": "code",
      "metadata": {
        "colab": {
          "base_uri": "https://localhost:8080/",
          "height": 131
        },
        "id": "uNtsOC5Tux6a",
        "outputId": "ae1aa75e-25fa-4d49-c2ae-c32464cf5b96"
      },
      "source": [
        "if True:\n",
        "  print(\"True1\")\n",
        "     print(\"True2\")\n",
        "else:\n",
        "  Print(\"False1\")\n",
        "\n"
      ],
      "execution_count": null,
      "outputs": [
        {
          "output_type": "error",
          "ename": "IndentationError",
          "evalue": "ignored",
          "traceback": [
            "\u001b[0;36m  File \u001b[0;32m\"<ipython-input-15-0de45ce0013a>\"\u001b[0;36m, line \u001b[0;32m3\u001b[0m\n\u001b[0;31m    print(\"True2\")\u001b[0m\n\u001b[0m    ^\u001b[0m\n\u001b[0;31mIndentationError\u001b[0m\u001b[0;31m:\u001b[0m unexpected indent\n"
          ]
        }
      ]
    },
    {
      "cell_type": "code",
      "metadata": {
        "id": "wDT9wwiIvZWe"
      },
      "source": [
        ""
      ],
      "execution_count": null,
      "outputs": []
    },
    {
      "cell_type": "code",
      "metadata": {
        "colab": {
          "base_uri": "https://localhost:8080/"
        },
        "id": "aJioOvUBvbMP",
        "outputId": "c340a2c5-72e7-4c0e-a25a-c5524083d5ab"
      },
      "source": [
        "if True:\n",
        "  print(\"True1\")\n",
        "  print(\"True2\")\n",
        "else:\n",
        "  Print(\"False1\")\n",
        "  \n"
      ],
      "execution_count": null,
      "outputs": [
        {
          "output_type": "stream",
          "text": [
            "True1\n",
            "True2\n"
          ],
          "name": "stdout"
        }
      ]
    },
    {
      "cell_type": "markdown",
      "metadata": {
        "id": "s100jCVgx8vO"
      },
      "source": [
        "exercise 2\n",
        "\n",
        "a) write a program to compute distance between two points taking input from the user.\n"
      ]
    },
    {
      "cell_type": "code",
      "metadata": {
        "colab": {
          "base_uri": "https://localhost:8080/"
        },
        "id": "SywcfQZOyiiN",
        "outputId": "2046717e-c1c4-4aaa-b890-c349fc61162b"
      },
      "source": [
        "import math\n",
        "x1=int(input(\"Enter x1 value:\"))\n",
        "x2=int(input(\"Enter x2 value:\"))\n",
        "y1=int(input(\"Enter y1 value:\"))\n",
        "y2=int(input(\"Enter y2 value:\"))\n",
        "d=math.sqrt(((x2-x1)**2)+((y2-y1)**2))\n",
        "print(\"distance of two points\",d)"
      ],
      "execution_count": null,
      "outputs": [
        {
          "output_type": "stream",
          "text": [
            "Enter x1 value:10\n",
            "Enter x2 value:5\n",
            "Enter y1 value:8\n",
            "Enter y2 value:6\n",
            "distance of two points 5.385164807134504\n"
          ],
          "name": "stdout"
        }
      ]
    },
    {
      "cell_type": "markdown",
      "metadata": {
        "id": "7ShHn37bzxoR"
      },
      "source": [
        "b)write a program add.py that takes 2 numbers as command line arguments and prints its sum\n"
      ]
    },
    {
      "cell_type": "code",
      "metadata": {
        "colab": {
          "base_uri": "https://localhost:8080/",
          "height": 235
        },
        "id": "q7RJPjmFzxR6",
        "outputId": "6ca06b67-3397-453f-fdb2-efe13e2712fa"
      },
      "source": [
        "import sys \n",
        "a=int(sys.argv[1])\n",
        "b=int(sys.argv[2])\n",
        "sum= a+b\n",
        "print|(\"sum of two numbers is:\",sum)"
      ],
      "execution_count": null,
      "outputs": [
        {
          "output_type": "error",
          "ename": "ValueError",
          "evalue": "ignored",
          "traceback": [
            "\u001b[0;31m---------------------------------------------------------------------------\u001b[0m",
            "\u001b[0;31mValueError\u001b[0m                                Traceback (most recent call last)",
            "\u001b[0;32m<ipython-input-18-729a19c8ca76>\u001b[0m in \u001b[0;36m<module>\u001b[0;34m()\u001b[0m\n\u001b[1;32m      1\u001b[0m \u001b[0;32mimport\u001b[0m \u001b[0msys\u001b[0m\u001b[0;34m\u001b[0m\u001b[0;34m\u001b[0m\u001b[0m\n\u001b[0;32m----> 2\u001b[0;31m \u001b[0ma\u001b[0m\u001b[0;34m=\u001b[0m\u001b[0mint\u001b[0m\u001b[0;34m(\u001b[0m\u001b[0msys\u001b[0m\u001b[0;34m.\u001b[0m\u001b[0margv\u001b[0m\u001b[0;34m[\u001b[0m\u001b[0;36m1\u001b[0m\u001b[0;34m]\u001b[0m\u001b[0;34m)\u001b[0m\u001b[0;34m\u001b[0m\u001b[0;34m\u001b[0m\u001b[0m\n\u001b[0m\u001b[1;32m      3\u001b[0m \u001b[0mb\u001b[0m\u001b[0;34m=\u001b[0m\u001b[0mint\u001b[0m\u001b[0;34m(\u001b[0m\u001b[0msys\u001b[0m\u001b[0;34m.\u001b[0m\u001b[0margv\u001b[0m\u001b[0;34m[\u001b[0m\u001b[0;36m2\u001b[0m\u001b[0;34m]\u001b[0m\u001b[0;34m)\u001b[0m\u001b[0;34m\u001b[0m\u001b[0;34m\u001b[0m\u001b[0m\n\u001b[1;32m      4\u001b[0m \u001b[0msum\u001b[0m\u001b[0;34m=\u001b[0m \u001b[0ma\u001b[0m\u001b[0;34m+\u001b[0m\u001b[0mb\u001b[0m\u001b[0;34m\u001b[0m\u001b[0;34m\u001b[0m\u001b[0m\n\u001b[1;32m      5\u001b[0m \u001b[0mprint\u001b[0m\u001b[0;34m|\u001b[0m\u001b[0;34m(\u001b[0m\u001b[0;34m\"sum of two numbers is:\"\u001b[0m\u001b[0;34m,\u001b[0m\u001b[0msum\u001b[0m\u001b[0;34m)\u001b[0m\u001b[0;34m\u001b[0m\u001b[0;34m\u001b[0m\u001b[0m\n",
            "\u001b[0;31mValueError\u001b[0m: invalid literal for int() with base 10: '-f'"
          ]
        }
      ]
    },
    {
      "cell_type": "markdown",
      "metadata": {
        "id": "QttvoonN0pmi"
      },
      "source": [
        "Exercise 3\n",
        "\n",
        "a) write a program for checking whether given number is even number or not\n"
      ]
    },
    {
      "cell_type": "code",
      "metadata": {
        "colab": {
          "base_uri": "https://localhost:8080/"
        },
        "id": "aiSQ_GgF0EJA",
        "outputId": "51cca6e6-b838-4d77-bc12-508e208e7f62"
      },
      "source": [
        "n=int(input(\"enter a number\"))\n",
        "if n%2==0:\n",
        "   print(\"given number is even\")\n",
        "else:\n",
        "  print(\"given number is odd\")"
      ],
      "execution_count": null,
      "outputs": [
        {
          "output_type": "stream",
          "text": [
            "enter a number11\n",
            "given number is odd\n"
          ],
          "name": "stdout"
        }
      ]
    },
    {
      "cell_type": "markdown",
      "metadata": {
        "id": "LY6XZpbx1Z3g"
      },
      "source": [
        "b) using a for loop,write a program that prints out the decimal equivalents of 1/2,1/3,1/4,...1/10."
      ]
    },
    {
      "cell_type": "code",
      "metadata": {
        "colab": {
          "base_uri": "https://localhost:8080/"
        },
        "id": "koyg6Zp02ha9",
        "outputId": "0f9a943c-ffcd-449f-b9d2-726137c7224b"
      },
      "source": [
        "n=int(input(\"Enter a number\"))\n",
        "for i in range(2,n):\n",
        "  de=1/i\n",
        "  print(\"1/\"+str(i)+\"=\",de)"
      ],
      "execution_count": null,
      "outputs": [
        {
          "output_type": "stream",
          "text": [
            "Enter a number10\n",
            "1/2= 0.5\n",
            "1/3= 0.3333333333333333\n",
            "1/4= 0.25\n",
            "1/5= 0.2\n",
            "1/6= 0.16666666666666666\n",
            "1/7= 0.14285714285714285\n",
            "1/8= 0.125\n",
            "1/9= 0.1111111111111111\n"
          ],
          "name": "stdout"
        }
      ]
    },
    {
      "cell_type": "markdown",
      "metadata": {
        "id": "N3gCyEny3eCb"
      },
      "source": [
        "c) write a program using a for loop that loops over a sequence. what is sequence?"
      ]
    },
    {
      "cell_type": "code",
      "metadata": {
        "colab": {
          "base_uri": "https://localhost:8080/"
        },
        "id": "DEa6HEkt3dkL",
        "outputId": "1bc12594-8c2f-430d-cb74-7a9bd1bc695f"
      },
      "source": [
        "arr=[4,\"abc\",-45,'C',10.5,True,5,10.6,'xyz']\n",
        "print(\"Given array:\",arr)\n",
        "for x in arr:\n",
        "  print(x)"
      ],
      "execution_count": null,
      "outputs": [
        {
          "output_type": "stream",
          "text": [
            "Given array: [4, 'abc', -45, 'C', 10.5, True, 5, 10.6, 'xyz']\n",
            "4\n",
            "abc\n",
            "-45\n",
            "C\n",
            "10.5\n",
            "True\n",
            "5\n",
            "10.6\n",
            "xyz\n"
          ],
          "name": "stdout"
        }
      ]
    },
    {
      "cell_type": "markdown",
      "metadata": {
        "id": "8AYh5vEc42JZ"
      },
      "source": [
        "d) write a program using a while loop that asks the user for a number, and prints a countdown from that number to zero"
      ]
    },
    {
      "cell_type": "code",
      "metadata": {
        "colab": {
          "base_uri": "https://localhost:8080/"
        },
        "id": "gq6jQMhH5Ej7",
        "outputId": "bb5e844f-3302-410b-c426-136a12423128"
      },
      "source": [
        "n=int(input(\"enter value of n:\"))\n",
        "while n>=0:\n",
        "  print(n)\n",
        "  n-=1"
      ],
      "execution_count": null,
      "outputs": [
        {
          "output_type": "stream",
          "text": [
            "enter value of n:10\n",
            "10\n",
            "9\n",
            "8\n",
            "7\n",
            "6\n",
            "5\n",
            "4\n",
            "3\n",
            "2\n",
            "1\n",
            "0\n"
          ],
          "name": "stdout"
        }
      ]
    },
    {
      "cell_type": "markdown",
      "metadata": {
        "id": "zMahESCu5_14"
      },
      "source": [
        "exercise 4\n",
        "\n",
        "a) find the sum of all the primes below two million"
      ]
    },
    {
      "cell_type": "code",
      "metadata": {
        "id": "WFVr62fg6-HW"
      },
      "source": [
        "n=int(input(\"enter an ending number:\"))\n",
        "st=\"\"\n",
        "sum=0\n",
        "for i in range(2,n):\n",
        "  state=True\n",
        "  for j in range(2,i):\n",
        "    if(i%j)==0:\n",
        "      state=False\n",
        "      break;\n",
        "      if state==True:\n",
        "        st+=\" \"+str(i)\n",
        "        sum+=i\n",
        "\n",
        "print(\"prime numbers:\")\n",
        "print(st)\n",
        "print(\"sum of the prime NUmbers:\",sum)"
      ],
      "execution_count": null,
      "outputs": []
    },
    {
      "cell_type": "markdown",
      "metadata": {
        "id": "ReKPpNlo8lEr"
      },
      "source": [
        "b) Each new term in the Fibonacci sequence is generated by adding the previous two terms.By starting with 1 and 2,the first 10 terms will be :1,2,3,5,8,13,21,34,55,89..."
      ]
    },
    {
      "cell_type": "code",
      "metadata": {
        "colab": {
          "base_uri": "https://localhost:8080/"
        },
        "id": "cv7R_jw_92Fq",
        "outputId": "5b3f7674-ee41-473f-f24c-b8abe1a0834b"
      },
      "source": [
        "n=int(input(\"enter value of n \"))\n",
        "a=0\n",
        "b=1\n",
        "c=a+b\n",
        "while c<n:\n",
        "  print(c,end=' ')\n",
        "  a=b\n",
        "  b=c\n",
        "  c=a+b\n"
      ],
      "execution_count": null,
      "outputs": [
        {
          "output_type": "stream",
          "text": [
            "enter value of n 1000\n",
            "1 2 3 5 8 13 21 34 55 89 144 233 377 610 987 "
          ],
          "name": "stdout"
        }
      ]
    }
  ]
}