{
  "nbformat": 4,
  "nbformat_minor": 0,
  "metadata": {
    "colab": {
      "name": "19A21A0573-JAI KISHORE BOLLAM.ipynb",
      "provenance": [],
      "collapsed_sections": [],
      "include_colab_link": true
    },
    "kernelspec": {
      "name": "python3",
      "display_name": "Python 3"
    },
    "language_info": {
      "name": "python"
    }
  },
  "cells": [
    {
      "cell_type": "markdown",
      "metadata": {
        "id": "view-in-github",
        "colab_type": "text"
      },
      "source": [
        "<a href=\"https://colab.research.google.com/github/jaikishore143/R19-python/blob/main/19A21A0573_JAI_KISHORE_BOLLAM.ipynb\" target=\"_parent\"><img src=\"https://colab.research.google.com/assets/colab-badge.svg\" alt=\"Open In Colab\"/></a>"
      ]
    },
    {
      "cell_type": "markdown",
      "metadata": {
        "id": "lmdGpll1sIe5"
      },
      "source": [
        "**exercise 1   **                      \n",
        "a) Running instructions in Interactive interpreter and a python script.\n"
      ]
    },
    {
      "cell_type": "code",
      "metadata": {
        "colab": {
          "base_uri": "https://localhost:8080/"
        },
        "id": "JIxkbem1sMZu",
        "outputId": "60646009-502c-4732-ad05-34b4de4d3541"
      },
      "source": [
        "print(\"Hello world\")\n"
      ],
      "execution_count": null,
      "outputs": [
        {
          "output_type": "stream",
          "text": [
            "Hello world\n"
          ],
          "name": "stdout"
        }
      ]
    },
    {
      "cell_type": "markdown",
      "metadata": {
        "id": "oTMYpVLdt-xG"
      },
      "source": [
        "b)write a program to purposefully raise indentation error and correct it"
      ]
    },
    {
      "cell_type": "code",
      "metadata": {
        "colab": {
          "base_uri": "https://localhost:8080/",
          "height": 131
        },
        "id": "ySZlm6Ezt8aR",
        "outputId": "1417d25b-c103-4c38-bc31-961e781b8b11"
      },
      "source": [
        "if True:\n",
        "print(\"True\")\n",
        "else\n",
        "Print(\"False\")"
      ],
      "execution_count": null,
      "outputs": [
        {
          "output_type": "error",
          "ename": "IndentationError",
          "evalue": "ignored",
          "traceback": [
            "\u001b[0;36m  File \u001b[0;32m\"<ipython-input-9-ed4587185ad0>\"\u001b[0;36m, line \u001b[0;32m2\u001b[0m\n\u001b[0;31m    print(\"True\")\u001b[0m\n\u001b[0m        ^\u001b[0m\n\u001b[0;31mIndentationError\u001b[0m\u001b[0;31m:\u001b[0m expected an indented block\n"
          ]
        }
      ]
    },
    {
      "cell_type": "code",
      "metadata": {
        "colab": {
          "base_uri": "https://localhost:8080/"
        },
        "id": "7otx5N3IumO7",
        "outputId": "725930cd-1771-4fd1-c664-327f0115a967"
      },
      "source": [
        "if True:\n",
        " print(\"True\")\n",
        "else:\n",
        " Print(\"False\")"
      ],
      "execution_count": null,
      "outputs": [
        {
          "output_type": "stream",
          "text": [
            "True\n"
          ],
          "name": "stdout"
        }
      ]
    },
    {
      "cell_type": "code",
      "metadata": {
        "colab": {
          "base_uri": "https://localhost:8080/",
          "height": 131
        },
        "id": "uNtsOC5Tux6a",
        "outputId": "ae1aa75e-25fa-4d49-c2ae-c32464cf5b96"
      },
      "source": [
        "if True:\n",
        "  print(\"True1\")\n",
        "     print(\"True2\")\n",
        "else:\n",
        "  Print(\"False1\")\n",
        "\n"
      ],
      "execution_count": null,
      "outputs": [
        {
          "output_type": "error",
          "ename": "IndentationError",
          "evalue": "ignored",
          "traceback": [
            "\u001b[0;36m  File \u001b[0;32m\"<ipython-input-15-0de45ce0013a>\"\u001b[0;36m, line \u001b[0;32m3\u001b[0m\n\u001b[0;31m    print(\"True2\")\u001b[0m\n\u001b[0m    ^\u001b[0m\n\u001b[0;31mIndentationError\u001b[0m\u001b[0;31m:\u001b[0m unexpected indent\n"
          ]
        }
      ]
    },
    {
      "cell_type": "code",
      "metadata": {
        "colab": {
          "base_uri": "https://localhost:8080/"
        },
        "id": "aJioOvUBvbMP",
        "outputId": "c340a2c5-72e7-4c0e-a25a-c5524083d5ab"
      },
      "source": [
        "if True:\n",
        "  print(\"True1\")\n",
        "  print(\"True2\")\n",
        "else:\n",
        "  Print(\"False1\")\n",
        "  \n"
      ],
      "execution_count": null,
      "outputs": [
        {
          "output_type": "stream",
          "text": [
            "True1\n",
            "True2\n"
          ],
          "name": "stdout"
        }
      ]
    },
    {
      "cell_type": "markdown",
      "metadata": {
        "id": "s100jCVgx8vO"
      },
      "source": [
        "exercise 2\n",
        "\n",
        "a) write a program to compute distance between two points taking input from the user.\n"
      ]
    },
    {
      "cell_type": "code",
      "metadata": {
        "colab": {
          "base_uri": "https://localhost:8080/"
        },
        "id": "SywcfQZOyiiN",
        "outputId": "2046717e-c1c4-4aaa-b890-c349fc61162b"
      },
      "source": [
        "import math\n",
        "x1=int(input(\"Enter x1 value:\"))\n",
        "x2=int(input(\"Enter x2 value:\"))\n",
        "y1=int(input(\"Enter y1 value:\"))\n",
        "y2=int(input(\"Enter y2 value:\"))\n",
        "d=math.sqrt(((x2-x1)**2)+((y2-y1)**2))\n",
        "print(\"distance of two points\",d)"
      ],
      "execution_count": null,
      "outputs": [
        {
          "output_type": "stream",
          "text": [
            "Enter x1 value:10\n",
            "Enter x2 value:5\n",
            "Enter y1 value:8\n",
            "Enter y2 value:6\n",
            "distance of two points 5.385164807134504\n"
          ],
          "name": "stdout"
        }
      ]
    },
    {
      "cell_type": "markdown",
      "metadata": {
        "id": "7ShHn37bzxoR"
      },
      "source": [
        "b)write a program add.py that takes 2 numbers as command line arguments and prints its sum\n"
      ]
    },
    {
      "cell_type": "code",
      "metadata": {
        "colab": {
          "base_uri": "https://localhost:8080/",
          "height": 235
        },
        "id": "q7RJPjmFzxR6",
        "outputId": "6ca06b67-3397-453f-fdb2-efe13e2712fa"
      },
      "source": [
        "import sys \n",
        "a=int(sys.argv[1])\n",
        "b=int(sys.argv[2])\n",
        "sum= a+b\n",
        "print|(\"sum of two numbers is:\",sum)"
      ],
      "execution_count": null,
      "outputs": [
        {
          "output_type": "error",
          "ename": "ValueError",
          "evalue": "ignored",
          "traceback": [
            "\u001b[0;31m---------------------------------------------------------------------------\u001b[0m",
            "\u001b[0;31mValueError\u001b[0m                                Traceback (most recent call last)",
            "\u001b[0;32m<ipython-input-18-729a19c8ca76>\u001b[0m in \u001b[0;36m<module>\u001b[0;34m()\u001b[0m\n\u001b[1;32m      1\u001b[0m \u001b[0;32mimport\u001b[0m \u001b[0msys\u001b[0m\u001b[0;34m\u001b[0m\u001b[0;34m\u001b[0m\u001b[0m\n\u001b[0;32m----> 2\u001b[0;31m \u001b[0ma\u001b[0m\u001b[0;34m=\u001b[0m\u001b[0mint\u001b[0m\u001b[0;34m(\u001b[0m\u001b[0msys\u001b[0m\u001b[0;34m.\u001b[0m\u001b[0margv\u001b[0m\u001b[0;34m[\u001b[0m\u001b[0;36m1\u001b[0m\u001b[0;34m]\u001b[0m\u001b[0;34m)\u001b[0m\u001b[0;34m\u001b[0m\u001b[0;34m\u001b[0m\u001b[0m\n\u001b[0m\u001b[1;32m      3\u001b[0m \u001b[0mb\u001b[0m\u001b[0;34m=\u001b[0m\u001b[0mint\u001b[0m\u001b[0;34m(\u001b[0m\u001b[0msys\u001b[0m\u001b[0;34m.\u001b[0m\u001b[0margv\u001b[0m\u001b[0;34m[\u001b[0m\u001b[0;36m2\u001b[0m\u001b[0;34m]\u001b[0m\u001b[0;34m)\u001b[0m\u001b[0;34m\u001b[0m\u001b[0;34m\u001b[0m\u001b[0m\n\u001b[1;32m      4\u001b[0m \u001b[0msum\u001b[0m\u001b[0;34m=\u001b[0m \u001b[0ma\u001b[0m\u001b[0;34m+\u001b[0m\u001b[0mb\u001b[0m\u001b[0;34m\u001b[0m\u001b[0;34m\u001b[0m\u001b[0m\n\u001b[1;32m      5\u001b[0m \u001b[0mprint\u001b[0m\u001b[0;34m|\u001b[0m\u001b[0;34m(\u001b[0m\u001b[0;34m\"sum of two numbers is:\"\u001b[0m\u001b[0;34m,\u001b[0m\u001b[0msum\u001b[0m\u001b[0;34m)\u001b[0m\u001b[0;34m\u001b[0m\u001b[0;34m\u001b[0m\u001b[0m\n",
            "\u001b[0;31mValueError\u001b[0m: invalid literal for int() with base 10: '-f'"
          ]
        }
      ]
    },
    {
      "cell_type": "markdown",
      "metadata": {
        "id": "QttvoonN0pmi"
      },
      "source": [
        "Exercise 3\n",
        "\n",
        "a) write a program for checking whether given number is even number or not\n"
      ]
    },
    {
      "cell_type": "code",
      "metadata": {
        "colab": {
          "base_uri": "https://localhost:8080/"
        },
        "id": "aiSQ_GgF0EJA",
        "outputId": "51cca6e6-b838-4d77-bc12-508e208e7f62"
      },
      "source": [
        "n=int(input(\"enter a number\"))\n",
        "if n%2==0:\n",
        "   print(\"given number is even\")\n",
        "else:\n",
        "  print(\"given number is odd\")"
      ],
      "execution_count": null,
      "outputs": [
        {
          "output_type": "stream",
          "text": [
            "enter a number11\n",
            "given number is odd\n"
          ],
          "name": "stdout"
        }
      ]
    },
    {
      "cell_type": "markdown",
      "metadata": {
        "id": "LY6XZpbx1Z3g"
      },
      "source": [
        "b) using a for loop,write a program that prints out the decimal equivalents of 1/2,1/3,1/4,...1/10."
      ]
    },
    {
      "cell_type": "code",
      "metadata": {
        "colab": {
          "base_uri": "https://localhost:8080/"
        },
        "id": "koyg6Zp02ha9",
        "outputId": "0f9a943c-ffcd-449f-b9d2-726137c7224b"
      },
      "source": [
        "n=int(input(\"Enter a number\"))\n",
        "for i in range(2,n):\n",
        "  de=1/i\n",
        "  print(\"1/\"+str(i)+\"=\",de)"
      ],
      "execution_count": null,
      "outputs": [
        {
          "output_type": "stream",
          "text": [
            "Enter a number10\n",
            "1/2= 0.5\n",
            "1/3= 0.3333333333333333\n",
            "1/4= 0.25\n",
            "1/5= 0.2\n",
            "1/6= 0.16666666666666666\n",
            "1/7= 0.14285714285714285\n",
            "1/8= 0.125\n",
            "1/9= 0.1111111111111111\n"
          ],
          "name": "stdout"
        }
      ]
    },
    {
      "cell_type": "markdown",
      "metadata": {
        "id": "N3gCyEny3eCb"
      },
      "source": [
        "c) write a program using a for loop that loops over a sequence. what is sequence?"
      ]
    },
    {
      "cell_type": "code",
      "metadata": {
        "colab": {
          "base_uri": "https://localhost:8080/"
        },
        "id": "DEa6HEkt3dkL",
        "outputId": "1bc12594-8c2f-430d-cb74-7a9bd1bc695f"
      },
      "source": [
        "arr=[4,\"abc\",-45,'C',10.5,True,5,10.6,'xyz']\n",
        "print(\"Given array:\",arr)\n",
        "for x in arr:\n",
        "  print(x)"
      ],
      "execution_count": null,
      "outputs": [
        {
          "output_type": "stream",
          "text": [
            "Given array: [4, 'abc', -45, 'C', 10.5, True, 5, 10.6, 'xyz']\n",
            "4\n",
            "abc\n",
            "-45\n",
            "C\n",
            "10.5\n",
            "True\n",
            "5\n",
            "10.6\n",
            "xyz\n"
          ],
          "name": "stdout"
        }
      ]
    },
    {
      "cell_type": "markdown",
      "metadata": {
        "id": "8AYh5vEc42JZ"
      },
      "source": [
        "d) write a program using a while loop that asks the user for a number, and prints a countdown from that number to zero"
      ]
    },
    {
      "cell_type": "code",
      "metadata": {
        "colab": {
          "base_uri": "https://localhost:8080/"
        },
        "id": "gq6jQMhH5Ej7",
        "outputId": "bb5e844f-3302-410b-c426-136a12423128"
      },
      "source": [
        "n=int(input(\"enter value of n:\"))\n",
        "while n>=0:\n",
        "  print(n)\n",
        "  n-=1"
      ],
      "execution_count": null,
      "outputs": [
        {
          "output_type": "stream",
          "text": [
            "enter value of n:10\n",
            "10\n",
            "9\n",
            "8\n",
            "7\n",
            "6\n",
            "5\n",
            "4\n",
            "3\n",
            "2\n",
            "1\n",
            "0\n"
          ],
          "name": "stdout"
        }
      ]
    },
    {
      "cell_type": "markdown",
      "metadata": {
        "id": "zMahESCu5_14"
      },
      "source": [
        "exercise 4\n",
        "\n",
        "a) find the sum of all the primes below two million"
      ]
    },
    {
      "cell_type": "code",
      "metadata": {
        "id": "WFVr62fg6-HW",
        "colab": {
          "base_uri": "https://localhost:8080/"
        },
        "outputId": "129d4367-6335-4926-c1e4-37abb5047e31"
      },
      "source": [
        "n=int(input(\"enter an ending number:\"))\n",
        "st=\"\"\n",
        "sum=0\n",
        "for i in range(2,n):\n",
        "  state=True\n",
        "  for j in range(2,i):\n",
        "    if(i%j)==0:\n",
        "      state=False\n",
        "      break;\n",
        "      if state==True:\n",
        "        st+=\" \"+str(i)\n",
        "        sum+=i\n",
        "\n",
        "print(\"prime numbers:\")\n",
        "print(st)\n",
        "print(\"sum of the prime NUmbers:\",sum)"
      ],
      "execution_count": null,
      "outputs": [
        {
          "output_type": "stream",
          "text": [
            "enter an ending number:100\n",
            "prime numbers:\n",
            "\n",
            "sum of the prime NUmbers: 0\n"
          ],
          "name": "stdout"
        }
      ]
    },
    {
      "cell_type": "code",
      "metadata": {
        "id": "nVuWrc3xfXUx",
        "colab": {
          "base_uri": "https://localhost:8080/"
        },
        "outputId": "d77698fa-772f-420f-dfdc-9169d2afeb2b"
      },
      "source": [
        "#sum of all the primes of given number below \n",
        "n=int(input(\"Enter an Ending Number: \"))\n",
        "st=\"\"\n",
        "sum=0\n",
        "for i in range(2,n):\n",
        "  state=True\n",
        "  for j in range(2,i):\n",
        "    if(i%j)==0:\n",
        "      state=False\n",
        "      break;\n",
        "  if state==True:\n",
        "    st+=\" \"+str(i)\n",
        "    sum+=i\n",
        "  print(\"Prime numbers :\")\n",
        "  print(st)\n",
        "  print(\"Sum of the prime numbers : \",sum)"
      ],
      "execution_count": null,
      "outputs": [
        {
          "output_type": "stream",
          "text": [
            "Enter an Ending Number: 100\n",
            "Prime numbers :\n",
            " 2\n",
            "Sum of the prime numbers :  2\n",
            "Prime numbers :\n",
            " 2 3\n",
            "Sum of the prime numbers :  5\n",
            "Prime numbers :\n",
            " 2 3\n",
            "Sum of the prime numbers :  5\n",
            "Prime numbers :\n",
            " 2 3 5\n",
            "Sum of the prime numbers :  10\n",
            "Prime numbers :\n",
            " 2 3 5\n",
            "Sum of the prime numbers :  10\n",
            "Prime numbers :\n",
            " 2 3 5 7\n",
            "Sum of the prime numbers :  17\n",
            "Prime numbers :\n",
            " 2 3 5 7\n",
            "Sum of the prime numbers :  17\n",
            "Prime numbers :\n",
            " 2 3 5 7\n",
            "Sum of the prime numbers :  17\n",
            "Prime numbers :\n",
            " 2 3 5 7\n",
            "Sum of the prime numbers :  17\n",
            "Prime numbers :\n",
            " 2 3 5 7 11\n",
            "Sum of the prime numbers :  28\n",
            "Prime numbers :\n",
            " 2 3 5 7 11\n",
            "Sum of the prime numbers :  28\n",
            "Prime numbers :\n",
            " 2 3 5 7 11 13\n",
            "Sum of the prime numbers :  41\n",
            "Prime numbers :\n",
            " 2 3 5 7 11 13\n",
            "Sum of the prime numbers :  41\n",
            "Prime numbers :\n",
            " 2 3 5 7 11 13\n",
            "Sum of the prime numbers :  41\n",
            "Prime numbers :\n",
            " 2 3 5 7 11 13\n",
            "Sum of the prime numbers :  41\n",
            "Prime numbers :\n",
            " 2 3 5 7 11 13 17\n",
            "Sum of the prime numbers :  58\n",
            "Prime numbers :\n",
            " 2 3 5 7 11 13 17\n",
            "Sum of the prime numbers :  58\n",
            "Prime numbers :\n",
            " 2 3 5 7 11 13 17 19\n",
            "Sum of the prime numbers :  77\n",
            "Prime numbers :\n",
            " 2 3 5 7 11 13 17 19\n",
            "Sum of the prime numbers :  77\n",
            "Prime numbers :\n",
            " 2 3 5 7 11 13 17 19\n",
            "Sum of the prime numbers :  77\n",
            "Prime numbers :\n",
            " 2 3 5 7 11 13 17 19\n",
            "Sum of the prime numbers :  77\n",
            "Prime numbers :\n",
            " 2 3 5 7 11 13 17 19 23\n",
            "Sum of the prime numbers :  100\n",
            "Prime numbers :\n",
            " 2 3 5 7 11 13 17 19 23\n",
            "Sum of the prime numbers :  100\n",
            "Prime numbers :\n",
            " 2 3 5 7 11 13 17 19 23\n",
            "Sum of the prime numbers :  100\n",
            "Prime numbers :\n",
            " 2 3 5 7 11 13 17 19 23\n",
            "Sum of the prime numbers :  100\n",
            "Prime numbers :\n",
            " 2 3 5 7 11 13 17 19 23\n",
            "Sum of the prime numbers :  100\n",
            "Prime numbers :\n",
            " 2 3 5 7 11 13 17 19 23\n",
            "Sum of the prime numbers :  100\n",
            "Prime numbers :\n",
            " 2 3 5 7 11 13 17 19 23 29\n",
            "Sum of the prime numbers :  129\n",
            "Prime numbers :\n",
            " 2 3 5 7 11 13 17 19 23 29\n",
            "Sum of the prime numbers :  129\n",
            "Prime numbers :\n",
            " 2 3 5 7 11 13 17 19 23 29 31\n",
            "Sum of the prime numbers :  160\n",
            "Prime numbers :\n",
            " 2 3 5 7 11 13 17 19 23 29 31\n",
            "Sum of the prime numbers :  160\n",
            "Prime numbers :\n",
            " 2 3 5 7 11 13 17 19 23 29 31\n",
            "Sum of the prime numbers :  160\n",
            "Prime numbers :\n",
            " 2 3 5 7 11 13 17 19 23 29 31\n",
            "Sum of the prime numbers :  160\n",
            "Prime numbers :\n",
            " 2 3 5 7 11 13 17 19 23 29 31\n",
            "Sum of the prime numbers :  160\n",
            "Prime numbers :\n",
            " 2 3 5 7 11 13 17 19 23 29 31\n",
            "Sum of the prime numbers :  160\n",
            "Prime numbers :\n",
            " 2 3 5 7 11 13 17 19 23 29 31 37\n",
            "Sum of the prime numbers :  197\n",
            "Prime numbers :\n",
            " 2 3 5 7 11 13 17 19 23 29 31 37\n",
            "Sum of the prime numbers :  197\n",
            "Prime numbers :\n",
            " 2 3 5 7 11 13 17 19 23 29 31 37\n",
            "Sum of the prime numbers :  197\n",
            "Prime numbers :\n",
            " 2 3 5 7 11 13 17 19 23 29 31 37\n",
            "Sum of the prime numbers :  197\n",
            "Prime numbers :\n",
            " 2 3 5 7 11 13 17 19 23 29 31 37 41\n",
            "Sum of the prime numbers :  238\n",
            "Prime numbers :\n",
            " 2 3 5 7 11 13 17 19 23 29 31 37 41\n",
            "Sum of the prime numbers :  238\n",
            "Prime numbers :\n",
            " 2 3 5 7 11 13 17 19 23 29 31 37 41 43\n",
            "Sum of the prime numbers :  281\n",
            "Prime numbers :\n",
            " 2 3 5 7 11 13 17 19 23 29 31 37 41 43\n",
            "Sum of the prime numbers :  281\n",
            "Prime numbers :\n",
            " 2 3 5 7 11 13 17 19 23 29 31 37 41 43\n",
            "Sum of the prime numbers :  281\n",
            "Prime numbers :\n",
            " 2 3 5 7 11 13 17 19 23 29 31 37 41 43\n",
            "Sum of the prime numbers :  281\n",
            "Prime numbers :\n",
            " 2 3 5 7 11 13 17 19 23 29 31 37 41 43 47\n",
            "Sum of the prime numbers :  328\n",
            "Prime numbers :\n",
            " 2 3 5 7 11 13 17 19 23 29 31 37 41 43 47\n",
            "Sum of the prime numbers :  328\n",
            "Prime numbers :\n",
            " 2 3 5 7 11 13 17 19 23 29 31 37 41 43 47\n",
            "Sum of the prime numbers :  328\n",
            "Prime numbers :\n",
            " 2 3 5 7 11 13 17 19 23 29 31 37 41 43 47\n",
            "Sum of the prime numbers :  328\n",
            "Prime numbers :\n",
            " 2 3 5 7 11 13 17 19 23 29 31 37 41 43 47\n",
            "Sum of the prime numbers :  328\n",
            "Prime numbers :\n",
            " 2 3 5 7 11 13 17 19 23 29 31 37 41 43 47\n",
            "Sum of the prime numbers :  328\n",
            "Prime numbers :\n",
            " 2 3 5 7 11 13 17 19 23 29 31 37 41 43 47 53\n",
            "Sum of the prime numbers :  381\n",
            "Prime numbers :\n",
            " 2 3 5 7 11 13 17 19 23 29 31 37 41 43 47 53\n",
            "Sum of the prime numbers :  381\n",
            "Prime numbers :\n",
            " 2 3 5 7 11 13 17 19 23 29 31 37 41 43 47 53\n",
            "Sum of the prime numbers :  381\n",
            "Prime numbers :\n",
            " 2 3 5 7 11 13 17 19 23 29 31 37 41 43 47 53\n",
            "Sum of the prime numbers :  381\n",
            "Prime numbers :\n",
            " 2 3 5 7 11 13 17 19 23 29 31 37 41 43 47 53\n",
            "Sum of the prime numbers :  381\n",
            "Prime numbers :\n",
            " 2 3 5 7 11 13 17 19 23 29 31 37 41 43 47 53\n",
            "Sum of the prime numbers :  381\n",
            "Prime numbers :\n",
            " 2 3 5 7 11 13 17 19 23 29 31 37 41 43 47 53 59\n",
            "Sum of the prime numbers :  440\n",
            "Prime numbers :\n",
            " 2 3 5 7 11 13 17 19 23 29 31 37 41 43 47 53 59\n",
            "Sum of the prime numbers :  440\n",
            "Prime numbers :\n",
            " 2 3 5 7 11 13 17 19 23 29 31 37 41 43 47 53 59 61\n",
            "Sum of the prime numbers :  501\n",
            "Prime numbers :\n",
            " 2 3 5 7 11 13 17 19 23 29 31 37 41 43 47 53 59 61\n",
            "Sum of the prime numbers :  501\n",
            "Prime numbers :\n",
            " 2 3 5 7 11 13 17 19 23 29 31 37 41 43 47 53 59 61\n",
            "Sum of the prime numbers :  501\n",
            "Prime numbers :\n",
            " 2 3 5 7 11 13 17 19 23 29 31 37 41 43 47 53 59 61\n",
            "Sum of the prime numbers :  501\n",
            "Prime numbers :\n",
            " 2 3 5 7 11 13 17 19 23 29 31 37 41 43 47 53 59 61\n",
            "Sum of the prime numbers :  501\n",
            "Prime numbers :\n",
            " 2 3 5 7 11 13 17 19 23 29 31 37 41 43 47 53 59 61\n",
            "Sum of the prime numbers :  501\n",
            "Prime numbers :\n",
            " 2 3 5 7 11 13 17 19 23 29 31 37 41 43 47 53 59 61 67\n",
            "Sum of the prime numbers :  568\n",
            "Prime numbers :\n",
            " 2 3 5 7 11 13 17 19 23 29 31 37 41 43 47 53 59 61 67\n",
            "Sum of the prime numbers :  568\n",
            "Prime numbers :\n",
            " 2 3 5 7 11 13 17 19 23 29 31 37 41 43 47 53 59 61 67\n",
            "Sum of the prime numbers :  568\n",
            "Prime numbers :\n",
            " 2 3 5 7 11 13 17 19 23 29 31 37 41 43 47 53 59 61 67\n",
            "Sum of the prime numbers :  568\n",
            "Prime numbers :\n",
            " 2 3 5 7 11 13 17 19 23 29 31 37 41 43 47 53 59 61 67 71\n",
            "Sum of the prime numbers :  639\n",
            "Prime numbers :\n",
            " 2 3 5 7 11 13 17 19 23 29 31 37 41 43 47 53 59 61 67 71\n",
            "Sum of the prime numbers :  639\n",
            "Prime numbers :\n",
            " 2 3 5 7 11 13 17 19 23 29 31 37 41 43 47 53 59 61 67 71 73\n",
            "Sum of the prime numbers :  712\n",
            "Prime numbers :\n",
            " 2 3 5 7 11 13 17 19 23 29 31 37 41 43 47 53 59 61 67 71 73\n",
            "Sum of the prime numbers :  712\n",
            "Prime numbers :\n",
            " 2 3 5 7 11 13 17 19 23 29 31 37 41 43 47 53 59 61 67 71 73\n",
            "Sum of the prime numbers :  712\n",
            "Prime numbers :\n",
            " 2 3 5 7 11 13 17 19 23 29 31 37 41 43 47 53 59 61 67 71 73\n",
            "Sum of the prime numbers :  712\n",
            "Prime numbers :\n",
            " 2 3 5 7 11 13 17 19 23 29 31 37 41 43 47 53 59 61 67 71 73\n",
            "Sum of the prime numbers :  712\n",
            "Prime numbers :\n",
            " 2 3 5 7 11 13 17 19 23 29 31 37 41 43 47 53 59 61 67 71 73\n",
            "Sum of the prime numbers :  712\n",
            "Prime numbers :\n",
            " 2 3 5 7 11 13 17 19 23 29 31 37 41 43 47 53 59 61 67 71 73 79\n",
            "Sum of the prime numbers :  791\n",
            "Prime numbers :\n",
            " 2 3 5 7 11 13 17 19 23 29 31 37 41 43 47 53 59 61 67 71 73 79\n",
            "Sum of the prime numbers :  791\n",
            "Prime numbers :\n",
            " 2 3 5 7 11 13 17 19 23 29 31 37 41 43 47 53 59 61 67 71 73 79\n",
            "Sum of the prime numbers :  791\n",
            "Prime numbers :\n",
            " 2 3 5 7 11 13 17 19 23 29 31 37 41 43 47 53 59 61 67 71 73 79\n",
            "Sum of the prime numbers :  791\n",
            "Prime numbers :\n",
            " 2 3 5 7 11 13 17 19 23 29 31 37 41 43 47 53 59 61 67 71 73 79 83\n",
            "Sum of the prime numbers :  874\n",
            "Prime numbers :\n",
            " 2 3 5 7 11 13 17 19 23 29 31 37 41 43 47 53 59 61 67 71 73 79 83\n",
            "Sum of the prime numbers :  874\n",
            "Prime numbers :\n",
            " 2 3 5 7 11 13 17 19 23 29 31 37 41 43 47 53 59 61 67 71 73 79 83\n",
            "Sum of the prime numbers :  874\n",
            "Prime numbers :\n",
            " 2 3 5 7 11 13 17 19 23 29 31 37 41 43 47 53 59 61 67 71 73 79 83\n",
            "Sum of the prime numbers :  874\n",
            "Prime numbers :\n",
            " 2 3 5 7 11 13 17 19 23 29 31 37 41 43 47 53 59 61 67 71 73 79 83\n",
            "Sum of the prime numbers :  874\n",
            "Prime numbers :\n",
            " 2 3 5 7 11 13 17 19 23 29 31 37 41 43 47 53 59 61 67 71 73 79 83\n",
            "Sum of the prime numbers :  874\n",
            "Prime numbers :\n",
            " 2 3 5 7 11 13 17 19 23 29 31 37 41 43 47 53 59 61 67 71 73 79 83 89\n",
            "Sum of the prime numbers :  963\n",
            "Prime numbers :\n",
            " 2 3 5 7 11 13 17 19 23 29 31 37 41 43 47 53 59 61 67 71 73 79 83 89\n",
            "Sum of the prime numbers :  963\n",
            "Prime numbers :\n",
            " 2 3 5 7 11 13 17 19 23 29 31 37 41 43 47 53 59 61 67 71 73 79 83 89\n",
            "Sum of the prime numbers :  963\n",
            "Prime numbers :\n",
            " 2 3 5 7 11 13 17 19 23 29 31 37 41 43 47 53 59 61 67 71 73 79 83 89\n",
            "Sum of the prime numbers :  963\n",
            "Prime numbers :\n",
            " 2 3 5 7 11 13 17 19 23 29 31 37 41 43 47 53 59 61 67 71 73 79 83 89\n",
            "Sum of the prime numbers :  963\n",
            "Prime numbers :\n",
            " 2 3 5 7 11 13 17 19 23 29 31 37 41 43 47 53 59 61 67 71 73 79 83 89\n",
            "Sum of the prime numbers :  963\n",
            "Prime numbers :\n",
            " 2 3 5 7 11 13 17 19 23 29 31 37 41 43 47 53 59 61 67 71 73 79 83 89\n",
            "Sum of the prime numbers :  963\n",
            "Prime numbers :\n",
            " 2 3 5 7 11 13 17 19 23 29 31 37 41 43 47 53 59 61 67 71 73 79 83 89\n",
            "Sum of the prime numbers :  963\n",
            "Prime numbers :\n",
            " 2 3 5 7 11 13 17 19 23 29 31 37 41 43 47 53 59 61 67 71 73 79 83 89 97\n",
            "Sum of the prime numbers :  1060\n",
            "Prime numbers :\n",
            " 2 3 5 7 11 13 17 19 23 29 31 37 41 43 47 53 59 61 67 71 73 79 83 89 97\n",
            "Sum of the prime numbers :  1060\n",
            "Prime numbers :\n",
            " 2 3 5 7 11 13 17 19 23 29 31 37 41 43 47 53 59 61 67 71 73 79 83 89 97\n",
            "Sum of the prime numbers :  1060\n"
          ],
          "name": "stdout"
        }
      ]
    },
    {
      "cell_type": "markdown",
      "metadata": {
        "id": "ReKPpNlo8lEr"
      },
      "source": [
        "b) Each new term in the Fibonacci sequence is generated by adding the previous two terms.By starting with 1 and 2,the first 10 terms will be :1,2,3,5,8,13,21,34,55,89..."
      ]
    },
    {
      "cell_type": "code",
      "metadata": {
        "colab": {
          "base_uri": "https://localhost:8080/"
        },
        "id": "cv7R_jw_92Fq",
        "outputId": "5b3f7674-ee41-473f-f24c-b8abe1a0834b"
      },
      "source": [
        "n=int(input(\"enter value of n \"))\n",
        "a=0\n",
        "b=1\n",
        "c=a+b\n",
        "while c<n:\n",
        "  print(c,end=' ')\n",
        "  a=b\n",
        "  b=c\n",
        "  c=a+b\n"
      ],
      "execution_count": null,
      "outputs": [
        {
          "output_type": "stream",
          "text": [
            "enter value of n 1000\n",
            "1 2 3 5 8 13 21 34 55 89 144 233 377 610 987 "
          ],
          "name": "stdout"
        }
      ]
    },
    {
      "cell_type": "markdown",
      "metadata": {
        "id": "ZZn_SMcRjnCH"
      },
      "source": [
        "(c) By considering the terms in the fibinacci sequence whose values do not exceed four million,find the sum of the even-valued terms."
      ]
    },
    {
      "cell_type": "code",
      "metadata": {
        "colab": {
          "base_uri": "https://localhost:8080/"
        },
        "id": "pl-9QQavj-R5",
        "outputId": "432b2fdc-b87d-4491-c613-df8fae2deecb"
      },
      "source": [
        "n=int(input(\"Enter value of n : \"))\n",
        "a=0\n",
        "b=1\n",
        "c=a+b\n",
        "sum=0\n",
        "print(\"Even numbers in fibbinoci series: \",end=\"\")\n",
        "while c<=n:\n",
        "  if c%2==0:\n",
        "    print(c,end='')\n",
        "    sum+=c\n",
        "  a=b\n",
        "  b=c\n",
        "  c=a+b\n",
        "  print(\"\\n sum of fibbinaci series is : \",sum)"
      ],
      "execution_count": null,
      "outputs": [
        {
          "output_type": "stream",
          "text": [
            "Enter value of n : 40000000\n",
            "Even numbers in fibbinoci series: \n",
            " sum of fibbinaci series is :  0\n",
            "2\n",
            " sum of fibbinaci series is :  2\n",
            "\n",
            " sum of fibbinaci series is :  2\n",
            "\n",
            " sum of fibbinaci series is :  2\n",
            "8\n",
            " sum of fibbinaci series is :  10\n",
            "\n",
            " sum of fibbinaci series is :  10\n",
            "\n",
            " sum of fibbinaci series is :  10\n",
            "34\n",
            " sum of fibbinaci series is :  44\n",
            "\n",
            " sum of fibbinaci series is :  44\n",
            "\n",
            " sum of fibbinaci series is :  44\n",
            "144\n",
            " sum of fibbinaci series is :  188\n",
            "\n",
            " sum of fibbinaci series is :  188\n",
            "\n",
            " sum of fibbinaci series is :  188\n",
            "610\n",
            " sum of fibbinaci series is :  798\n",
            "\n",
            " sum of fibbinaci series is :  798\n",
            "\n",
            " sum of fibbinaci series is :  798\n",
            "2584\n",
            " sum of fibbinaci series is :  3382\n",
            "\n",
            " sum of fibbinaci series is :  3382\n",
            "\n",
            " sum of fibbinaci series is :  3382\n",
            "10946\n",
            " sum of fibbinaci series is :  14328\n",
            "\n",
            " sum of fibbinaci series is :  14328\n",
            "\n",
            " sum of fibbinaci series is :  14328\n",
            "46368\n",
            " sum of fibbinaci series is :  60696\n",
            "\n",
            " sum of fibbinaci series is :  60696\n",
            "\n",
            " sum of fibbinaci series is :  60696\n",
            "196418\n",
            " sum of fibbinaci series is :  257114\n",
            "\n",
            " sum of fibbinaci series is :  257114\n",
            "\n",
            " sum of fibbinaci series is :  257114\n",
            "832040\n",
            " sum of fibbinaci series is :  1089154\n",
            "\n",
            " sum of fibbinaci series is :  1089154\n",
            "\n",
            " sum of fibbinaci series is :  1089154\n",
            "3524578\n",
            " sum of fibbinaci series is :  4613732\n",
            "\n",
            " sum of fibbinaci series is :  4613732\n",
            "\n",
            " sum of fibbinaci series is :  4613732\n",
            "14930352\n",
            " sum of fibbinaci series is :  19544084\n",
            "\n",
            " sum of fibbinaci series is :  19544084\n",
            "\n",
            " sum of fibbinaci series is :  19544084\n"
          ],
          "name": "stdout"
        }
      ]
    },
    {
      "cell_type": "markdown",
      "metadata": {
        "id": "HbmBTMG6lVPN"
      },
      "source": [
        "**Exercise 5**\n",
        "\n",
        "(a) Write a program to count the numbers of characters in the string and store them in a dictionary data structures."
      ]
    },
    {
      "cell_type": "code",
      "metadata": {
        "id": "BN87wSsUlo4_",
        "colab": {
          "base_uri": "https://localhost:8080/"
        },
        "outputId": "f1bd9fc8-8e21-4526-e099-bf1efb5d598f"
      },
      "source": [
        "name=input(\"Enter a Name :\")\n",
        "dic={}\n",
        "\n",
        "for ch in name:\n",
        "  keys=dic.keys()\n",
        "\n",
        "  if(ch in keys):\n",
        "    dic[ch]-dic[ch]+1\n",
        "  else:\n",
        "    dic[ch]=1\n",
        "  print(\"Dictionary is : \",dic)"
      ],
      "execution_count": null,
      "outputs": [
        {
          "output_type": "stream",
          "text": [
            "Enter a Name :kishore\n",
            "Dictionary is :  {'k': 1}\n",
            "Dictionary is :  {'k': 1, 'i': 1}\n",
            "Dictionary is :  {'k': 1, 'i': 1, 's': 1}\n",
            "Dictionary is :  {'k': 1, 'i': 1, 's': 1, 'h': 1}\n",
            "Dictionary is :  {'k': 1, 'i': 1, 's': 1, 'h': 1, 'o': 1}\n",
            "Dictionary is :  {'k': 1, 'i': 1, 's': 1, 'h': 1, 'o': 1, 'r': 1}\n",
            "Dictionary is :  {'k': 1, 'i': 1, 's': 1, 'h': 1, 'o': 1, 'r': 1, 'e': 1}\n"
          ],
          "name": "stdout"
        }
      ]
    },
    {
      "cell_type": "markdown",
      "metadata": {
        "id": "Bjnuu_osnJRj"
      },
      "source": [
        "(b) Write a program to use split and join methods in the string and trace a birthday with a dictionary data structures."
      ]
    },
    {
      "cell_type": "code",
      "metadata": {
        "colab": {
          "base_uri": "https://localhost:8080/"
        },
        "id": "JQN9l8xXnaXT",
        "outputId": "4167ed42-346f-4cc6-cb66-e59d837e33c8"
      },
      "source": [
        "dob={\"parnika\":\"07-Nov-2015\",\"KK\":\"10-10-2000\"}\n",
        "name=input(\"Which person DOB you want: \")\n",
        "l=name.split()\n",
        "birth=\"\"\n",
        "\n",
        "for i in l:\n",
        "  if i in dob.keys():\n",
        "    pers=i\n",
        "\n",
        "print(\"\".join([pers,\"Birthday is\",dob[pers]]))\n"
      ],
      "execution_count": null,
      "outputs": [
        {
          "output_type": "stream",
          "text": [
            "Which person DOB you want: parnika\n",
            "parnikaBirthday is07-Nov-2015\n"
          ],
          "name": "stdout"
        }
      ]
    },
    {
      "cell_type": "markdown",
      "metadata": {
        "id": "H62N3z1WogAS"
      },
      "source": [
        "**Exercise 6**\n",
        "\n",
        "(a) Write a program combine lists that combines these lists into a dictionory."
      ]
    },
    {
      "cell_type": "code",
      "metadata": {
        "colab": {
          "base_uri": "https://localhost:8080/"
        },
        "id": "JcE52LpWot5l",
        "outputId": "d0bf0207-db38-4af9-9ee6-1c46ef4782f3"
      },
      "source": [
        "subj=[\"DAA\",\"OS\",\"DBMS\",\"P&S\",\"PPL\",\"SE\"]\n",
        "marks=[85,96,78,68,98,56]\n",
        "print(\"Given lists are : \")\n",
        "print(\"Subject Names :\",subj)\n",
        "print(\"Mark values :\",marks)\n",
        "dic=dict(zip(subj,marks))\n",
        "print(\"\\n Dictionary: \",dic)"
      ],
      "execution_count": null,
      "outputs": [
        {
          "output_type": "stream",
          "text": [
            "Given lists are : \n",
            "Subject Names : ['DAA', 'OS', 'DBMS', 'P&S', 'PPL', 'SE']\n",
            "Mark values : [85, 96, 78, 68, 98, 56]\n",
            "\n",
            " Dictionary:  {'DAA': 85, 'OS': 96, 'DBMS': 78, 'P&S': 68, 'PPL': 98, 'SE': 56}\n"
          ],
          "name": "stdout"
        }
      ]
    },
    {
      "cell_type": "markdown",
      "metadata": {
        "id": "kMbuDoeHprMK"
      },
      "source": [
        "(b) Write a program to count frequency of charchters in a given file.can you use charchter frequency to tell whether the given file is a python program file,c program file or a text file?"
      ]
    },
    {
      "cell_type": "code",
      "metadata": {
        "id": "pAYRGFFUqL_T",
        "colab": {
          "base_uri": "https://localhost:8080/",
          "height": 248
        },
        "outputId": "fc5774a5-e81a-4ee6-b72f-e6a4a99d55e7"
      },
      "source": [
        "filetypes=['.py','.c','.txt']\n",
        "fn=input(\"Enter the file name :\")\n",
        "f=open(fn,\"r\")\n",
        "count=dict()\n",
        "print(\"Given file is \",end=\"\")\n",
        "for ft in filetypes:\n",
        "  if(ft in fn):\n",
        "    if(ft=='.py'):\n",
        "      print(\"Python File \")\n",
        "    elif(ft=='.c'):\n",
        "      print(\"C File\")\n",
        "    elif(ft=='.txt'):\n",
        "      print(\"Text file\")\n",
        "for line in f:\n",
        "  for ch in line:\n",
        "    if ch in count:\n",
        "      count[ch]=count[ch]+1\n",
        "    else:\n",
        "      count[ch]=1\n",
        "print(count)\n",
        "f.close()"
      ],
      "execution_count": null,
      "outputs": [
        {
          "output_type": "stream",
          "text": [
            "Enter the file name :abc.txt\n"
          ],
          "name": "stdout"
        },
        {
          "output_type": "error",
          "ename": "FileNotFoundError",
          "evalue": "ignored",
          "traceback": [
            "\u001b[0;31m---------------------------------------------------------------------------\u001b[0m",
            "\u001b[0;31mFileNotFoundError\u001b[0m                         Traceback (most recent call last)",
            "\u001b[0;32m<ipython-input-8-cd0fca6ed2ca>\u001b[0m in \u001b[0;36m<module>\u001b[0;34m()\u001b[0m\n\u001b[1;32m      1\u001b[0m \u001b[0mfiletypes\u001b[0m\u001b[0;34m=\u001b[0m\u001b[0;34m[\u001b[0m\u001b[0;34m'.py'\u001b[0m\u001b[0;34m,\u001b[0m\u001b[0;34m'.c'\u001b[0m\u001b[0;34m,\u001b[0m\u001b[0;34m'.txt'\u001b[0m\u001b[0;34m]\u001b[0m\u001b[0;34m\u001b[0m\u001b[0;34m\u001b[0m\u001b[0m\n\u001b[1;32m      2\u001b[0m \u001b[0mfn\u001b[0m\u001b[0;34m=\u001b[0m\u001b[0minput\u001b[0m\u001b[0;34m(\u001b[0m\u001b[0;34m\"Enter the file name :\"\u001b[0m\u001b[0;34m)\u001b[0m\u001b[0;34m\u001b[0m\u001b[0;34m\u001b[0m\u001b[0m\n\u001b[0;32m----> 3\u001b[0;31m \u001b[0mf\u001b[0m\u001b[0;34m=\u001b[0m\u001b[0mopen\u001b[0m\u001b[0;34m(\u001b[0m\u001b[0mfn\u001b[0m\u001b[0;34m,\u001b[0m\u001b[0;34m\"r\"\u001b[0m\u001b[0;34m)\u001b[0m\u001b[0;34m\u001b[0m\u001b[0;34m\u001b[0m\u001b[0m\n\u001b[0m\u001b[1;32m      4\u001b[0m \u001b[0mcount\u001b[0m\u001b[0;34m=\u001b[0m\u001b[0mdict\u001b[0m\u001b[0;34m(\u001b[0m\u001b[0;34m)\u001b[0m\u001b[0;34m\u001b[0m\u001b[0;34m\u001b[0m\u001b[0m\n\u001b[1;32m      5\u001b[0m \u001b[0mprint\u001b[0m\u001b[0;34m(\u001b[0m\u001b[0;34m\"Given file is \"\u001b[0m\u001b[0;34m,\u001b[0m\u001b[0mend\u001b[0m\u001b[0;34m=\u001b[0m\u001b[0;34m\"\"\u001b[0m\u001b[0;34m)\u001b[0m\u001b[0;34m\u001b[0m\u001b[0;34m\u001b[0m\u001b[0m\n",
            "\u001b[0;31mFileNotFoundError\u001b[0m: [Errno 2] No such file or directory: 'abc.txt'"
          ]
        }
      ]
    },
    {
      "cell_type": "markdown",
      "metadata": {
        "id": "Q5tteV0xHOA7"
      },
      "source": [
        "**Exercise 7**\n",
        "\n",
        "(a) Write a program to print each line of a file in reverse order."
      ]
    },
    {
      "cell_type": "code",
      "metadata": {
        "id": "aU-eOHIzHcHE",
        "colab": {
          "base_uri": "https://localhost:8080/",
          "height": 231
        },
        "outputId": "63d4bd41-e51e-4026-f531-8fa43a680ccd"
      },
      "source": [
        "#Write a program to print each line of a file in reverse order.\n",
        "obj=open(\"abc.txt\",\"r\")\n",
        "if obj:\n",
        "  st=obj.read()\n",
        "  print(\"File content is :\\n\",st)\n",
        "  obj.close()\n",
        "  print()\n",
        "  lines=st.split('\\n')\n",
        "for ln in lines:\n",
        "  i=lcn(ln)-1\n",
        "  while(i>=0):\n",
        "    print(ln[i],end=\"\")\n",
        "    i=i-1\n",
        "  print()"
      ],
      "execution_count": null,
      "outputs": [
        {
          "output_type": "error",
          "ename": "FileNotFoundError",
          "evalue": "ignored",
          "traceback": [
            "\u001b[0;31m---------------------------------------------------------------------------\u001b[0m",
            "\u001b[0;31mFileNotFoundError\u001b[0m                         Traceback (most recent call last)",
            "\u001b[0;32m<ipython-input-15-79e8ce5d7e36>\u001b[0m in \u001b[0;36m<module>\u001b[0;34m()\u001b[0m\n\u001b[1;32m      1\u001b[0m \u001b[0;31m#Write a program to print each line of a file in reverse order.\u001b[0m\u001b[0;34m\u001b[0m\u001b[0;34m\u001b[0m\u001b[0;34m\u001b[0m\u001b[0m\n\u001b[0;32m----> 2\u001b[0;31m \u001b[0mobj\u001b[0m\u001b[0;34m=\u001b[0m\u001b[0mopen\u001b[0m\u001b[0;34m(\u001b[0m\u001b[0;34m\"abc.txt\"\u001b[0m\u001b[0;34m,\u001b[0m\u001b[0;34m\"r\"\u001b[0m\u001b[0;34m)\u001b[0m\u001b[0;34m\u001b[0m\u001b[0;34m\u001b[0m\u001b[0m\n\u001b[0m\u001b[1;32m      3\u001b[0m \u001b[0;32mif\u001b[0m \u001b[0mobj\u001b[0m\u001b[0;34m:\u001b[0m\u001b[0;34m\u001b[0m\u001b[0;34m\u001b[0m\u001b[0m\n\u001b[1;32m      4\u001b[0m   \u001b[0mst\u001b[0m\u001b[0;34m=\u001b[0m\u001b[0mobj\u001b[0m\u001b[0;34m.\u001b[0m\u001b[0mread\u001b[0m\u001b[0;34m(\u001b[0m\u001b[0;34m)\u001b[0m\u001b[0;34m\u001b[0m\u001b[0;34m\u001b[0m\u001b[0m\n\u001b[1;32m      5\u001b[0m   \u001b[0mprint\u001b[0m\u001b[0;34m(\u001b[0m\u001b[0;34m\"File content is :\\n\"\u001b[0m\u001b[0;34m,\u001b[0m\u001b[0mst\u001b[0m\u001b[0;34m)\u001b[0m\u001b[0;34m\u001b[0m\u001b[0;34m\u001b[0m\u001b[0m\n",
            "\u001b[0;31mFileNotFoundError\u001b[0m: [Errno 2] No such file or directory: 'abc.txt'"
          ]
        }
      ]
    },
    {
      "cell_type": "markdown",
      "metadata": {
        "id": "UZufp_9_Jn3u"
      },
      "source": [
        "(b) Write a program to compute the number of characters words and lines in a file."
      ]
    },
    {
      "cell_type": "code",
      "metadata": {
        "id": "QNAzZU3oJ29Q",
        "colab": {
          "base_uri": "https://localhost:8080/",
          "height": 231
        },
        "outputId": "59488af6-6b4c-4f45-bee6-857296bd373a"
      },
      "source": [
        "nc=nw=nl=0\n",
        "file=open(\"abc.txt\",\"r\")\n",
        "nl=nw=nc=0\n",
        "print(\"File Content:\\n\")\n",
        "for line in file:\n",
        "  ln=line.strip(\"\\n\")\n",
        "  print(ln)\n",
        "  words=ln.split()\n",
        "  nl+=1\n",
        "  nw+=len(words)\n",
        "  nc+=len(line)\n",
        "  file.close()\n",
        "  print(\"\\n No of lines:\",nl,\"words\",nw,\"characters:\",nc)"
      ],
      "execution_count": null,
      "outputs": [
        {
          "output_type": "error",
          "ename": "FileNotFoundError",
          "evalue": "ignored",
          "traceback": [
            "\u001b[0;31m---------------------------------------------------------------------------\u001b[0m",
            "\u001b[0;31mFileNotFoundError\u001b[0m                         Traceback (most recent call last)",
            "\u001b[0;32m<ipython-input-14-b6f78745c9b2>\u001b[0m in \u001b[0;36m<module>\u001b[0;34m()\u001b[0m\n\u001b[1;32m      1\u001b[0m \u001b[0mnc\u001b[0m\u001b[0;34m=\u001b[0m\u001b[0mnw\u001b[0m\u001b[0;34m=\u001b[0m\u001b[0mnl\u001b[0m\u001b[0;34m=\u001b[0m\u001b[0;36m0\u001b[0m\u001b[0;34m\u001b[0m\u001b[0;34m\u001b[0m\u001b[0m\n\u001b[0;32m----> 2\u001b[0;31m \u001b[0mfile\u001b[0m\u001b[0;34m=\u001b[0m\u001b[0mopen\u001b[0m\u001b[0;34m(\u001b[0m\u001b[0;34m\"abc.txt\"\u001b[0m\u001b[0;34m,\u001b[0m\u001b[0;34m\"r\"\u001b[0m\u001b[0;34m)\u001b[0m\u001b[0;34m\u001b[0m\u001b[0;34m\u001b[0m\u001b[0m\n\u001b[0m\u001b[1;32m      3\u001b[0m \u001b[0mnl\u001b[0m\u001b[0;34m=\u001b[0m\u001b[0mnw\u001b[0m\u001b[0;34m=\u001b[0m\u001b[0mnc\u001b[0m\u001b[0;34m=\u001b[0m\u001b[0;36m0\u001b[0m\u001b[0;34m\u001b[0m\u001b[0;34m\u001b[0m\u001b[0m\n\u001b[1;32m      4\u001b[0m \u001b[0mprint\u001b[0m\u001b[0;34m(\u001b[0m\u001b[0;34m\"File Content:\\n\"\u001b[0m\u001b[0;34m)\u001b[0m\u001b[0;34m\u001b[0m\u001b[0;34m\u001b[0m\u001b[0m\n\u001b[1;32m      5\u001b[0m \u001b[0;32mfor\u001b[0m \u001b[0mline\u001b[0m \u001b[0;32min\u001b[0m \u001b[0mfile\u001b[0m\u001b[0;34m:\u001b[0m\u001b[0;34m\u001b[0m\u001b[0;34m\u001b[0m\u001b[0m\n",
            "\u001b[0;31mFileNotFoundError\u001b[0m: [Errno 2] No such file or directory: 'abc.txt'"
          ]
        }
      ]
    },
    {
      "cell_type": "markdown",
      "metadata": {
        "id": "-NAsyc7ULN4H"
      },
      "source": [
        "**exercise 8**\n",
        "\n",
        "(a) Write a function ball collide that takes two balls as parameters and computes if they are colliding.Your function should return a bollean representing whether or not the balls are colliding."
      ]
    },
    {
      "cell_type": "code",
      "metadata": {
        "id": "ZGCHHKpzMIoc"
      },
      "source": [
        "import math\n",
        "def collide(ball_tup1,ball_tup2):\n",
        "  x1,y1,r1=ball_tup1\n",
        "  x2,y2,r2=ball_tup2\n",
        "  print(\"Ball-01: \",ball_tup1)\n",
        "  print(\"Ball-02: \",ball_tup2)\n",
        "  d=math.sqrt((x2-x1)**2+(y2-y1)**2)\n",
        "  print(\"Centroid Distance of two balls: \",d)\n",
        "  print(\"Sum of radius Ball-01 & Balu-02 is: {}+{}={}\".format(r1,r2,r1+r2))\n",
        "  if d<=r1+r2:\n",
        "    return True\n",
        "  else:\n",
        "    return False\n",
        "  b1=(-2,-4,3)\n",
        "  b2=(4,6,3)\n",
        "  if collide(b1,b2):\n",
        "    print(\"Balls are Collide...!\")\n",
        "  else:\n",
        "    print(\"Balls are NOT Collide !\")"
      ],
      "execution_count": null,
      "outputs": []
    },
    {
      "cell_type": "markdown",
      "metadata": {
        "id": "2E6DDj1ONXPL"
      },
      "source": [
        "(b) Find mean,median,mode for the given set of numbers in a list."
      ]
    },
    {
      "cell_type": "code",
      "metadata": {
        "id": "fNUPVSQJPGSm"
      },
      "source": [
        "def list_mean(num_list):\n",
        "  return sum(num_list)/len(num_list)\n",
        " \n",
        "  def list_median(num_list):\n",
        "    num_list.sort()\n",
        "    n=len(num_list)\n",
        "    mid=n/2\n",
        "    if(n%2==1):\n",
        "      return num_list[mid]\n",
        "    else:\n",
        "      mid\n",
        "      return(num_list[mid-1]+num_list[mid])/2\n",
        " \n",
        "  def list_mode(num_list):\n",
        "    num_list.sort()\n",
        "    temp=[]\n",
        " \n",
        "    i=0\n",
        "    while i<len(num_list):\n",
        "      temp.append(num_list.count(num_list[i]))\n",
        "      i+=1\n",
        "    dic=dict(zip(num_list,temp))\n",
        "    mode={k for(k,v) in dic.items() if v==max(temp)}\n",
        "    return mode\n",
        " \n",
        "  lst=[1,1,2,2,2,3,4,5,3]\n",
        " \n",
        "  print(\"Given list is:\",lst)\n",
        "  print(\"Mean of the given list: \",list_mean(lst))\n",
        "  print(\"Median of the given list:\",list_median(lst))\n",
        "  print(\"Mode of the given list :\",list_mode(lst))"
      ],
      "execution_count": null,
      "outputs": []
    },
    {
      "cell_type": "markdown",
      "metadata": {
        "id": "uvMpEC0EeDaV"
      },
      "source": [
        "**exercise 9**\n",
        "\n",
        "(a) Write a function nearly equal to test whether two strings are nearky equal.Two strings a and b are nearly equal when a can be generated by a single mutation on b."
      ]
    },
    {
      "cell_type": "code",
      "metadata": {
        "colab": {
          "base_uri": "https://localhost:8080/"
        },
        "id": "vd1Uj4IO8iwC",
        "outputId": "ba695134-5065-477c-dc9c-4df1a67461f7"
      },
      "source": [
        " \n",
        "def nearly_equal(str1,str2):\n",
        "  count=0\n",
        "  i=j=0\n",
        "  while(i<len(str1) and j<len(str2)):\n",
        "    if (str1[i]!=str2[j]):\n",
        "      count+=1\n",
        "      if (len(str1)>len(str2)):\n",
        "        i+=1\n",
        "      elif (len(str1)==len(str2)):\n",
        "        pass\n",
        "      else:\n",
        "        i-=1\n",
        "    if(count>1):\n",
        "      return False\n",
        "    i+=1\n",
        "    j+=1\n",
        "  if (count<2):\n",
        "    return True\n",
        " \n",
        "s=input(\"enter string-1:\")\n",
        "s1=input(\"enter string-2:\")\n",
        "blen=nearly_equal(s,s1)\n",
        "if (blen):\n",
        "  print(\"String are nearly equal\")\n",
        "else:\n",
        "    print(\"String are NOT equal\")"
      ],
      "execution_count": null,
      "outputs": [
        {
          "output_type": "stream",
          "text": [
            "enter string-1:Jai\n",
            "enter string-2:Kishore\n",
            "String are NOT equal\n"
          ],
          "name": "stdout"
        }
      ]
    },
    {
      "cell_type": "markdown",
      "metadata": {
        "id": "DRrNAiFug0nB"
      },
      "source": [
        "(b) Write a function dup to find all duplicates in the list"
      ]
    },
    {
      "cell_type": "code",
      "metadata": {
        "colab": {
          "base_uri": "https://localhost:8080/"
        },
        "id": "Hm4vO_zgCV8S",
        "outputId": "83ce93df-fd4c-48c8-fcc9-cfb0c943ff27"
      },
      "source": [
        " \n",
        "def duplicates(n_list):\n",
        "  temp=[]\n",
        "  for i in n_list:\n",
        "    coun=n_list.count(i)\n",
        "    if (coun>1 and (i not in temp)):\n",
        "      temp.append(i)\n",
        "  print(\"Duplicates in the list:\",temp) \n",
        " \n",
        "ls=[10,20,10,5,6,87,5]\n",
        "print(\"Given elements in the list:\",ls)\n",
        "duplicates(ls)"
      ],
      "execution_count": null,
      "outputs": [
        {
          "output_type": "stream",
          "text": [
            "Given elements in the list: [10, 20, 10, 5, 6, 87, 5]\n",
            "Duplicates in the list: [10, 5]\n"
          ],
          "name": "stdout"
        }
      ]
    },
    {
      "cell_type": "markdown",
      "metadata": {
        "id": "8JE5Glvlmo-5"
      },
      "source": [
        "(c) Write a function unique to find all the unique elements of a list."
      ]
    },
    {
      "cell_type": "code",
      "metadata": {
        "colab": {
          "base_uri": "https://localhost:8080/"
        },
        "id": "sP60Ji7ODghb",
        "outputId": "eb327ac6-71d7-4aa9-9fca-08c6913aa409"
      },
      "source": [
        " \n",
        "def unique(n_list):\n",
        "  print(\"Unique Elements in the list: \",end=\"\")\n",
        "  for i in n_list:\n",
        "    cnt=n_list.count(i)\n",
        "    if cnt==1:\n",
        "       print(i,end=\" \")\n",
        "  \n",
        " \n",
        "ls=[1,2,3,1,2,3,534,546,558]\n",
        "print(\"Given elements in the list:\",ls)\n",
        "unique(ls)"
      ],
      "execution_count": null,
      "outputs": [
        {
          "output_type": "stream",
          "text": [
            "Given elements in the list: [1, 2, 3, 1, 2, 3, 534, 546, 558]\n",
            "Unique Elements in the list: 534 546 558 "
          ],
          "name": "stdout"
        }
      ]
    },
    {
      "cell_type": "markdown",
      "metadata": {
        "id": "NRcM9imaoXiE"
      },
      "source": [
        "**exercise 10**\n",
        "\n",
        "(a) Write a function cumulative product to compare cumulative product of a list of numbers."
      ]
    },
    {
      "cell_type": "code",
      "metadata": {
        "colab": {
          "base_uri": "https://localhost:8080/"
        },
        "id": "AOrvqjrDo8JU",
        "outputId": "b48a6269-bb72-42ca-e893-b6ac839ef432"
      },
      "source": [
        "def cum_prod(numlist):\n",
        "  prod=1\n",
        "  temp=[]\n",
        "  for i in numlist:\n",
        "    prod*=i\n",
        "    temp.append(prod)\n",
        "    return temp\n",
        "lst=[1,2,4,5,3]\n",
        "print(\"Given list is:\",lst)\n",
        "print(\"Cumulative Product list is:\",cum_prod(lst))"
      ],
      "execution_count": 1,
      "outputs": [
        {
          "output_type": "stream",
          "text": [
            "Given list is: [1, 2, 4, 5, 3]\n",
            "Cumulative Product list is: [1]\n"
          ],
          "name": "stdout"
        }
      ]
    },
    {
      "cell_type": "markdown",
      "metadata": {
        "id": "_0HBKVfIqXEy"
      },
      "source": [
        "(b) Write a function reverse to reverse a list.Without using the reverse function."
      ]
    },
    {
      "cell_type": "code",
      "metadata": {
        "colab": {
          "base_uri": "https://localhost:8080/"
        },
        "id": "ZtTat4QhtgjD",
        "outputId": "fd6e94b7-df67-4263-eab9-d5134b11949f"
      },
      "source": [
        "def reverse_list(numlist):\n",
        "  i=0\n",
        "  j=len(numlist)-1\n",
        "  while(i<=j):\n",
        "   temp=numlist[i]\n",
        "   numlist[i]=numlist[j]\n",
        "   numlist[j]=temp\n",
        "   j-=1\n",
        "   i+=1\n",
        "  return numlist\n",
        "lst=[1,2,3,4]\n",
        "print(\"Given list is: \",lst)\n",
        "reverse_list(lst)\n",
        "print(\"Reverse of the given list is: \",lst)"
      ],
      "execution_count": 2,
      "outputs": [
        {
          "output_type": "stream",
          "text": [
            "Given list is:  [1, 2, 3, 4]\n",
            "Reverse of the given list is:  [4, 3, 2, 1]\n"
          ],
          "name": "stdout"
        }
      ]
    },
    {
      "cell_type": "markdown",
      "metadata": {
        "id": "9OYG3qlnvU5E"
      },
      "source": [
        "(c) Write function to compute gcd,lcm of two numbers.Each function shouldnt exceed one line."
      ]
    },
    {
      "cell_type": "code",
      "metadata": {
        "colab": {
          "base_uri": "https://localhost:8080/"
        },
        "id": "1VKY3ntjvk7h",
        "outputId": "4a1dd718-c0f0-41e9-9fc7-4d62b3aa487b"
      },
      "source": [
        "gcd=lambda a,b:a if b==0 else gcd(a,a%b)\n",
        "lcm=lambda a,b:(a*b)/gcd(a,b)\n",
        "\n",
        "x=4\n",
        "y=24\n",
        "print(\"The given numbers: \",x,y)\n",
        "print(\"GCD is: \",x,y)\n",
        "print(\"LCM is: \",lcm(x,y))\n"
      ],
      "execution_count": 3,
      "outputs": [
        {
          "output_type": "stream",
          "text": [
            "The given numbers:  4 24\n",
            "GCD is:  4 24\n",
            "LCM is:  24.0\n"
          ],
          "name": "stdout"
        }
      ]
    },
    {
      "cell_type": "markdown",
      "metadata": {
        "id": "Tgd3ncv7wzrw"
      },
      "source": [
        "**exercise 11**\n",
        "\n",
        "(a) Write a program that defines a matrix and prints."
      ]
    },
    {
      "cell_type": "code",
      "metadata": {
        "colab": {
          "base_uri": "https://localhost:8080/"
        },
        "id": "b4gTMRi3w8uJ",
        "outputId": "44a449e6-b770-4064-d281-f4ad8eaa2927"
      },
      "source": [
        "matA=[[]]\n",
        "rows=int(input(\"Enter row size of Matrix: \"))\n",
        "cols=int(input(\"Enter column size of matrix: \"))\n",
        "\n",
        "matA=[[int(input(\"Enter [%d,%d] value: \"%(i,j)))for j in range(cols)]for i in range(rows)]\n",
        "\n",
        "print(\"Matrix is: \")\n",
        "for i in range(rows):\n",
        "  for j in range(cols):\n",
        "    print(matA[i][j],end='\\t')\n",
        "    print(' ')"
      ],
      "execution_count": 4,
      "outputs": [
        {
          "output_type": "stream",
          "text": [
            "Enter row size of Matrix: 3\n",
            "Enter column size of matrix: 3\n",
            "Enter [0,0] value: 1\n",
            "Enter [0,1] value: 2\n",
            "Enter [0,2] value: 3\n",
            "Enter [1,0] value: 2\n",
            "Enter [1,1] value: 2\n",
            "Enter [1,2] value: 3\n",
            "Enter [2,0] value: 2\n",
            "Enter [2,1] value: 4\n",
            "Enter [2,2] value: 5\n",
            "Matrix is: \n",
            "1\t \n",
            "2\t \n",
            "3\t \n",
            "2\t \n",
            "2\t \n",
            "3\t \n",
            "2\t \n",
            "4\t \n",
            "5\t \n"
          ],
          "name": "stdout"
        }
      ]
    },
    {
      "cell_type": "markdown",
      "metadata": {
        "id": "rNVns4ZB1F3V"
      },
      "source": [
        "(b) Write a program to perform addition of two square matrices"
      ]
    },
    {
      "cell_type": "code",
      "metadata": {
        "colab": {
          "base_uri": "https://localhost:8080/"
        },
        "id": "mVh3VeCT1UBE",
        "outputId": "b014dd64-366f-4b50-9171-3a1e61ae8408"
      },
      "source": [
        "def matRead(r,c):\n",
        "  return[[int(input(\"[%d,%d]value: \"%(i,j)))for j in range(c)]for i in range(r)]\n",
        "def matDisp(mat,r,c):\n",
        "  for i in range(r):\n",
        "    for j in range(c):\n",
        "      print(mat[i][j],end='\\t')\n",
        "    print()\n",
        "\n",
        "matA=[[]]\n",
        "matB=[[]]\n",
        "matSum=[[]]\n",
        "rows=int(input(\"Enter row size of the Matrix: \"))\n",
        "cols=int(input(\"Enter column size of the Matrix: \"))\n",
        "if rows==cols:\n",
        "  print(\"Enter Matrix-A elements: \")\n",
        "  matA=matRead(rows,cols)\n",
        "\n",
        "  print(\"Enter Matrix-B elements: \")\n",
        "  matB=matRead(rows,cols)\n",
        "\n",
        "  print(\"Matrix-A is: \")\n",
        "  matDisp(matA,rows,cols)\n",
        "\n",
        "  print(\"Matrix-B is: \")\n",
        "  matDisp(matB,rows,cols)\n",
        "\n",
        "  matSum=[[matA[i][j]+matB[i][j]for j in range(cols)]for i in range(rows)]\n",
        "  print(\"Sum of Matrices is: \")\n",
        "  matDisp(matSum,rows,cols)\n",
        "else:\n",
        "  print(\"Matrices Addition is Not possible\")"
      ],
      "execution_count": 6,
      "outputs": [
        {
          "output_type": "stream",
          "text": [
            "Enter row size of the Matrix: 2\n",
            "Enter column size of the Matrix: 2\n",
            "Enter Matrix-A elements: \n",
            "[0,0]value: 1\n",
            "[0,1]value: 2\n",
            "[1,0]value: 3\n",
            "[1,1]value: 4\n",
            "Enter Matrix-B elements: \n",
            "[0,0]value: 4\n",
            "[0,1]value: 3\n",
            "[1,0]value: 2\n",
            "[1,1]value: 1\n",
            "Matrix-A is: \n",
            "1\t2\t\n",
            "3\t4\t\n",
            "Matrix-B is: \n",
            "4\t3\t\n",
            "2\t1\t\n",
            "Sum of Matrices is: \n",
            "5\t5\t\n",
            "5\t5\t\n"
          ],
          "name": "stdout"
        }
      ]
    },
    {
      "cell_type": "markdown",
      "metadata": {
        "id": "Po4bcHqm6GEp"
      },
      "source": [
        "(c) Write a program to perform multiplication of two square matrices"
      ]
    },
    {
      "cell_type": "code",
      "metadata": {
        "colab": {
          "base_uri": "https://localhost:8080/"
        },
        "id": "yg8tsFUa6YQC",
        "outputId": "88240a2e-4569-4beb-9876-c5384ac7ca5d"
      },
      "source": [
        "def matRead(r,c):\n",
        "  return[[int(input(\"[%d,%d]value: \"%(i,j)))for j in range(c)]for i in range(r)]\n",
        "              \n",
        "def matDisp(mat,r,c):\n",
        "  for i in range(r):\n",
        "    for j in range(c):\n",
        "      print(mat[i][j],end='\\t')\n",
        "    print()\n",
        "matA=[[]]\n",
        "matB=[[]]\n",
        "matMul=[[]]\n",
        "rows=int(input(\"Enter row size of the Matrix: \"))\n",
        "cols=int(input(\"Enter columns size of the Matrix: \"))\n",
        "\n",
        "if rows==cols:\n",
        "  print(\"Enter Matrix-A: \")\n",
        "  matA=matRead(rows,cols)\n",
        "  print(\"Enter Matrix-B: \")\n",
        "  matB=matRead(rows,cols)\n",
        "\n",
        "  matMul=[[0 for j in range(cols)]for i in range(rows)]\n",
        "\n",
        "  for i in range(rows):\n",
        "    for j in range(cols):\n",
        "      for k in range(cols):\n",
        "        matMul[i][j]+=matA[i][k]*matB[k][j]\n",
        "\n",
        "  print(\"Matrix-A is: \")\n",
        "  matDisp(matA,rows,cols)\n",
        "\n",
        "  print(\"Matrix-B is: \")\n",
        "  matDisp(matB,rows,cols)\n",
        "\n",
        "  print(\"Mukitiplication of matrices is: \")\n",
        "  matDisp(matMul,rows,cols)\n",
        "else:\n",
        "  print(\"Matrices Multiplicataion is Not Possible\")\n"
      ],
      "execution_count": 7,
      "outputs": [
        {
          "output_type": "stream",
          "text": [
            "Enter row size of the Matrix: 2\n",
            "Enter columns size of the Matrix: 2\n",
            "Enter Matrix-A: \n",
            "[0,0]value: 1\n",
            "[0,1]value: 2\n",
            "[1,0]value: 3\n",
            "[1,1]value: 3\n",
            "Enter Matrix-B: \n",
            "[0,0]value: 3\n",
            "[0,1]value: 3\n",
            "[1,0]value: 2\n",
            "[1,1]value: 2\n",
            "Matrix-A is: \n",
            "1\t2\t\n",
            "3\t3\t\n",
            "Matrix-B is: \n",
            "3\t3\t\n",
            "2\t2\t\n",
            "Mukitiplication of matrices is: \n",
            "7\t7\t\n",
            "15\t15\t\n"
          ],
          "name": "stdout"
        }
      ]
    },
    {
      "cell_type": "markdown",
      "metadata": {
        "id": "U0Ksk2O3A54f"
      },
      "source": [
        "**exercise 12**\n",
        "\n",
        "(a) Write a script that imports requests and fetch content from the page."
      ]
    },
    {
      "cell_type": "code",
      "metadata": {
        "id": "KNhXBzNiBMSR",
        "colab": {
          "base_uri": "https://localhost:8080/",
          "height": 248
        },
        "outputId": "9b4a98df-e35d-41c5-8812-bbd995e7ba75"
      },
      "source": [
        "import requests\n",
        "r=requests.get('https://www.google.com')\n",
        "\n",
        "print(\"Statuscode: \",r.status_code)\n",
        "\n",
        "print(\"Header Content: \",r.header['content-type'])\n",
        "\n",
        "print(r.text)"
      ],
      "execution_count": 8,
      "outputs": [
        {
          "output_type": "stream",
          "text": [
            "Statuscode:  200\n"
          ],
          "name": "stdout"
        },
        {
          "output_type": "error",
          "ename": "AttributeError",
          "evalue": "ignored",
          "traceback": [
            "\u001b[0;31m---------------------------------------------------------------------------\u001b[0m",
            "\u001b[0;31mAttributeError\u001b[0m                            Traceback (most recent call last)",
            "\u001b[0;32m<ipython-input-8-958621341694>\u001b[0m in \u001b[0;36m<module>\u001b[0;34m()\u001b[0m\n\u001b[1;32m      4\u001b[0m \u001b[0mprint\u001b[0m\u001b[0;34m(\u001b[0m\u001b[0;34m\"Statuscode: \"\u001b[0m\u001b[0;34m,\u001b[0m\u001b[0mr\u001b[0m\u001b[0;34m.\u001b[0m\u001b[0mstatus_code\u001b[0m\u001b[0;34m)\u001b[0m\u001b[0;34m\u001b[0m\u001b[0;34m\u001b[0m\u001b[0m\n\u001b[1;32m      5\u001b[0m \u001b[0;34m\u001b[0m\u001b[0m\n\u001b[0;32m----> 6\u001b[0;31m \u001b[0mprint\u001b[0m\u001b[0;34m(\u001b[0m\u001b[0;34m\"Header Content: \"\u001b[0m\u001b[0;34m,\u001b[0m\u001b[0mr\u001b[0m\u001b[0;34m.\u001b[0m\u001b[0mheader\u001b[0m\u001b[0;34m[\u001b[0m\u001b[0;34m'content-type'\u001b[0m\u001b[0;34m]\u001b[0m\u001b[0;34m)\u001b[0m\u001b[0;34m\u001b[0m\u001b[0;34m\u001b[0m\u001b[0m\n\u001b[0m\u001b[1;32m      7\u001b[0m \u001b[0;34m\u001b[0m\u001b[0m\n\u001b[1;32m      8\u001b[0m \u001b[0mprint\u001b[0m\u001b[0;34m(\u001b[0m\u001b[0mr\u001b[0m\u001b[0;34m.\u001b[0m\u001b[0mtext\u001b[0m\u001b[0;34m)\u001b[0m\u001b[0;34m\u001b[0m\u001b[0;34m\u001b[0m\u001b[0m\n",
            "\u001b[0;31mAttributeError\u001b[0m: 'Response' object has no attribute 'header'"
          ]
        }
      ]
    },
    {
      "cell_type": "markdown",
      "metadata": {
        "id": "OfbXrIIBCH7b"
      },
      "source": [
        "(b) Write a simple script that serves that serves a simple HTML page"
      ]
    },
    {
      "cell_type": "code",
      "metadata": {
        "id": "uNgGghMBCY6M",
        "colab": {
          "base_uri": "https://localhost:8080/"
        },
        "outputId": "a503f928-939e-472a-ca22-19e1a5b7578f"
      },
      "source": [
        "from flask import Flask,render_template\n",
        "app=Flask(__name__)\n",
        "print(app)\n",
        "@app.route(\"/\")\n",
        "\n",
        "def main():\n",
        "  return render_template('login.html')\n",
        "\n",
        "  if name==\"__main__\":\n",
        "    app.run(host=\"127.0.0.1\",port=2500)"
      ],
      "execution_count": 11,
      "outputs": [
        {
          "output_type": "stream",
          "text": [
            "<Flask '__main__'>\n"
          ],
          "name": "stdout"
        }
      ]
    },
    {
      "cell_type": "markdown",
      "metadata": {
        "id": "OeIJWgLcDYUC"
      },
      "source": [
        "**exercise 13**\n",
        "\n",
        "(a) Class variables and instances variable and illustration of the self-variable\n",
        "1)"
      ]
    },
    {
      "cell_type": "code",
      "metadata": {
        "id": "6K_HtPvLDpZg",
        "colab": {
          "base_uri": "https://localhost:8080/",
          "height": 248
        },
        "outputId": "c219bfd7-f3de-4951-b7e0-bb70700f1670"
      },
      "source": [
        "class Robot:\n",
        "  what=\"Machine\"\n",
        "  name=\"Chitti\"\n",
        "  version=1.0\n",
        "  speed=\"1THz\"\n",
        "  memory=\"1ZB\"\n",
        "\n",
        "def updated(upd):\n",
        "  upd.version-2.0\n",
        "  upd.speed=\"2THz\"\n",
        "  upd.memory=\"2ZB\"\n",
        "\n",
        "def disp(self):\n",
        "  print(\"Myself is a\",robj.what)\n",
        "  print(\"MyName is a\",robj.name)\n",
        "  print(\"Version:\",robj.version)\n",
        "  print(\"Speed:\",robj.speed)\n",
        "  print(\"Memory:\",robj.memory)\n",
        "\n",
        "robj=Robot()\n",
        "robj.disp()\n",
        "print(\".......Update.......\")\n",
        "robj.update()\n",
        "robj.disp()\n",
        "\n"
      ],
      "execution_count": 15,
      "outputs": [
        {
          "output_type": "stream",
          "text": [
            ".......Update.......\n"
          ],
          "name": "stdout"
        },
        {
          "output_type": "error",
          "ename": "AttributeError",
          "evalue": "ignored",
          "traceback": [
            "\u001b[0;31m---------------------------------------------------------------------------\u001b[0m",
            "\u001b[0;31mAttributeError\u001b[0m                            Traceback (most recent call last)",
            "\u001b[0;32m<ipython-input-15-2563ccf6d494>\u001b[0m in \u001b[0;36m<module>\u001b[0;34m()\u001b[0m\n\u001b[1;32m     21\u001b[0m \u001b[0;34m\u001b[0m\u001b[0m\n\u001b[1;32m     22\u001b[0m \u001b[0mprint\u001b[0m\u001b[0;34m(\u001b[0m\u001b[0;34m\".......Update.......\"\u001b[0m\u001b[0;34m)\u001b[0m\u001b[0;34m\u001b[0m\u001b[0;34m\u001b[0m\u001b[0m\n\u001b[0;32m---> 23\u001b[0;31m \u001b[0mrobj\u001b[0m\u001b[0;34m.\u001b[0m\u001b[0mupdate\u001b[0m\u001b[0;34m(\u001b[0m\u001b[0;34m)\u001b[0m\u001b[0;34m\u001b[0m\u001b[0;34m\u001b[0m\u001b[0m\n\u001b[0m\u001b[1;32m     24\u001b[0m \u001b[0mrobj\u001b[0m\u001b[0;34m.\u001b[0m\u001b[0mdisp\u001b[0m\u001b[0;34m(\u001b[0m\u001b[0;34m)\u001b[0m\u001b[0;34m\u001b[0m\u001b[0;34m\u001b[0m\u001b[0m\n\u001b[1;32m     25\u001b[0m \u001b[0;34m\u001b[0m\u001b[0m\n",
            "\u001b[0;31mAttributeError\u001b[0m: 'Robot' object has no attribute 'update'"
          ]
        }
      ]
    },
    {
      "cell_type": "markdown",
      "metadata": {
        "id": "H1YNRlrSF4OX"
      },
      "source": [
        "ATM Machine"
      ]
    },
    {
      "cell_type": "code",
      "metadata": {
        "id": "g0vR8I9nF8ou",
        "colab": {
          "base_uri": "https://localhost:8080/"
        },
        "outputId": "1cb336cd-2ff8-4158-a56f-e3046be376a9"
      },
      "source": [
        "class ATM:\n",
        "  def init(self):\n",
        "   self.balance=0\n",
        "   \n",
        "  def enquire(self):\n",
        "    print(\"Balance: \",balance)\n",
        "\n",
        "  def deposit(self):\n",
        "    amount=int(input(\"Enter the Deposit Amount : \"))\n",
        "    self.balance+=amount\n",
        "    self.enquire()\n",
        "\n",
        "  def withdraw(self):\n",
        "    amount=int(input(\"Enter the Withdraw Amount: \"))\n",
        "    if self.balance<amount:\n",
        "      print(\"Insufficient Balance....!\")\n",
        "    else:\n",
        "      self.balance-=amount\n",
        "      self.enquire()\n",
        "\n",
        "aobj=ATM()\n",
        "while(True):\n",
        "  print(\"****Menu****\")\n",
        "  print(\"1.Deposit\")\n",
        "  print(\"2.Withdraw\")\n",
        "  print(\"3.Balance\")\n",
        "  print(\"0.Exit\")\n",
        "  ch=int(input(\"Enter Your Choice: \"))\n",
        "  if ch==0:\n",
        "    break\n",
        "  elif ch==1:\n",
        "      aobj.deposit()\n",
        "  elif ch==2:\n",
        "      aobj.withdraw()\n",
        "  elif ch==3:\n",
        "      aobj.enquire()\n",
        "  else:\n",
        "      print(\"Invalid choice:\")\n",
        "      pass"
      ],
      "execution_count": null,
      "outputs": [
        {
          "output_type": "stream",
          "text": [
            "****Menu****\n",
            "1.Deposit\n",
            "2.Withdraw\n",
            "3.Balance\n",
            "0.Exit\n"
          ],
          "name": "stdout"
        }
      ]
    }
  ]
}